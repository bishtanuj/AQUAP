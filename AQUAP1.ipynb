{
  "cells": [
    {
      "cell_type": "markdown",
      "metadata": {
        "id": "view-in-github",
        "colab_type": "text"
      },
      "source": [
        "<a href=\"https://colab.research.google.com/github/bishtanuj/AQUAP/blob/main/AQUAP1.ipynb\" target=\"_parent\"><img src=\"https://colab.research.google.com/assets/colab-badge.svg\" alt=\"Open In Colab\"/></a>"
      ]
    },
    {
      "cell_type": "markdown",
      "metadata": {
        "id": "FGZZcK3j9ihM"
      },
      "source": [
        "\n",
        "**Devfolio Hackathon**\n",
        "\n",
        "**Project Title:** *_Air Quality Prediction_*\n",
        "\n",
        "**Team Name:** *_Code Mania_*\n",
        "\n",
        "**About Dataset**\n",
        "\n",
        "**T:** Average Temperature (°C) <br>\n",
        "**TM:** Maximum temperature (°C) <br>\n",
        "**Tm:** Minimum temperature (°C) <br>\n",
        "**SLP:** Atmospheric pressure at sea level (hPa) <br>\n",
        "**H:** Average relative humidity (%) <br>\n",
        "**VV:** Average visibility (Km) <br>\n",
        "**V:** Average wind speed (Km/h) <br>\n",
        "**VM:** Maximum sustained wind speed (Km/h) <br>\n",
        "**PM2.5:** AQI Data <br>\n",
        "**Conclusion:** Gives the conclusion about AQI"
      ]
    },
    {
      "cell_type": "markdown",
      "metadata": {
        "id": "GvjqC1no9ihO"
      },
      "source": [
        "### Setup the notebook"
      ]
    },
    {
      "cell_type": "code",
      "execution_count": null,
      "metadata": {
        "id": "D3XW8lAx9ihP"
      },
      "outputs": [],
      "source": [
        "import warnings\n",
        "warnings.filterwarnings('ignore')"
      ]
    },
    {
      "cell_type": "code",
      "execution_count": null,
      "metadata": {
        "id": "WsLjBwCa9ihQ",
        "outputId": "9aefe474-1c9d-41b1-81cc-d0cb3e239148",
        "colab": {
          "base_uri": "https://localhost:8080/"
        }
      },
      "outputs": [
        {
          "output_type": "stream",
          "name": "stdout",
          "text": [
            "Setup Complete\n"
          ]
        }
      ],
      "source": [
        "import pandas as pd\n",
        "import numpy as np\n",
        "import matplotlib.pyplot as plt\n",
        "print(\"Setup Complete\")"
      ]
    },
    {
      "cell_type": "markdown",
      "metadata": {
        "id": "YK4kG-L99ihR"
      },
      "source": [
        "\n",
        "### Load and examine the data\n",
        "\n",
        "In this step we will load the data\n",
        "* Load the data into DataFrame called `aquap_data`.\n",
        "* The corresponding filepath is `aquap_filepath`.\n",
        "\n"
      ]
    },
    {
      "cell_type": "code",
      "execution_count": null,
      "metadata": {
        "id": "YLLNi-WE9ihR"
      },
      "outputs": [],
      "source": [
        "# Path of the file to read\n",
        "aquap_filepath = \"/content/dataset.csv\"\n",
        "\n",
        "# Read the file into a variable aquap_data\n",
        "aquap_data = pd.read_csv(aquap_filepath)"
      ]
    },
    {
      "cell_type": "code",
      "execution_count": null,
      "metadata": {
        "id": "lm4vKtX99ihS",
        "outputId": "41aaf9da-145b-479b-ddcf-24f075625151",
        "colab": {
          "base_uri": "https://localhost:8080/",
          "height": 424
        }
      },
      "outputs": [
        {
          "output_type": "execute_result",
          "data": {
            "text/plain": [
              "      Unnamed: 0     T    TM    Tm     SLP   H   VV     V    VM      PM 2.5  \\\n",
              "0              0   7.4   9.8   4.8  1017.6  93  0.5   4.3   9.4  219.720833   \n",
              "1              1   7.8  12.7   4.4  1018.5  87  0.6   4.4  11.1  182.187500   \n",
              "2              2   6.7  13.4   2.4  1019.4  82  0.6   4.8  11.1  154.037500   \n",
              "3              3   8.6  15.5   3.3  1018.7  72  0.8   8.1  20.6  223.208333   \n",
              "4              4  12.4  20.9   4.4  1017.3  61  1.3   8.7  22.2  200.645833   \n",
              "...          ...   ...   ...   ...     ...  ..  ...   ...   ...         ...   \n",
              "1088        1088  18.1  24.0  11.2  1015.4  56  1.8  15.9  25.9  288.416667   \n",
              "1089        1089  17.8  25.0  10.7  1015.8  54  2.3   9.4  22.2  256.833333   \n",
              "1090        1090  13.9  24.5  11.4  1015.0  95  0.6   8.7  14.8  169.000000   \n",
              "1091        1091  16.3  23.0   9.8  1016.9  78  1.1   7.4  16.5  186.041667   \n",
              "1092        1092  16.3  23.4   9.0  1017.3  68  1.3   7.8  18.3  185.583333   \n",
              "\n",
              "     Conclusion  \n",
              "0          Poor  \n",
              "1      Moderate  \n",
              "2      Moderate  \n",
              "3          Poor  \n",
              "4          Poor  \n",
              "...         ...  \n",
              "1088       Poor  \n",
              "1089       Poor  \n",
              "1090   Moderate  \n",
              "1091   Moderate  \n",
              "1092   Moderate  \n",
              "\n",
              "[1093 rows x 11 columns]"
            ],
            "text/html": [
              "\n",
              "  <div id=\"df-718c47fe-4718-4938-a077-ccb9eff4fa98\">\n",
              "    <div class=\"colab-df-container\">\n",
              "      <div>\n",
              "<style scoped>\n",
              "    .dataframe tbody tr th:only-of-type {\n",
              "        vertical-align: middle;\n",
              "    }\n",
              "\n",
              "    .dataframe tbody tr th {\n",
              "        vertical-align: top;\n",
              "    }\n",
              "\n",
              "    .dataframe thead th {\n",
              "        text-align: right;\n",
              "    }\n",
              "</style>\n",
              "<table border=\"1\" class=\"dataframe\">\n",
              "  <thead>\n",
              "    <tr style=\"text-align: right;\">\n",
              "      <th></th>\n",
              "      <th>Unnamed: 0</th>\n",
              "      <th>T</th>\n",
              "      <th>TM</th>\n",
              "      <th>Tm</th>\n",
              "      <th>SLP</th>\n",
              "      <th>H</th>\n",
              "      <th>VV</th>\n",
              "      <th>V</th>\n",
              "      <th>VM</th>\n",
              "      <th>PM 2.5</th>\n",
              "      <th>Conclusion</th>\n",
              "    </tr>\n",
              "  </thead>\n",
              "  <tbody>\n",
              "    <tr>\n",
              "      <th>0</th>\n",
              "      <td>0</td>\n",
              "      <td>7.4</td>\n",
              "      <td>9.8</td>\n",
              "      <td>4.8</td>\n",
              "      <td>1017.6</td>\n",
              "      <td>93</td>\n",
              "      <td>0.5</td>\n",
              "      <td>4.3</td>\n",
              "      <td>9.4</td>\n",
              "      <td>219.720833</td>\n",
              "      <td>Poor</td>\n",
              "    </tr>\n",
              "    <tr>\n",
              "      <th>1</th>\n",
              "      <td>1</td>\n",
              "      <td>7.8</td>\n",
              "      <td>12.7</td>\n",
              "      <td>4.4</td>\n",
              "      <td>1018.5</td>\n",
              "      <td>87</td>\n",
              "      <td>0.6</td>\n",
              "      <td>4.4</td>\n",
              "      <td>11.1</td>\n",
              "      <td>182.187500</td>\n",
              "      <td>Moderate</td>\n",
              "    </tr>\n",
              "    <tr>\n",
              "      <th>2</th>\n",
              "      <td>2</td>\n",
              "      <td>6.7</td>\n",
              "      <td>13.4</td>\n",
              "      <td>2.4</td>\n",
              "      <td>1019.4</td>\n",
              "      <td>82</td>\n",
              "      <td>0.6</td>\n",
              "      <td>4.8</td>\n",
              "      <td>11.1</td>\n",
              "      <td>154.037500</td>\n",
              "      <td>Moderate</td>\n",
              "    </tr>\n",
              "    <tr>\n",
              "      <th>3</th>\n",
              "      <td>3</td>\n",
              "      <td>8.6</td>\n",
              "      <td>15.5</td>\n",
              "      <td>3.3</td>\n",
              "      <td>1018.7</td>\n",
              "      <td>72</td>\n",
              "      <td>0.8</td>\n",
              "      <td>8.1</td>\n",
              "      <td>20.6</td>\n",
              "      <td>223.208333</td>\n",
              "      <td>Poor</td>\n",
              "    </tr>\n",
              "    <tr>\n",
              "      <th>4</th>\n",
              "      <td>4</td>\n",
              "      <td>12.4</td>\n",
              "      <td>20.9</td>\n",
              "      <td>4.4</td>\n",
              "      <td>1017.3</td>\n",
              "      <td>61</td>\n",
              "      <td>1.3</td>\n",
              "      <td>8.7</td>\n",
              "      <td>22.2</td>\n",
              "      <td>200.645833</td>\n",
              "      <td>Poor</td>\n",
              "    </tr>\n",
              "    <tr>\n",
              "      <th>...</th>\n",
              "      <td>...</td>\n",
              "      <td>...</td>\n",
              "      <td>...</td>\n",
              "      <td>...</td>\n",
              "      <td>...</td>\n",
              "      <td>...</td>\n",
              "      <td>...</td>\n",
              "      <td>...</td>\n",
              "      <td>...</td>\n",
              "      <td>...</td>\n",
              "      <td>...</td>\n",
              "    </tr>\n",
              "    <tr>\n",
              "      <th>1088</th>\n",
              "      <td>1088</td>\n",
              "      <td>18.1</td>\n",
              "      <td>24.0</td>\n",
              "      <td>11.2</td>\n",
              "      <td>1015.4</td>\n",
              "      <td>56</td>\n",
              "      <td>1.8</td>\n",
              "      <td>15.9</td>\n",
              "      <td>25.9</td>\n",
              "      <td>288.416667</td>\n",
              "      <td>Poor</td>\n",
              "    </tr>\n",
              "    <tr>\n",
              "      <th>1089</th>\n",
              "      <td>1089</td>\n",
              "      <td>17.8</td>\n",
              "      <td>25.0</td>\n",
              "      <td>10.7</td>\n",
              "      <td>1015.8</td>\n",
              "      <td>54</td>\n",
              "      <td>2.3</td>\n",
              "      <td>9.4</td>\n",
              "      <td>22.2</td>\n",
              "      <td>256.833333</td>\n",
              "      <td>Poor</td>\n",
              "    </tr>\n",
              "    <tr>\n",
              "      <th>1090</th>\n",
              "      <td>1090</td>\n",
              "      <td>13.9</td>\n",
              "      <td>24.5</td>\n",
              "      <td>11.4</td>\n",
              "      <td>1015.0</td>\n",
              "      <td>95</td>\n",
              "      <td>0.6</td>\n",
              "      <td>8.7</td>\n",
              "      <td>14.8</td>\n",
              "      <td>169.000000</td>\n",
              "      <td>Moderate</td>\n",
              "    </tr>\n",
              "    <tr>\n",
              "      <th>1091</th>\n",
              "      <td>1091</td>\n",
              "      <td>16.3</td>\n",
              "      <td>23.0</td>\n",
              "      <td>9.8</td>\n",
              "      <td>1016.9</td>\n",
              "      <td>78</td>\n",
              "      <td>1.1</td>\n",
              "      <td>7.4</td>\n",
              "      <td>16.5</td>\n",
              "      <td>186.041667</td>\n",
              "      <td>Moderate</td>\n",
              "    </tr>\n",
              "    <tr>\n",
              "      <th>1092</th>\n",
              "      <td>1092</td>\n",
              "      <td>16.3</td>\n",
              "      <td>23.4</td>\n",
              "      <td>9.0</td>\n",
              "      <td>1017.3</td>\n",
              "      <td>68</td>\n",
              "      <td>1.3</td>\n",
              "      <td>7.8</td>\n",
              "      <td>18.3</td>\n",
              "      <td>185.583333</td>\n",
              "      <td>Moderate</td>\n",
              "    </tr>\n",
              "  </tbody>\n",
              "</table>\n",
              "<p>1093 rows × 11 columns</p>\n",
              "</div>\n",
              "      <button class=\"colab-df-convert\" onclick=\"convertToInteractive('df-718c47fe-4718-4938-a077-ccb9eff4fa98')\"\n",
              "              title=\"Convert this dataframe to an interactive table.\"\n",
              "              style=\"display:none;\">\n",
              "        \n",
              "  <svg xmlns=\"http://www.w3.org/2000/svg\" height=\"24px\"viewBox=\"0 0 24 24\"\n",
              "       width=\"24px\">\n",
              "    <path d=\"M0 0h24v24H0V0z\" fill=\"none\"/>\n",
              "    <path d=\"M18.56 5.44l.94 2.06.94-2.06 2.06-.94-2.06-.94-.94-2.06-.94 2.06-2.06.94zm-11 1L8.5 8.5l.94-2.06 2.06-.94-2.06-.94L8.5 2.5l-.94 2.06-2.06.94zm10 10l.94 2.06.94-2.06 2.06-.94-2.06-.94-.94-2.06-.94 2.06-2.06.94z\"/><path d=\"M17.41 7.96l-1.37-1.37c-.4-.4-.92-.59-1.43-.59-.52 0-1.04.2-1.43.59L10.3 9.45l-7.72 7.72c-.78.78-.78 2.05 0 2.83L4 21.41c.39.39.9.59 1.41.59.51 0 1.02-.2 1.41-.59l7.78-7.78 2.81-2.81c.8-.78.8-2.07 0-2.86zM5.41 20L4 18.59l7.72-7.72 1.47 1.35L5.41 20z\"/>\n",
              "  </svg>\n",
              "      </button>\n",
              "      \n",
              "  <style>\n",
              "    .colab-df-container {\n",
              "      display:flex;\n",
              "      flex-wrap:wrap;\n",
              "      gap: 12px;\n",
              "    }\n",
              "\n",
              "    .colab-df-convert {\n",
              "      background-color: #E8F0FE;\n",
              "      border: none;\n",
              "      border-radius: 50%;\n",
              "      cursor: pointer;\n",
              "      display: none;\n",
              "      fill: #1967D2;\n",
              "      height: 32px;\n",
              "      padding: 0 0 0 0;\n",
              "      width: 32px;\n",
              "    }\n",
              "\n",
              "    .colab-df-convert:hover {\n",
              "      background-color: #E2EBFA;\n",
              "      box-shadow: 0px 1px 2px rgba(60, 64, 67, 0.3), 0px 1px 3px 1px rgba(60, 64, 67, 0.15);\n",
              "      fill: #174EA6;\n",
              "    }\n",
              "\n",
              "    [theme=dark] .colab-df-convert {\n",
              "      background-color: #3B4455;\n",
              "      fill: #D2E3FC;\n",
              "    }\n",
              "\n",
              "    [theme=dark] .colab-df-convert:hover {\n",
              "      background-color: #434B5C;\n",
              "      box-shadow: 0px 1px 3px 1px rgba(0, 0, 0, 0.15);\n",
              "      filter: drop-shadow(0px 1px 2px rgba(0, 0, 0, 0.3));\n",
              "      fill: #FFFFFF;\n",
              "    }\n",
              "  </style>\n",
              "\n",
              "      <script>\n",
              "        const buttonEl =\n",
              "          document.querySelector('#df-718c47fe-4718-4938-a077-ccb9eff4fa98 button.colab-df-convert');\n",
              "        buttonEl.style.display =\n",
              "          google.colab.kernel.accessAllowed ? 'block' : 'none';\n",
              "\n",
              "        async function convertToInteractive(key) {\n",
              "          const element = document.querySelector('#df-718c47fe-4718-4938-a077-ccb9eff4fa98');\n",
              "          const dataTable =\n",
              "            await google.colab.kernel.invokeFunction('convertToInteractive',\n",
              "                                                     [key], {});\n",
              "          if (!dataTable) return;\n",
              "\n",
              "          const docLinkHtml = 'Like what you see? Visit the ' +\n",
              "            '<a target=\"_blank\" href=https://colab.research.google.com/notebooks/data_table.ipynb>data table notebook</a>'\n",
              "            + ' to learn more about interactive tables.';\n",
              "          element.innerHTML = '';\n",
              "          dataTable['output_type'] = 'display_data';\n",
              "          await google.colab.output.renderOutput(dataTable, element);\n",
              "          const docLink = document.createElement('div');\n",
              "          docLink.innerHTML = docLinkHtml;\n",
              "          element.appendChild(docLink);\n",
              "        }\n",
              "      </script>\n",
              "    </div>\n",
              "  </div>\n",
              "  "
            ]
          },
          "metadata": {},
          "execution_count": 80
        }
      ],
      "source": [
        "# Checking that the dataset loaded completely\n",
        "aquap_data"
      ]
    },
    {
      "cell_type": "markdown",
      "metadata": {
        "id": "oCThahfj9ihT"
      },
      "source": [
        "##### Removing the `Unnamed: 0` column from the dataset"
      ]
    },
    {
      "cell_type": "code",
      "execution_count": null,
      "metadata": {
        "id": "V3Ww-8-D9ihU"
      },
      "outputs": [],
      "source": [
        "aquap_data = aquap_data.drop(columns='Unnamed: 0')"
      ]
    },
    {
      "cell_type": "code",
      "execution_count": null,
      "metadata": {
        "id": "ZLCO08Nw9ihV",
        "outputId": "b62210f0-d609-41c1-a1a1-260737ff48e8",
        "colab": {
          "base_uri": "https://localhost:8080/",
          "height": 206
        }
      },
      "outputs": [
        {
          "output_type": "execute_result",
          "data": {
            "text/plain": [
              "      T    TM   Tm     SLP   H   VV    V    VM      PM 2.5 Conclusion\n",
              "0   7.4   9.8  4.8  1017.6  93  0.5  4.3   9.4  219.720833       Poor\n",
              "1   7.8  12.7  4.4  1018.5  87  0.6  4.4  11.1  182.187500   Moderate\n",
              "2   6.7  13.4  2.4  1019.4  82  0.6  4.8  11.1  154.037500   Moderate\n",
              "3   8.6  15.5  3.3  1018.7  72  0.8  8.1  20.6  223.208333       Poor\n",
              "4  12.4  20.9  4.4  1017.3  61  1.3  8.7  22.2  200.645833       Poor"
            ],
            "text/html": [
              "\n",
              "  <div id=\"df-a261fec7-eeba-45fd-9af7-984e1da41736\">\n",
              "    <div class=\"colab-df-container\">\n",
              "      <div>\n",
              "<style scoped>\n",
              "    .dataframe tbody tr th:only-of-type {\n",
              "        vertical-align: middle;\n",
              "    }\n",
              "\n",
              "    .dataframe tbody tr th {\n",
              "        vertical-align: top;\n",
              "    }\n",
              "\n",
              "    .dataframe thead th {\n",
              "        text-align: right;\n",
              "    }\n",
              "</style>\n",
              "<table border=\"1\" class=\"dataframe\">\n",
              "  <thead>\n",
              "    <tr style=\"text-align: right;\">\n",
              "      <th></th>\n",
              "      <th>T</th>\n",
              "      <th>TM</th>\n",
              "      <th>Tm</th>\n",
              "      <th>SLP</th>\n",
              "      <th>H</th>\n",
              "      <th>VV</th>\n",
              "      <th>V</th>\n",
              "      <th>VM</th>\n",
              "      <th>PM 2.5</th>\n",
              "      <th>Conclusion</th>\n",
              "    </tr>\n",
              "  </thead>\n",
              "  <tbody>\n",
              "    <tr>\n",
              "      <th>0</th>\n",
              "      <td>7.4</td>\n",
              "      <td>9.8</td>\n",
              "      <td>4.8</td>\n",
              "      <td>1017.6</td>\n",
              "      <td>93</td>\n",
              "      <td>0.5</td>\n",
              "      <td>4.3</td>\n",
              "      <td>9.4</td>\n",
              "      <td>219.720833</td>\n",
              "      <td>Poor</td>\n",
              "    </tr>\n",
              "    <tr>\n",
              "      <th>1</th>\n",
              "      <td>7.8</td>\n",
              "      <td>12.7</td>\n",
              "      <td>4.4</td>\n",
              "      <td>1018.5</td>\n",
              "      <td>87</td>\n",
              "      <td>0.6</td>\n",
              "      <td>4.4</td>\n",
              "      <td>11.1</td>\n",
              "      <td>182.187500</td>\n",
              "      <td>Moderate</td>\n",
              "    </tr>\n",
              "    <tr>\n",
              "      <th>2</th>\n",
              "      <td>6.7</td>\n",
              "      <td>13.4</td>\n",
              "      <td>2.4</td>\n",
              "      <td>1019.4</td>\n",
              "      <td>82</td>\n",
              "      <td>0.6</td>\n",
              "      <td>4.8</td>\n",
              "      <td>11.1</td>\n",
              "      <td>154.037500</td>\n",
              "      <td>Moderate</td>\n",
              "    </tr>\n",
              "    <tr>\n",
              "      <th>3</th>\n",
              "      <td>8.6</td>\n",
              "      <td>15.5</td>\n",
              "      <td>3.3</td>\n",
              "      <td>1018.7</td>\n",
              "      <td>72</td>\n",
              "      <td>0.8</td>\n",
              "      <td>8.1</td>\n",
              "      <td>20.6</td>\n",
              "      <td>223.208333</td>\n",
              "      <td>Poor</td>\n",
              "    </tr>\n",
              "    <tr>\n",
              "      <th>4</th>\n",
              "      <td>12.4</td>\n",
              "      <td>20.9</td>\n",
              "      <td>4.4</td>\n",
              "      <td>1017.3</td>\n",
              "      <td>61</td>\n",
              "      <td>1.3</td>\n",
              "      <td>8.7</td>\n",
              "      <td>22.2</td>\n",
              "      <td>200.645833</td>\n",
              "      <td>Poor</td>\n",
              "    </tr>\n",
              "  </tbody>\n",
              "</table>\n",
              "</div>\n",
              "      <button class=\"colab-df-convert\" onclick=\"convertToInteractive('df-a261fec7-eeba-45fd-9af7-984e1da41736')\"\n",
              "              title=\"Convert this dataframe to an interactive table.\"\n",
              "              style=\"display:none;\">\n",
              "        \n",
              "  <svg xmlns=\"http://www.w3.org/2000/svg\" height=\"24px\"viewBox=\"0 0 24 24\"\n",
              "       width=\"24px\">\n",
              "    <path d=\"M0 0h24v24H0V0z\" fill=\"none\"/>\n",
              "    <path d=\"M18.56 5.44l.94 2.06.94-2.06 2.06-.94-2.06-.94-.94-2.06-.94 2.06-2.06.94zm-11 1L8.5 8.5l.94-2.06 2.06-.94-2.06-.94L8.5 2.5l-.94 2.06-2.06.94zm10 10l.94 2.06.94-2.06 2.06-.94-2.06-.94-.94-2.06-.94 2.06-2.06.94z\"/><path d=\"M17.41 7.96l-1.37-1.37c-.4-.4-.92-.59-1.43-.59-.52 0-1.04.2-1.43.59L10.3 9.45l-7.72 7.72c-.78.78-.78 2.05 0 2.83L4 21.41c.39.39.9.59 1.41.59.51 0 1.02-.2 1.41-.59l7.78-7.78 2.81-2.81c.8-.78.8-2.07 0-2.86zM5.41 20L4 18.59l7.72-7.72 1.47 1.35L5.41 20z\"/>\n",
              "  </svg>\n",
              "      </button>\n",
              "      \n",
              "  <style>\n",
              "    .colab-df-container {\n",
              "      display:flex;\n",
              "      flex-wrap:wrap;\n",
              "      gap: 12px;\n",
              "    }\n",
              "\n",
              "    .colab-df-convert {\n",
              "      background-color: #E8F0FE;\n",
              "      border: none;\n",
              "      border-radius: 50%;\n",
              "      cursor: pointer;\n",
              "      display: none;\n",
              "      fill: #1967D2;\n",
              "      height: 32px;\n",
              "      padding: 0 0 0 0;\n",
              "      width: 32px;\n",
              "    }\n",
              "\n",
              "    .colab-df-convert:hover {\n",
              "      background-color: #E2EBFA;\n",
              "      box-shadow: 0px 1px 2px rgba(60, 64, 67, 0.3), 0px 1px 3px 1px rgba(60, 64, 67, 0.15);\n",
              "      fill: #174EA6;\n",
              "    }\n",
              "\n",
              "    [theme=dark] .colab-df-convert {\n",
              "      background-color: #3B4455;\n",
              "      fill: #D2E3FC;\n",
              "    }\n",
              "\n",
              "    [theme=dark] .colab-df-convert:hover {\n",
              "      background-color: #434B5C;\n",
              "      box-shadow: 0px 1px 3px 1px rgba(0, 0, 0, 0.15);\n",
              "      filter: drop-shadow(0px 1px 2px rgba(0, 0, 0, 0.3));\n",
              "      fill: #FFFFFF;\n",
              "    }\n",
              "  </style>\n",
              "\n",
              "      <script>\n",
              "        const buttonEl =\n",
              "          document.querySelector('#df-a261fec7-eeba-45fd-9af7-984e1da41736 button.colab-df-convert');\n",
              "        buttonEl.style.display =\n",
              "          google.colab.kernel.accessAllowed ? 'block' : 'none';\n",
              "\n",
              "        async function convertToInteractive(key) {\n",
              "          const element = document.querySelector('#df-a261fec7-eeba-45fd-9af7-984e1da41736');\n",
              "          const dataTable =\n",
              "            await google.colab.kernel.invokeFunction('convertToInteractive',\n",
              "                                                     [key], {});\n",
              "          if (!dataTable) return;\n",
              "\n",
              "          const docLinkHtml = 'Like what you see? Visit the ' +\n",
              "            '<a target=\"_blank\" href=https://colab.research.google.com/notebooks/data_table.ipynb>data table notebook</a>'\n",
              "            + ' to learn more about interactive tables.';\n",
              "          element.innerHTML = '';\n",
              "          dataTable['output_type'] = 'display_data';\n",
              "          await google.colab.output.renderOutput(dataTable, element);\n",
              "          const docLink = document.createElement('div');\n",
              "          docLink.innerHTML = docLinkHtml;\n",
              "          element.appendChild(docLink);\n",
              "        }\n",
              "      </script>\n",
              "    </div>\n",
              "  </div>\n",
              "  "
            ]
          },
          "metadata": {},
          "execution_count": 82
        }
      ],
      "source": [
        "# Printing the first five rows of the dataset to check that the modification is done or not.\n",
        "aquap_data.head()"
      ]
    },
    {
      "cell_type": "code",
      "execution_count": null,
      "metadata": {
        "id": "IL0ZD6jQ9ihW",
        "outputId": "43b9854a-3953-41b1-b816-43bed01967f9",
        "colab": {
          "base_uri": "https://localhost:8080/"
        }
      },
      "outputs": [
        {
          "output_type": "execute_result",
          "data": {
            "text/plain": [
              "(1093, 10)"
            ]
          },
          "metadata": {},
          "execution_count": 83
        }
      ],
      "source": [
        "# Printing the number of dimensions of dataset - aquap_data\n",
        "aquap_data.shape"
      ]
    },
    {
      "cell_type": "markdown",
      "metadata": {
        "id": "CZWKY4879ihX"
      },
      "source": [
        "#### Creating Dummy Variables"
      ]
    },
    {
      "cell_type": "code",
      "execution_count": null,
      "metadata": {
        "id": "xCIN3IvW9ihY"
      },
      "outputs": [],
      "source": [
        "aquap_data['Good'] = aquap_data.Conclusion.map({'Good': 1, 'Satisfactory': 0, 'Moderate': 0, 'Poor': 0, 'Very Poor': 0, 'Severe': 0})\n",
        "aquap_data['Satisfactory'] = aquap_data.Conclusion.map({'Good': 0, 'Satisfactory': 1, 'Moderate': 0, 'Poor': 0, 'Very Poor': 0, 'Severe': 0})\n",
        "aquap_data['Moderate'] = aquap_data.Conclusion.map({'Good': 0, 'Satisfactory': 0, 'Moderate': 1, 'Poor': 0, 'Very Poor': 0, 'Severe': 0})\n",
        "aquap_data['Poor'] = aquap_data.Conclusion.map({'Good': 0, 'Satisfactory': 0, 'Moderate': 0, 'Poor': 1, 'Very Poor': 0, 'Severe': 0})\n",
        "aquap_data['Very Poor'] = aquap_data.Conclusion.map({'Good': 0, 'Satisfactory': 0, 'Moderate': 0, 'Poor': 0, 'Very Poor': 1, 'Severe': 0})\n",
        "aquap_data['Severe'] = aquap_data.Conclusion.map({'Good': 0, 'Satisfactory': 0, 'Moderate': 0, 'Poor': 0, 'Very Poor': 0, 'Severe': 1})"
      ]
    },
    {
      "cell_type": "code",
      "execution_count": null,
      "metadata": {
        "id": "SoouZZCC9ihZ",
        "outputId": "410eefbc-c74c-4526-b438-9dbaabd372f2",
        "colab": {
          "base_uri": "https://localhost:8080/",
          "height": 206
        }
      },
      "outputs": [
        {
          "output_type": "execute_result",
          "data": {
            "text/plain": [
              "      T    TM   Tm     SLP   H   VV    V    VM      PM 2.5 Conclusion  Good  \\\n",
              "0   7.4   9.8  4.8  1017.6  93  0.5  4.3   9.4  219.720833       Poor     0   \n",
              "1   7.8  12.7  4.4  1018.5  87  0.6  4.4  11.1  182.187500   Moderate     0   \n",
              "2   6.7  13.4  2.4  1019.4  82  0.6  4.8  11.1  154.037500   Moderate     0   \n",
              "3   8.6  15.5  3.3  1018.7  72  0.8  8.1  20.6  223.208333       Poor     0   \n",
              "4  12.4  20.9  4.4  1017.3  61  1.3  8.7  22.2  200.645833       Poor     0   \n",
              "\n",
              "   Satisfactory  Moderate  Poor  Very Poor  Severe  \n",
              "0             0         0     1          0       0  \n",
              "1             0         1     0          0       0  \n",
              "2             0         1     0          0       0  \n",
              "3             0         0     1          0       0  \n",
              "4             0         0     1          0       0  "
            ],
            "text/html": [
              "\n",
              "  <div id=\"df-e0152d19-8b05-48dc-ba62-23ab02e746b2\">\n",
              "    <div class=\"colab-df-container\">\n",
              "      <div>\n",
              "<style scoped>\n",
              "    .dataframe tbody tr th:only-of-type {\n",
              "        vertical-align: middle;\n",
              "    }\n",
              "\n",
              "    .dataframe tbody tr th {\n",
              "        vertical-align: top;\n",
              "    }\n",
              "\n",
              "    .dataframe thead th {\n",
              "        text-align: right;\n",
              "    }\n",
              "</style>\n",
              "<table border=\"1\" class=\"dataframe\">\n",
              "  <thead>\n",
              "    <tr style=\"text-align: right;\">\n",
              "      <th></th>\n",
              "      <th>T</th>\n",
              "      <th>TM</th>\n",
              "      <th>Tm</th>\n",
              "      <th>SLP</th>\n",
              "      <th>H</th>\n",
              "      <th>VV</th>\n",
              "      <th>V</th>\n",
              "      <th>VM</th>\n",
              "      <th>PM 2.5</th>\n",
              "      <th>Conclusion</th>\n",
              "      <th>Good</th>\n",
              "      <th>Satisfactory</th>\n",
              "      <th>Moderate</th>\n",
              "      <th>Poor</th>\n",
              "      <th>Very Poor</th>\n",
              "      <th>Severe</th>\n",
              "    </tr>\n",
              "  </thead>\n",
              "  <tbody>\n",
              "    <tr>\n",
              "      <th>0</th>\n",
              "      <td>7.4</td>\n",
              "      <td>9.8</td>\n",
              "      <td>4.8</td>\n",
              "      <td>1017.6</td>\n",
              "      <td>93</td>\n",
              "      <td>0.5</td>\n",
              "      <td>4.3</td>\n",
              "      <td>9.4</td>\n",
              "      <td>219.720833</td>\n",
              "      <td>Poor</td>\n",
              "      <td>0</td>\n",
              "      <td>0</td>\n",
              "      <td>0</td>\n",
              "      <td>1</td>\n",
              "      <td>0</td>\n",
              "      <td>0</td>\n",
              "    </tr>\n",
              "    <tr>\n",
              "      <th>1</th>\n",
              "      <td>7.8</td>\n",
              "      <td>12.7</td>\n",
              "      <td>4.4</td>\n",
              "      <td>1018.5</td>\n",
              "      <td>87</td>\n",
              "      <td>0.6</td>\n",
              "      <td>4.4</td>\n",
              "      <td>11.1</td>\n",
              "      <td>182.187500</td>\n",
              "      <td>Moderate</td>\n",
              "      <td>0</td>\n",
              "      <td>0</td>\n",
              "      <td>1</td>\n",
              "      <td>0</td>\n",
              "      <td>0</td>\n",
              "      <td>0</td>\n",
              "    </tr>\n",
              "    <tr>\n",
              "      <th>2</th>\n",
              "      <td>6.7</td>\n",
              "      <td>13.4</td>\n",
              "      <td>2.4</td>\n",
              "      <td>1019.4</td>\n",
              "      <td>82</td>\n",
              "      <td>0.6</td>\n",
              "      <td>4.8</td>\n",
              "      <td>11.1</td>\n",
              "      <td>154.037500</td>\n",
              "      <td>Moderate</td>\n",
              "      <td>0</td>\n",
              "      <td>0</td>\n",
              "      <td>1</td>\n",
              "      <td>0</td>\n",
              "      <td>0</td>\n",
              "      <td>0</td>\n",
              "    </tr>\n",
              "    <tr>\n",
              "      <th>3</th>\n",
              "      <td>8.6</td>\n",
              "      <td>15.5</td>\n",
              "      <td>3.3</td>\n",
              "      <td>1018.7</td>\n",
              "      <td>72</td>\n",
              "      <td>0.8</td>\n",
              "      <td>8.1</td>\n",
              "      <td>20.6</td>\n",
              "      <td>223.208333</td>\n",
              "      <td>Poor</td>\n",
              "      <td>0</td>\n",
              "      <td>0</td>\n",
              "      <td>0</td>\n",
              "      <td>1</td>\n",
              "      <td>0</td>\n",
              "      <td>0</td>\n",
              "    </tr>\n",
              "    <tr>\n",
              "      <th>4</th>\n",
              "      <td>12.4</td>\n",
              "      <td>20.9</td>\n",
              "      <td>4.4</td>\n",
              "      <td>1017.3</td>\n",
              "      <td>61</td>\n",
              "      <td>1.3</td>\n",
              "      <td>8.7</td>\n",
              "      <td>22.2</td>\n",
              "      <td>200.645833</td>\n",
              "      <td>Poor</td>\n",
              "      <td>0</td>\n",
              "      <td>0</td>\n",
              "      <td>0</td>\n",
              "      <td>1</td>\n",
              "      <td>0</td>\n",
              "      <td>0</td>\n",
              "    </tr>\n",
              "  </tbody>\n",
              "</table>\n",
              "</div>\n",
              "      <button class=\"colab-df-convert\" onclick=\"convertToInteractive('df-e0152d19-8b05-48dc-ba62-23ab02e746b2')\"\n",
              "              title=\"Convert this dataframe to an interactive table.\"\n",
              "              style=\"display:none;\">\n",
              "        \n",
              "  <svg xmlns=\"http://www.w3.org/2000/svg\" height=\"24px\"viewBox=\"0 0 24 24\"\n",
              "       width=\"24px\">\n",
              "    <path d=\"M0 0h24v24H0V0z\" fill=\"none\"/>\n",
              "    <path d=\"M18.56 5.44l.94 2.06.94-2.06 2.06-.94-2.06-.94-.94-2.06-.94 2.06-2.06.94zm-11 1L8.5 8.5l.94-2.06 2.06-.94-2.06-.94L8.5 2.5l-.94 2.06-2.06.94zm10 10l.94 2.06.94-2.06 2.06-.94-2.06-.94-.94-2.06-.94 2.06-2.06.94z\"/><path d=\"M17.41 7.96l-1.37-1.37c-.4-.4-.92-.59-1.43-.59-.52 0-1.04.2-1.43.59L10.3 9.45l-7.72 7.72c-.78.78-.78 2.05 0 2.83L4 21.41c.39.39.9.59 1.41.59.51 0 1.02-.2 1.41-.59l7.78-7.78 2.81-2.81c.8-.78.8-2.07 0-2.86zM5.41 20L4 18.59l7.72-7.72 1.47 1.35L5.41 20z\"/>\n",
              "  </svg>\n",
              "      </button>\n",
              "      \n",
              "  <style>\n",
              "    .colab-df-container {\n",
              "      display:flex;\n",
              "      flex-wrap:wrap;\n",
              "      gap: 12px;\n",
              "    }\n",
              "\n",
              "    .colab-df-convert {\n",
              "      background-color: #E8F0FE;\n",
              "      border: none;\n",
              "      border-radius: 50%;\n",
              "      cursor: pointer;\n",
              "      display: none;\n",
              "      fill: #1967D2;\n",
              "      height: 32px;\n",
              "      padding: 0 0 0 0;\n",
              "      width: 32px;\n",
              "    }\n",
              "\n",
              "    .colab-df-convert:hover {\n",
              "      background-color: #E2EBFA;\n",
              "      box-shadow: 0px 1px 2px rgba(60, 64, 67, 0.3), 0px 1px 3px 1px rgba(60, 64, 67, 0.15);\n",
              "      fill: #174EA6;\n",
              "    }\n",
              "\n",
              "    [theme=dark] .colab-df-convert {\n",
              "      background-color: #3B4455;\n",
              "      fill: #D2E3FC;\n",
              "    }\n",
              "\n",
              "    [theme=dark] .colab-df-convert:hover {\n",
              "      background-color: #434B5C;\n",
              "      box-shadow: 0px 1px 3px 1px rgba(0, 0, 0, 0.15);\n",
              "      filter: drop-shadow(0px 1px 2px rgba(0, 0, 0, 0.3));\n",
              "      fill: #FFFFFF;\n",
              "    }\n",
              "  </style>\n",
              "\n",
              "      <script>\n",
              "        const buttonEl =\n",
              "          document.querySelector('#df-e0152d19-8b05-48dc-ba62-23ab02e746b2 button.colab-df-convert');\n",
              "        buttonEl.style.display =\n",
              "          google.colab.kernel.accessAllowed ? 'block' : 'none';\n",
              "\n",
              "        async function convertToInteractive(key) {\n",
              "          const element = document.querySelector('#df-e0152d19-8b05-48dc-ba62-23ab02e746b2');\n",
              "          const dataTable =\n",
              "            await google.colab.kernel.invokeFunction('convertToInteractive',\n",
              "                                                     [key], {});\n",
              "          if (!dataTable) return;\n",
              "\n",
              "          const docLinkHtml = 'Like what you see? Visit the ' +\n",
              "            '<a target=\"_blank\" href=https://colab.research.google.com/notebooks/data_table.ipynb>data table notebook</a>'\n",
              "            + ' to learn more about interactive tables.';\n",
              "          element.innerHTML = '';\n",
              "          dataTable['output_type'] = 'display_data';\n",
              "          await google.colab.output.renderOutput(dataTable, element);\n",
              "          const docLink = document.createElement('div');\n",
              "          docLink.innerHTML = docLinkHtml;\n",
              "          element.appendChild(docLink);\n",
              "        }\n",
              "      </script>\n",
              "    </div>\n",
              "  </div>\n",
              "  "
            ]
          },
          "metadata": {},
          "execution_count": 85
        }
      ],
      "source": [
        "# Printing the first five rows of the dataset after creating the dummy variables\n",
        "aquap_data.head()"
      ]
    },
    {
      "cell_type": "markdown",
      "metadata": {
        "id": "wb7-dCx49ihZ"
      },
      "source": [
        "#### Removing `Conclusion` coulumn"
      ]
    },
    {
      "cell_type": "code",
      "execution_count": null,
      "metadata": {
        "id": "Hk2pz9ub9iha"
      },
      "outputs": [],
      "source": [
        "aquap_data = aquap_data.drop(columns='Conclusion')"
      ]
    },
    {
      "cell_type": "code",
      "execution_count": null,
      "metadata": {
        "id": "7rq7ICZQ9iha",
        "outputId": "1e256e5a-8816-4fd0-d617-cdeacc156540",
        "colab": {
          "base_uri": "https://localhost:8080/",
          "height": 206
        }
      },
      "outputs": [
        {
          "output_type": "execute_result",
          "data": {
            "text/plain": [
              "      T    TM   Tm     SLP   H   VV    V    VM      PM 2.5  Good  \\\n",
              "0   7.4   9.8  4.8  1017.6  93  0.5  4.3   9.4  219.720833     0   \n",
              "1   7.8  12.7  4.4  1018.5  87  0.6  4.4  11.1  182.187500     0   \n",
              "2   6.7  13.4  2.4  1019.4  82  0.6  4.8  11.1  154.037500     0   \n",
              "3   8.6  15.5  3.3  1018.7  72  0.8  8.1  20.6  223.208333     0   \n",
              "4  12.4  20.9  4.4  1017.3  61  1.3  8.7  22.2  200.645833     0   \n",
              "\n",
              "   Satisfactory  Moderate  Poor  Very Poor  Severe  \n",
              "0             0         0     1          0       0  \n",
              "1             0         1     0          0       0  \n",
              "2             0         1     0          0       0  \n",
              "3             0         0     1          0       0  \n",
              "4             0         0     1          0       0  "
            ],
            "text/html": [
              "\n",
              "  <div id=\"df-afc93f56-378f-44c4-9f7c-c4610515ef78\">\n",
              "    <div class=\"colab-df-container\">\n",
              "      <div>\n",
              "<style scoped>\n",
              "    .dataframe tbody tr th:only-of-type {\n",
              "        vertical-align: middle;\n",
              "    }\n",
              "\n",
              "    .dataframe tbody tr th {\n",
              "        vertical-align: top;\n",
              "    }\n",
              "\n",
              "    .dataframe thead th {\n",
              "        text-align: right;\n",
              "    }\n",
              "</style>\n",
              "<table border=\"1\" class=\"dataframe\">\n",
              "  <thead>\n",
              "    <tr style=\"text-align: right;\">\n",
              "      <th></th>\n",
              "      <th>T</th>\n",
              "      <th>TM</th>\n",
              "      <th>Tm</th>\n",
              "      <th>SLP</th>\n",
              "      <th>H</th>\n",
              "      <th>VV</th>\n",
              "      <th>V</th>\n",
              "      <th>VM</th>\n",
              "      <th>PM 2.5</th>\n",
              "      <th>Good</th>\n",
              "      <th>Satisfactory</th>\n",
              "      <th>Moderate</th>\n",
              "      <th>Poor</th>\n",
              "      <th>Very Poor</th>\n",
              "      <th>Severe</th>\n",
              "    </tr>\n",
              "  </thead>\n",
              "  <tbody>\n",
              "    <tr>\n",
              "      <th>0</th>\n",
              "      <td>7.4</td>\n",
              "      <td>9.8</td>\n",
              "      <td>4.8</td>\n",
              "      <td>1017.6</td>\n",
              "      <td>93</td>\n",
              "      <td>0.5</td>\n",
              "      <td>4.3</td>\n",
              "      <td>9.4</td>\n",
              "      <td>219.720833</td>\n",
              "      <td>0</td>\n",
              "      <td>0</td>\n",
              "      <td>0</td>\n",
              "      <td>1</td>\n",
              "      <td>0</td>\n",
              "      <td>0</td>\n",
              "    </tr>\n",
              "    <tr>\n",
              "      <th>1</th>\n",
              "      <td>7.8</td>\n",
              "      <td>12.7</td>\n",
              "      <td>4.4</td>\n",
              "      <td>1018.5</td>\n",
              "      <td>87</td>\n",
              "      <td>0.6</td>\n",
              "      <td>4.4</td>\n",
              "      <td>11.1</td>\n",
              "      <td>182.187500</td>\n",
              "      <td>0</td>\n",
              "      <td>0</td>\n",
              "      <td>1</td>\n",
              "      <td>0</td>\n",
              "      <td>0</td>\n",
              "      <td>0</td>\n",
              "    </tr>\n",
              "    <tr>\n",
              "      <th>2</th>\n",
              "      <td>6.7</td>\n",
              "      <td>13.4</td>\n",
              "      <td>2.4</td>\n",
              "      <td>1019.4</td>\n",
              "      <td>82</td>\n",
              "      <td>0.6</td>\n",
              "      <td>4.8</td>\n",
              "      <td>11.1</td>\n",
              "      <td>154.037500</td>\n",
              "      <td>0</td>\n",
              "      <td>0</td>\n",
              "      <td>1</td>\n",
              "      <td>0</td>\n",
              "      <td>0</td>\n",
              "      <td>0</td>\n",
              "    </tr>\n",
              "    <tr>\n",
              "      <th>3</th>\n",
              "      <td>8.6</td>\n",
              "      <td>15.5</td>\n",
              "      <td>3.3</td>\n",
              "      <td>1018.7</td>\n",
              "      <td>72</td>\n",
              "      <td>0.8</td>\n",
              "      <td>8.1</td>\n",
              "      <td>20.6</td>\n",
              "      <td>223.208333</td>\n",
              "      <td>0</td>\n",
              "      <td>0</td>\n",
              "      <td>0</td>\n",
              "      <td>1</td>\n",
              "      <td>0</td>\n",
              "      <td>0</td>\n",
              "    </tr>\n",
              "    <tr>\n",
              "      <th>4</th>\n",
              "      <td>12.4</td>\n",
              "      <td>20.9</td>\n",
              "      <td>4.4</td>\n",
              "      <td>1017.3</td>\n",
              "      <td>61</td>\n",
              "      <td>1.3</td>\n",
              "      <td>8.7</td>\n",
              "      <td>22.2</td>\n",
              "      <td>200.645833</td>\n",
              "      <td>0</td>\n",
              "      <td>0</td>\n",
              "      <td>0</td>\n",
              "      <td>1</td>\n",
              "      <td>0</td>\n",
              "      <td>0</td>\n",
              "    </tr>\n",
              "  </tbody>\n",
              "</table>\n",
              "</div>\n",
              "      <button class=\"colab-df-convert\" onclick=\"convertToInteractive('df-afc93f56-378f-44c4-9f7c-c4610515ef78')\"\n",
              "              title=\"Convert this dataframe to an interactive table.\"\n",
              "              style=\"display:none;\">\n",
              "        \n",
              "  <svg xmlns=\"http://www.w3.org/2000/svg\" height=\"24px\"viewBox=\"0 0 24 24\"\n",
              "       width=\"24px\">\n",
              "    <path d=\"M0 0h24v24H0V0z\" fill=\"none\"/>\n",
              "    <path d=\"M18.56 5.44l.94 2.06.94-2.06 2.06-.94-2.06-.94-.94-2.06-.94 2.06-2.06.94zm-11 1L8.5 8.5l.94-2.06 2.06-.94-2.06-.94L8.5 2.5l-.94 2.06-2.06.94zm10 10l.94 2.06.94-2.06 2.06-.94-2.06-.94-.94-2.06-.94 2.06-2.06.94z\"/><path d=\"M17.41 7.96l-1.37-1.37c-.4-.4-.92-.59-1.43-.59-.52 0-1.04.2-1.43.59L10.3 9.45l-7.72 7.72c-.78.78-.78 2.05 0 2.83L4 21.41c.39.39.9.59 1.41.59.51 0 1.02-.2 1.41-.59l7.78-7.78 2.81-2.81c.8-.78.8-2.07 0-2.86zM5.41 20L4 18.59l7.72-7.72 1.47 1.35L5.41 20z\"/>\n",
              "  </svg>\n",
              "      </button>\n",
              "      \n",
              "  <style>\n",
              "    .colab-df-container {\n",
              "      display:flex;\n",
              "      flex-wrap:wrap;\n",
              "      gap: 12px;\n",
              "    }\n",
              "\n",
              "    .colab-df-convert {\n",
              "      background-color: #E8F0FE;\n",
              "      border: none;\n",
              "      border-radius: 50%;\n",
              "      cursor: pointer;\n",
              "      display: none;\n",
              "      fill: #1967D2;\n",
              "      height: 32px;\n",
              "      padding: 0 0 0 0;\n",
              "      width: 32px;\n",
              "    }\n",
              "\n",
              "    .colab-df-convert:hover {\n",
              "      background-color: #E2EBFA;\n",
              "      box-shadow: 0px 1px 2px rgba(60, 64, 67, 0.3), 0px 1px 3px 1px rgba(60, 64, 67, 0.15);\n",
              "      fill: #174EA6;\n",
              "    }\n",
              "\n",
              "    [theme=dark] .colab-df-convert {\n",
              "      background-color: #3B4455;\n",
              "      fill: #D2E3FC;\n",
              "    }\n",
              "\n",
              "    [theme=dark] .colab-df-convert:hover {\n",
              "      background-color: #434B5C;\n",
              "      box-shadow: 0px 1px 3px 1px rgba(0, 0, 0, 0.15);\n",
              "      filter: drop-shadow(0px 1px 2px rgba(0, 0, 0, 0.3));\n",
              "      fill: #FFFFFF;\n",
              "    }\n",
              "  </style>\n",
              "\n",
              "      <script>\n",
              "        const buttonEl =\n",
              "          document.querySelector('#df-afc93f56-378f-44c4-9f7c-c4610515ef78 button.colab-df-convert');\n",
              "        buttonEl.style.display =\n",
              "          google.colab.kernel.accessAllowed ? 'block' : 'none';\n",
              "\n",
              "        async function convertToInteractive(key) {\n",
              "          const element = document.querySelector('#df-afc93f56-378f-44c4-9f7c-c4610515ef78');\n",
              "          const dataTable =\n",
              "            await google.colab.kernel.invokeFunction('convertToInteractive',\n",
              "                                                     [key], {});\n",
              "          if (!dataTable) return;\n",
              "\n",
              "          const docLinkHtml = 'Like what you see? Visit the ' +\n",
              "            '<a target=\"_blank\" href=https://colab.research.google.com/notebooks/data_table.ipynb>data table notebook</a>'\n",
              "            + ' to learn more about interactive tables.';\n",
              "          element.innerHTML = '';\n",
              "          dataTable['output_type'] = 'display_data';\n",
              "          await google.colab.output.renderOutput(dataTable, element);\n",
              "          const docLink = document.createElement('div');\n",
              "          docLink.innerHTML = docLinkHtml;\n",
              "          element.appendChild(docLink);\n",
              "        }\n",
              "      </script>\n",
              "    </div>\n",
              "  </div>\n",
              "  "
            ]
          },
          "metadata": {},
          "execution_count": 87
        }
      ],
      "source": [
        "# Printing the first five rows of the dataset after removing conclusion column\n",
        "aquap_data.head()"
      ]
    },
    {
      "cell_type": "code",
      "execution_count": null,
      "metadata": {
        "id": "n2n6EULc9iha",
        "outputId": "29493992-ae6e-4c75-e557-7b9781e65ce3",
        "colab": {
          "base_uri": "https://localhost:8080/",
          "height": 364
        }
      },
      "outputs": [
        {
          "output_type": "execute_result",
          "data": {
            "text/plain": [
              "                 T           TM           Tm          SLP            H  \\\n",
              "count  1093.000000  1093.000000  1093.000000  1093.000000  1093.000000   \n",
              "mean     26.009241    32.482251    19.460201  1008.081885    62.918573   \n",
              "std       7.237401     6.679078     7.438653     7.529237    15.709816   \n",
              "min       6.700000     9.800000     0.000000   991.500000    20.000000   \n",
              "25%      19.300000    27.800000    12.100000  1001.100000    54.000000   \n",
              "50%      28.200000    34.200000    21.200000  1008.100000    64.000000   \n",
              "75%      31.700000    37.000000    26.000000  1015.000000    74.000000   \n",
              "max      38.500000    45.500000    32.700000  1023.200000    98.000000   \n",
              "\n",
              "                VV            V           VM       PM 2.5         Good  \\\n",
              "count  1093.000000  1093.000000  1093.000000  1092.000000  1093.000000   \n",
              "mean      2.003111     6.751510    15.805124   109.090984     0.313815   \n",
              "std       0.747541     3.841137     7.308435    84.465790     0.464255   \n",
              "min       0.300000     0.400000     1.900000     0.000000     0.000000   \n",
              "25%       1.600000     3.700000    11.100000    41.833333     0.000000   \n",
              "50%       1.900000     6.500000    14.800000    83.458333     0.000000   \n",
              "75%       2.600000     9.100000    18.300000   158.291667     1.000000   \n",
              "max       5.800000    24.400000    57.600000   404.500000     1.000000   \n",
              "\n",
              "       Satisfactory     Moderate         Poor    Very Poor       Severe  \n",
              "count   1093.000000  1093.000000  1093.000000  1093.000000  1093.000000  \n",
              "mean       0.248856     0.268984     0.139067     0.025618     0.003660  \n",
              "std        0.432548     0.443635     0.346175     0.158064     0.060412  \n",
              "min        0.000000     0.000000     0.000000     0.000000     0.000000  \n",
              "25%        0.000000     0.000000     0.000000     0.000000     0.000000  \n",
              "50%        0.000000     0.000000     0.000000     0.000000     0.000000  \n",
              "75%        0.000000     1.000000     0.000000     0.000000     0.000000  \n",
              "max        1.000000     1.000000     1.000000     1.000000     1.000000  "
            ],
            "text/html": [
              "\n",
              "  <div id=\"df-8d9bd527-8197-4099-bf84-bea164a3e517\">\n",
              "    <div class=\"colab-df-container\">\n",
              "      <div>\n",
              "<style scoped>\n",
              "    .dataframe tbody tr th:only-of-type {\n",
              "        vertical-align: middle;\n",
              "    }\n",
              "\n",
              "    .dataframe tbody tr th {\n",
              "        vertical-align: top;\n",
              "    }\n",
              "\n",
              "    .dataframe thead th {\n",
              "        text-align: right;\n",
              "    }\n",
              "</style>\n",
              "<table border=\"1\" class=\"dataframe\">\n",
              "  <thead>\n",
              "    <tr style=\"text-align: right;\">\n",
              "      <th></th>\n",
              "      <th>T</th>\n",
              "      <th>TM</th>\n",
              "      <th>Tm</th>\n",
              "      <th>SLP</th>\n",
              "      <th>H</th>\n",
              "      <th>VV</th>\n",
              "      <th>V</th>\n",
              "      <th>VM</th>\n",
              "      <th>PM 2.5</th>\n",
              "      <th>Good</th>\n",
              "      <th>Satisfactory</th>\n",
              "      <th>Moderate</th>\n",
              "      <th>Poor</th>\n",
              "      <th>Very Poor</th>\n",
              "      <th>Severe</th>\n",
              "    </tr>\n",
              "  </thead>\n",
              "  <tbody>\n",
              "    <tr>\n",
              "      <th>count</th>\n",
              "      <td>1093.000000</td>\n",
              "      <td>1093.000000</td>\n",
              "      <td>1093.000000</td>\n",
              "      <td>1093.000000</td>\n",
              "      <td>1093.000000</td>\n",
              "      <td>1093.000000</td>\n",
              "      <td>1093.000000</td>\n",
              "      <td>1093.000000</td>\n",
              "      <td>1092.000000</td>\n",
              "      <td>1093.000000</td>\n",
              "      <td>1093.000000</td>\n",
              "      <td>1093.000000</td>\n",
              "      <td>1093.000000</td>\n",
              "      <td>1093.000000</td>\n",
              "      <td>1093.000000</td>\n",
              "    </tr>\n",
              "    <tr>\n",
              "      <th>mean</th>\n",
              "      <td>26.009241</td>\n",
              "      <td>32.482251</td>\n",
              "      <td>19.460201</td>\n",
              "      <td>1008.081885</td>\n",
              "      <td>62.918573</td>\n",
              "      <td>2.003111</td>\n",
              "      <td>6.751510</td>\n",
              "      <td>15.805124</td>\n",
              "      <td>109.090984</td>\n",
              "      <td>0.313815</td>\n",
              "      <td>0.248856</td>\n",
              "      <td>0.268984</td>\n",
              "      <td>0.139067</td>\n",
              "      <td>0.025618</td>\n",
              "      <td>0.003660</td>\n",
              "    </tr>\n",
              "    <tr>\n",
              "      <th>std</th>\n",
              "      <td>7.237401</td>\n",
              "      <td>6.679078</td>\n",
              "      <td>7.438653</td>\n",
              "      <td>7.529237</td>\n",
              "      <td>15.709816</td>\n",
              "      <td>0.747541</td>\n",
              "      <td>3.841137</td>\n",
              "      <td>7.308435</td>\n",
              "      <td>84.465790</td>\n",
              "      <td>0.464255</td>\n",
              "      <td>0.432548</td>\n",
              "      <td>0.443635</td>\n",
              "      <td>0.346175</td>\n",
              "      <td>0.158064</td>\n",
              "      <td>0.060412</td>\n",
              "    </tr>\n",
              "    <tr>\n",
              "      <th>min</th>\n",
              "      <td>6.700000</td>\n",
              "      <td>9.800000</td>\n",
              "      <td>0.000000</td>\n",
              "      <td>991.500000</td>\n",
              "      <td>20.000000</td>\n",
              "      <td>0.300000</td>\n",
              "      <td>0.400000</td>\n",
              "      <td>1.900000</td>\n",
              "      <td>0.000000</td>\n",
              "      <td>0.000000</td>\n",
              "      <td>0.000000</td>\n",
              "      <td>0.000000</td>\n",
              "      <td>0.000000</td>\n",
              "      <td>0.000000</td>\n",
              "      <td>0.000000</td>\n",
              "    </tr>\n",
              "    <tr>\n",
              "      <th>25%</th>\n",
              "      <td>19.300000</td>\n",
              "      <td>27.800000</td>\n",
              "      <td>12.100000</td>\n",
              "      <td>1001.100000</td>\n",
              "      <td>54.000000</td>\n",
              "      <td>1.600000</td>\n",
              "      <td>3.700000</td>\n",
              "      <td>11.100000</td>\n",
              "      <td>41.833333</td>\n",
              "      <td>0.000000</td>\n",
              "      <td>0.000000</td>\n",
              "      <td>0.000000</td>\n",
              "      <td>0.000000</td>\n",
              "      <td>0.000000</td>\n",
              "      <td>0.000000</td>\n",
              "    </tr>\n",
              "    <tr>\n",
              "      <th>50%</th>\n",
              "      <td>28.200000</td>\n",
              "      <td>34.200000</td>\n",
              "      <td>21.200000</td>\n",
              "      <td>1008.100000</td>\n",
              "      <td>64.000000</td>\n",
              "      <td>1.900000</td>\n",
              "      <td>6.500000</td>\n",
              "      <td>14.800000</td>\n",
              "      <td>83.458333</td>\n",
              "      <td>0.000000</td>\n",
              "      <td>0.000000</td>\n",
              "      <td>0.000000</td>\n",
              "      <td>0.000000</td>\n",
              "      <td>0.000000</td>\n",
              "      <td>0.000000</td>\n",
              "    </tr>\n",
              "    <tr>\n",
              "      <th>75%</th>\n",
              "      <td>31.700000</td>\n",
              "      <td>37.000000</td>\n",
              "      <td>26.000000</td>\n",
              "      <td>1015.000000</td>\n",
              "      <td>74.000000</td>\n",
              "      <td>2.600000</td>\n",
              "      <td>9.100000</td>\n",
              "      <td>18.300000</td>\n",
              "      <td>158.291667</td>\n",
              "      <td>1.000000</td>\n",
              "      <td>0.000000</td>\n",
              "      <td>1.000000</td>\n",
              "      <td>0.000000</td>\n",
              "      <td>0.000000</td>\n",
              "      <td>0.000000</td>\n",
              "    </tr>\n",
              "    <tr>\n",
              "      <th>max</th>\n",
              "      <td>38.500000</td>\n",
              "      <td>45.500000</td>\n",
              "      <td>32.700000</td>\n",
              "      <td>1023.200000</td>\n",
              "      <td>98.000000</td>\n",
              "      <td>5.800000</td>\n",
              "      <td>24.400000</td>\n",
              "      <td>57.600000</td>\n",
              "      <td>404.500000</td>\n",
              "      <td>1.000000</td>\n",
              "      <td>1.000000</td>\n",
              "      <td>1.000000</td>\n",
              "      <td>1.000000</td>\n",
              "      <td>1.000000</td>\n",
              "      <td>1.000000</td>\n",
              "    </tr>\n",
              "  </tbody>\n",
              "</table>\n",
              "</div>\n",
              "      <button class=\"colab-df-convert\" onclick=\"convertToInteractive('df-8d9bd527-8197-4099-bf84-bea164a3e517')\"\n",
              "              title=\"Convert this dataframe to an interactive table.\"\n",
              "              style=\"display:none;\">\n",
              "        \n",
              "  <svg xmlns=\"http://www.w3.org/2000/svg\" height=\"24px\"viewBox=\"0 0 24 24\"\n",
              "       width=\"24px\">\n",
              "    <path d=\"M0 0h24v24H0V0z\" fill=\"none\"/>\n",
              "    <path d=\"M18.56 5.44l.94 2.06.94-2.06 2.06-.94-2.06-.94-.94-2.06-.94 2.06-2.06.94zm-11 1L8.5 8.5l.94-2.06 2.06-.94-2.06-.94L8.5 2.5l-.94 2.06-2.06.94zm10 10l.94 2.06.94-2.06 2.06-.94-2.06-.94-.94-2.06-.94 2.06-2.06.94z\"/><path d=\"M17.41 7.96l-1.37-1.37c-.4-.4-.92-.59-1.43-.59-.52 0-1.04.2-1.43.59L10.3 9.45l-7.72 7.72c-.78.78-.78 2.05 0 2.83L4 21.41c.39.39.9.59 1.41.59.51 0 1.02-.2 1.41-.59l7.78-7.78 2.81-2.81c.8-.78.8-2.07 0-2.86zM5.41 20L4 18.59l7.72-7.72 1.47 1.35L5.41 20z\"/>\n",
              "  </svg>\n",
              "      </button>\n",
              "      \n",
              "  <style>\n",
              "    .colab-df-container {\n",
              "      display:flex;\n",
              "      flex-wrap:wrap;\n",
              "      gap: 12px;\n",
              "    }\n",
              "\n",
              "    .colab-df-convert {\n",
              "      background-color: #E8F0FE;\n",
              "      border: none;\n",
              "      border-radius: 50%;\n",
              "      cursor: pointer;\n",
              "      display: none;\n",
              "      fill: #1967D2;\n",
              "      height: 32px;\n",
              "      padding: 0 0 0 0;\n",
              "      width: 32px;\n",
              "    }\n",
              "\n",
              "    .colab-df-convert:hover {\n",
              "      background-color: #E2EBFA;\n",
              "      box-shadow: 0px 1px 2px rgba(60, 64, 67, 0.3), 0px 1px 3px 1px rgba(60, 64, 67, 0.15);\n",
              "      fill: #174EA6;\n",
              "    }\n",
              "\n",
              "    [theme=dark] .colab-df-convert {\n",
              "      background-color: #3B4455;\n",
              "      fill: #D2E3FC;\n",
              "    }\n",
              "\n",
              "    [theme=dark] .colab-df-convert:hover {\n",
              "      background-color: #434B5C;\n",
              "      box-shadow: 0px 1px 3px 1px rgba(0, 0, 0, 0.15);\n",
              "      filter: drop-shadow(0px 1px 2px rgba(0, 0, 0, 0.3));\n",
              "      fill: #FFFFFF;\n",
              "    }\n",
              "  </style>\n",
              "\n",
              "      <script>\n",
              "        const buttonEl =\n",
              "          document.querySelector('#df-8d9bd527-8197-4099-bf84-bea164a3e517 button.colab-df-convert');\n",
              "        buttonEl.style.display =\n",
              "          google.colab.kernel.accessAllowed ? 'block' : 'none';\n",
              "\n",
              "        async function convertToInteractive(key) {\n",
              "          const element = document.querySelector('#df-8d9bd527-8197-4099-bf84-bea164a3e517');\n",
              "          const dataTable =\n",
              "            await google.colab.kernel.invokeFunction('convertToInteractive',\n",
              "                                                     [key], {});\n",
              "          if (!dataTable) return;\n",
              "\n",
              "          const docLinkHtml = 'Like what you see? Visit the ' +\n",
              "            '<a target=\"_blank\" href=https://colab.research.google.com/notebooks/data_table.ipynb>data table notebook</a>'\n",
              "            + ' to learn more about interactive tables.';\n",
              "          element.innerHTML = '';\n",
              "          dataTable['output_type'] = 'display_data';\n",
              "          await google.colab.output.renderOutput(dataTable, element);\n",
              "          const docLink = document.createElement('div');\n",
              "          docLink.innerHTML = docLinkHtml;\n",
              "          element.appendChild(docLink);\n",
              "        }\n",
              "      </script>\n",
              "    </div>\n",
              "  </div>\n",
              "  "
            ]
          },
          "metadata": {},
          "execution_count": 88
        }
      ],
      "source": [
        "# Generate descriptive statistics of dataset\n",
        "aquap_data.describe()"
      ]
    },
    {
      "cell_type": "markdown",
      "metadata": {
        "id": "Xmkh7frI9ihb"
      },
      "source": [
        "\n",
        "### Data Preprocessing"
      ]
    },
    {
      "cell_type": "markdown",
      "metadata": {
        "id": "nrNm9Ozg9ihb"
      },
      "source": [
        "#### Dealing with missing data"
      ]
    },
    {
      "cell_type": "code",
      "execution_count": null,
      "metadata": {
        "id": "keXI4yKW9ihb",
        "outputId": "a52e16d6-638c-482e-895c-5f4e0e045d91",
        "colab": {
          "base_uri": "https://localhost:8080/"
        }
      },
      "outputs": [
        {
          "output_type": "execute_result",
          "data": {
            "text/plain": [
              "T               0\n",
              "TM              0\n",
              "Tm              0\n",
              "SLP             0\n",
              "H               0\n",
              "VV              0\n",
              "V               0\n",
              "VM              0\n",
              "PM 2.5          1\n",
              "Good            0\n",
              "Satisfactory    0\n",
              "Moderate        0\n",
              "Poor            0\n",
              "Very Poor       0\n",
              "Severe          0\n",
              "dtype: int64"
            ]
          },
          "metadata": {},
          "execution_count": 89
        }
      ],
      "source": [
        "aquap_data.isnull().sum()"
      ]
    },
    {
      "cell_type": "markdown",
      "metadata": {
        "id": "AarvP7Y_9ihc"
      },
      "source": [
        "#### Removing Missing Values"
      ]
    },
    {
      "cell_type": "code",
      "execution_count": null,
      "metadata": {
        "id": "G3Qtyg0a9ihc",
        "outputId": "75ffd759-e4e2-4076-d437-9c2fdf3bfbe8",
        "colab": {
          "base_uri": "https://localhost:8080/"
        }
      },
      "outputs": [
        {
          "output_type": "execute_result",
          "data": {
            "text/plain": [
              "T               0\n",
              "TM              0\n",
              "Tm              0\n",
              "SLP             0\n",
              "H               0\n",
              "VV              0\n",
              "V               0\n",
              "VM              0\n",
              "PM 2.5          0\n",
              "Good            0\n",
              "Satisfactory    0\n",
              "Moderate        0\n",
              "Poor            0\n",
              "Very Poor       0\n",
              "Severe          0\n",
              "dtype: int64"
            ]
          },
          "metadata": {},
          "execution_count": 90
        }
      ],
      "source": [
        "aquap_data.dropna(inplace=True)\n",
        "aquap_data.isnull().sum()"
      ]
    },
    {
      "cell_type": "markdown",
      "metadata": {
        "id": "PCSu6Awk9ihc"
      },
      "source": [
        "### Choosing Model"
      ]
    },
    {
      "cell_type": "code",
      "execution_count": null,
      "metadata": {
        "id": "ZCi8bEt69ihc"
      },
      "outputs": [],
      "source": [
        "# Importing packages for applying machine learning algorithm\n",
        "from sklearn.model_selection import train_test_split\n",
        "from sklearn.linear_model import LinearRegression\n",
        "from sklearn.metrics import mean_squared_error,mean_absolute_error\n",
        "import seaborn as sns\n",
        "from sklearn.metrics import accuracy_score"
      ]
    },
    {
      "cell_type": "code",
      "execution_count": null,
      "metadata": {
        "id": "Psw03oiJ9ihd"
      },
      "outputs": [],
      "source": [
        "feature = aquap_data\n",
        "feature = feature.drop(columns='PM 2.5')\n",
        "feature = feature.drop(columns='Good')\n",
        "feature = feature.drop(columns='Satisfactory')\n",
        "feature = feature.drop(columns='Moderate')\n",
        "feature = feature.drop(columns='Poor')\n",
        "feature = feature.drop(columns='Very Poor')\n",
        "feature = feature.drop(columns='Severe')"
      ]
    },
    {
      "cell_type": "code",
      "execution_count": null,
      "metadata": {
        "id": "eWYWjjwW9ihd",
        "outputId": "2dd151e4-1e2b-40e0-c88c-39cd158b46b5",
        "colab": {
          "base_uri": "https://localhost:8080/",
          "height": 223
        }
      },
      "outputs": [
        {
          "output_type": "stream",
          "name": "stdout",
          "text": [
            "Feature Data\n"
          ]
        },
        {
          "output_type": "execute_result",
          "data": {
            "text/plain": [
              "      T    TM   Tm     SLP   H   VV    V    VM\n",
              "0   7.4   9.8  4.8  1017.6  93  0.5  4.3   9.4\n",
              "1   7.8  12.7  4.4  1018.5  87  0.6  4.4  11.1\n",
              "2   6.7  13.4  2.4  1019.4  82  0.6  4.8  11.1\n",
              "3   8.6  15.5  3.3  1018.7  72  0.8  8.1  20.6\n",
              "4  12.4  20.9  4.4  1017.3  61  1.3  8.7  22.2"
            ],
            "text/html": [
              "\n",
              "  <div id=\"df-2de0eeb5-481e-4034-95dd-3ad8cc3d2323\">\n",
              "    <div class=\"colab-df-container\">\n",
              "      <div>\n",
              "<style scoped>\n",
              "    .dataframe tbody tr th:only-of-type {\n",
              "        vertical-align: middle;\n",
              "    }\n",
              "\n",
              "    .dataframe tbody tr th {\n",
              "        vertical-align: top;\n",
              "    }\n",
              "\n",
              "    .dataframe thead th {\n",
              "        text-align: right;\n",
              "    }\n",
              "</style>\n",
              "<table border=\"1\" class=\"dataframe\">\n",
              "  <thead>\n",
              "    <tr style=\"text-align: right;\">\n",
              "      <th></th>\n",
              "      <th>T</th>\n",
              "      <th>TM</th>\n",
              "      <th>Tm</th>\n",
              "      <th>SLP</th>\n",
              "      <th>H</th>\n",
              "      <th>VV</th>\n",
              "      <th>V</th>\n",
              "      <th>VM</th>\n",
              "    </tr>\n",
              "  </thead>\n",
              "  <tbody>\n",
              "    <tr>\n",
              "      <th>0</th>\n",
              "      <td>7.4</td>\n",
              "      <td>9.8</td>\n",
              "      <td>4.8</td>\n",
              "      <td>1017.6</td>\n",
              "      <td>93</td>\n",
              "      <td>0.5</td>\n",
              "      <td>4.3</td>\n",
              "      <td>9.4</td>\n",
              "    </tr>\n",
              "    <tr>\n",
              "      <th>1</th>\n",
              "      <td>7.8</td>\n",
              "      <td>12.7</td>\n",
              "      <td>4.4</td>\n",
              "      <td>1018.5</td>\n",
              "      <td>87</td>\n",
              "      <td>0.6</td>\n",
              "      <td>4.4</td>\n",
              "      <td>11.1</td>\n",
              "    </tr>\n",
              "    <tr>\n",
              "      <th>2</th>\n",
              "      <td>6.7</td>\n",
              "      <td>13.4</td>\n",
              "      <td>2.4</td>\n",
              "      <td>1019.4</td>\n",
              "      <td>82</td>\n",
              "      <td>0.6</td>\n",
              "      <td>4.8</td>\n",
              "      <td>11.1</td>\n",
              "    </tr>\n",
              "    <tr>\n",
              "      <th>3</th>\n",
              "      <td>8.6</td>\n",
              "      <td>15.5</td>\n",
              "      <td>3.3</td>\n",
              "      <td>1018.7</td>\n",
              "      <td>72</td>\n",
              "      <td>0.8</td>\n",
              "      <td>8.1</td>\n",
              "      <td>20.6</td>\n",
              "    </tr>\n",
              "    <tr>\n",
              "      <th>4</th>\n",
              "      <td>12.4</td>\n",
              "      <td>20.9</td>\n",
              "      <td>4.4</td>\n",
              "      <td>1017.3</td>\n",
              "      <td>61</td>\n",
              "      <td>1.3</td>\n",
              "      <td>8.7</td>\n",
              "      <td>22.2</td>\n",
              "    </tr>\n",
              "  </tbody>\n",
              "</table>\n",
              "</div>\n",
              "      <button class=\"colab-df-convert\" onclick=\"convertToInteractive('df-2de0eeb5-481e-4034-95dd-3ad8cc3d2323')\"\n",
              "              title=\"Convert this dataframe to an interactive table.\"\n",
              "              style=\"display:none;\">\n",
              "        \n",
              "  <svg xmlns=\"http://www.w3.org/2000/svg\" height=\"24px\"viewBox=\"0 0 24 24\"\n",
              "       width=\"24px\">\n",
              "    <path d=\"M0 0h24v24H0V0z\" fill=\"none\"/>\n",
              "    <path d=\"M18.56 5.44l.94 2.06.94-2.06 2.06-.94-2.06-.94-.94-2.06-.94 2.06-2.06.94zm-11 1L8.5 8.5l.94-2.06 2.06-.94-2.06-.94L8.5 2.5l-.94 2.06-2.06.94zm10 10l.94 2.06.94-2.06 2.06-.94-2.06-.94-.94-2.06-.94 2.06-2.06.94z\"/><path d=\"M17.41 7.96l-1.37-1.37c-.4-.4-.92-.59-1.43-.59-.52 0-1.04.2-1.43.59L10.3 9.45l-7.72 7.72c-.78.78-.78 2.05 0 2.83L4 21.41c.39.39.9.59 1.41.59.51 0 1.02-.2 1.41-.59l7.78-7.78 2.81-2.81c.8-.78.8-2.07 0-2.86zM5.41 20L4 18.59l7.72-7.72 1.47 1.35L5.41 20z\"/>\n",
              "  </svg>\n",
              "      </button>\n",
              "      \n",
              "  <style>\n",
              "    .colab-df-container {\n",
              "      display:flex;\n",
              "      flex-wrap:wrap;\n",
              "      gap: 12px;\n",
              "    }\n",
              "\n",
              "    .colab-df-convert {\n",
              "      background-color: #E8F0FE;\n",
              "      border: none;\n",
              "      border-radius: 50%;\n",
              "      cursor: pointer;\n",
              "      display: none;\n",
              "      fill: #1967D2;\n",
              "      height: 32px;\n",
              "      padding: 0 0 0 0;\n",
              "      width: 32px;\n",
              "    }\n",
              "\n",
              "    .colab-df-convert:hover {\n",
              "      background-color: #E2EBFA;\n",
              "      box-shadow: 0px 1px 2px rgba(60, 64, 67, 0.3), 0px 1px 3px 1px rgba(60, 64, 67, 0.15);\n",
              "      fill: #174EA6;\n",
              "    }\n",
              "\n",
              "    [theme=dark] .colab-df-convert {\n",
              "      background-color: #3B4455;\n",
              "      fill: #D2E3FC;\n",
              "    }\n",
              "\n",
              "    [theme=dark] .colab-df-convert:hover {\n",
              "      background-color: #434B5C;\n",
              "      box-shadow: 0px 1px 3px 1px rgba(0, 0, 0, 0.15);\n",
              "      filter: drop-shadow(0px 1px 2px rgba(0, 0, 0, 0.3));\n",
              "      fill: #FFFFFF;\n",
              "    }\n",
              "  </style>\n",
              "\n",
              "      <script>\n",
              "        const buttonEl =\n",
              "          document.querySelector('#df-2de0eeb5-481e-4034-95dd-3ad8cc3d2323 button.colab-df-convert');\n",
              "        buttonEl.style.display =\n",
              "          google.colab.kernel.accessAllowed ? 'block' : 'none';\n",
              "\n",
              "        async function convertToInteractive(key) {\n",
              "          const element = document.querySelector('#df-2de0eeb5-481e-4034-95dd-3ad8cc3d2323');\n",
              "          const dataTable =\n",
              "            await google.colab.kernel.invokeFunction('convertToInteractive',\n",
              "                                                     [key], {});\n",
              "          if (!dataTable) return;\n",
              "\n",
              "          const docLinkHtml = 'Like what you see? Visit the ' +\n",
              "            '<a target=\"_blank\" href=https://colab.research.google.com/notebooks/data_table.ipynb>data table notebook</a>'\n",
              "            + ' to learn more about interactive tables.';\n",
              "          element.innerHTML = '';\n",
              "          dataTable['output_type'] = 'display_data';\n",
              "          await google.colab.output.renderOutput(dataTable, element);\n",
              "          const docLink = document.createElement('div');\n",
              "          docLink.innerHTML = docLinkHtml;\n",
              "          element.appendChild(docLink);\n",
              "        }\n",
              "      </script>\n",
              "    </div>\n",
              "  </div>\n",
              "  "
            ]
          },
          "metadata": {},
          "execution_count": 93
        }
      ],
      "source": [
        "# Printing the first five rows of the feature table\n",
        "print(\"Feature Data\")\n",
        "feature.head()"
      ]
    },
    {
      "cell_type": "code",
      "execution_count": null,
      "metadata": {
        "id": "NPu_QZ7U9ihd"
      },
      "outputs": [],
      "source": [
        "label = aquap_data['PM 2.5']"
      ]
    },
    {
      "cell_type": "code",
      "execution_count": null,
      "metadata": {
        "id": "sP9-cgMK9ihd",
        "outputId": "ba083af9-a74a-488e-b9a0-f86556e4777a",
        "colab": {
          "base_uri": "https://localhost:8080/"
        }
      },
      "outputs": [
        {
          "output_type": "stream",
          "name": "stdout",
          "text": [
            "Label Data\n"
          ]
        },
        {
          "output_type": "execute_result",
          "data": {
            "text/plain": [
              "0    219.720833\n",
              "1    182.187500\n",
              "2    154.037500\n",
              "3    223.208333\n",
              "4    200.645833\n",
              "Name: PM 2.5, dtype: float64"
            ]
          },
          "metadata": {},
          "execution_count": 95
        }
      ],
      "source": [
        "# Printing the first five rows of the label table\n",
        "print(\"Label Data\")\n",
        "label.head()"
      ]
    },
    {
      "cell_type": "markdown",
      "metadata": {
        "id": "nQG5ij6G9ihe"
      },
      "source": [
        "Divide the data into training and testing modules"
      ]
    },
    {
      "cell_type": "code",
      "execution_count": null,
      "metadata": {
        "id": "mMgttNvb9ihe"
      },
      "outputs": [],
      "source": [
        "X_train, X_test, Y_train, Y_test = train_test_split(feature, label, test_size=0.3, random_state=100)"
      ]
    },
    {
      "cell_type": "code",
      "execution_count": null,
      "metadata": {
        "id": "CzcmYhnn9ihe",
        "outputId": "37721c19-8511-429b-85ef-0efc6dece344",
        "colab": {
          "base_uri": "https://localhost:8080/"
        }
      },
      "outputs": [
        {
          "output_type": "stream",
          "name": "stdout",
          "text": [
            "(764, 8) (764,)\n"
          ]
        }
      ],
      "source": [
        "print(X_train.shape, Y_train.shape)"
      ]
    },
    {
      "cell_type": "code",
      "execution_count": null,
      "metadata": {
        "id": "30IbeUff9ihe",
        "outputId": "d685ef35-d5cd-4a7f-b3f5-e0b0eb853704",
        "colab": {
          "base_uri": "https://localhost:8080/"
        }
      },
      "outputs": [
        {
          "output_type": "stream",
          "name": "stdout",
          "text": [
            "(328, 8) (328,)\n"
          ]
        }
      ],
      "source": [
        "print(X_test.shape, Y_test.shape)"
      ]
    },
    {
      "cell_type": "markdown",
      "source": [
        "### Model training with Linear Regression"
      ],
      "metadata": {
        "id": "Cg7E8RHvTHX2"
      }
    },
    {
      "cell_type": "code",
      "execution_count": null,
      "metadata": {
        "id": "PtqHA4EJ9ihf"
      },
      "outputs": [],
      "source": [
        "lr = LinearRegression()"
      ]
    },
    {
      "cell_type": "code",
      "execution_count": null,
      "metadata": {
        "id": "6tG_xar89ihf",
        "outputId": "dca6cfbb-c8ee-4034-ac8d-a73b2e7b03ed",
        "colab": {
          "base_uri": "https://localhost:8080/"
        }
      },
      "outputs": [
        {
          "output_type": "execute_result",
          "data": {
            "text/plain": [
              "LinearRegression()"
            ]
          },
          "metadata": {},
          "execution_count": 100
        }
      ],
      "source": [
        "lr.fit(X_train, Y_train)"
      ]
    },
    {
      "cell_type": "markdown",
      "source": [
        "### Prediction using Linear Regression"
      ],
      "metadata": {
        "id": "aiHBRmsbTQXB"
      }
    },
    {
      "cell_type": "code",
      "execution_count": null,
      "metadata": {
        "id": "UFsTjI1E9ihf"
      },
      "outputs": [],
      "source": [
        "Y_Predict = lr.predict(X_test)"
      ]
    },
    {
      "cell_type": "code",
      "execution_count": null,
      "metadata": {
        "id": "bn8Z5HTX9ihg",
        "outputId": "18e4f633-32af-4353-f8d9-4f5add40cfca",
        "colab": {
          "base_uri": "https://localhost:8080/"
        }
      },
      "outputs": [
        {
          "output_type": "execute_result",
          "data": {
            "text/plain": [
              "array([ 198.1027854 ,  148.11273263,  163.11062577,   34.10496446,\n",
              "         55.02192025,   72.9666202 ,   25.55757433,   15.01547892,\n",
              "        130.58084453,   89.80281101,  119.81210606,  193.08565034,\n",
              "         74.528141  ,  181.93239951,   47.4671541 ,   95.74542393,\n",
              "        127.19721863,   58.36191608,  141.22291726,   47.26040193,\n",
              "        103.15523897,  126.9898968 ,  154.21428553,  196.22002011,\n",
              "          6.25302903,  178.76715551,   66.03605892,   63.98173737,\n",
              "        156.08614554,  135.66821131,  217.29468338,   95.25965156,\n",
              "         42.57164829,  206.46350846,  146.8635107 ,   61.06597816,\n",
              "        119.13072822,   65.66985349,  167.09394057,   98.69292647,\n",
              "        182.57083493,  176.94133312,  105.20661749,  209.05300906,\n",
              "        105.67155139,  140.07885377,  146.29893485,  178.75343932,\n",
              "        107.9142612 ,   35.47490591,  109.91586063,  201.25649699,\n",
              "        166.95602456,   61.46682978,   71.27104437,  188.27709215,\n",
              "         29.00958212,  150.85507584,  229.06437829,  164.48315028,\n",
              "        130.15841118,   70.05201683,  109.61424548,   52.64133089,\n",
              "         97.76747315,  179.64735375,  174.14467452,   91.92551638,\n",
              "         99.75651303,   41.37460957,   73.17348634,  159.89573763,\n",
              "         81.45158961,  221.76280547,   78.97532261,   75.14527711,\n",
              "         28.34904937,   53.15419281,   28.34206634,  178.55194165,\n",
              "         12.50832499,   79.75508594,  118.1804848 ,   51.01115132,\n",
              "         66.48641674,   64.0430848 ,  111.4083478 ,  195.65177845,\n",
              "         66.48641674,   12.50832499,  194.14362457,  164.3327674 ,\n",
              "        151.31650822,  136.11206723,  113.5529852 ,  176.65213008,\n",
              "        181.9293616 ,   25.77747715,  221.86152681,  181.93239951,\n",
              "         55.49483868,   54.22078911,   42.95065986,  202.34596343,\n",
              "        199.83461177,  198.1027854 ,  191.33456874,   69.60206862,\n",
              "         93.3753925 ,   55.26984667,   10.1521306 ,   91.60917033,\n",
              "         75.35321496,  149.51720305,  179.55045277,  206.75610806,\n",
              "        188.27280667,  195.87312124,  105.71772825,   10.64185288,\n",
              "        130.96862914,   11.37256184,   67.07393598,   81.11763359,\n",
              "        194.28130394,  193.77466781,  193.31841079,  140.81093378,\n",
              "         78.7763738 ,  193.77466781,   79.2502195 ,  112.21524318,\n",
              "        112.2291837 ,   20.39697214,   82.21452181,  132.23723719,\n",
              "        218.14809074,   37.99118482,   46.13317001,  185.46891625,\n",
              "         61.36683668,   26.38778333,  191.33456874,   89.58572614,\n",
              "         25.77747715,  164.48315028,   10.1521306 ,  204.79589535,\n",
              "         37.99118482,  194.40177848,  138.7265054 ,  166.95602456,\n",
              "        179.185641  ,  190.11606059,  164.21773218,  180.70167852,\n",
              "         69.12631063,   86.62041638,   58.18936344,   47.08693922,\n",
              "        153.94328009,   67.07393598,  188.6209665 ,  118.46713007,\n",
              "         68.00869055,  223.16638984,   63.98173737,  125.00827463,\n",
              "         76.05342833,  138.15670579,   -0.77536979,   82.36502466,\n",
              "        143.86796606,   52.24572745,  102.74420361,   92.26828039,\n",
              "         66.61202063,   37.15230772,   72.80109554,  103.00102964,\n",
              "         81.32087973,   57.8494897 ,  133.68384929,   47.4671541 ,\n",
              "         97.50405113,  189.42043208,   57.63841725,   42.57164829,\n",
              "        206.75610806,   89.67943605,  218.16332953,   94.53633899,\n",
              "        102.0050138 ,  195.68650934,   52.16222833,   46.55684041,\n",
              "         34.10496446,  169.81044961,  161.03969469,   70.27103411,\n",
              "        208.07591978,   75.78115297,   74.528141  ,  188.6209665 ,\n",
              "         77.51136471,  146.8635107 ,  102.39089812,  231.18779668,\n",
              "       -102.41351568,  174.92723804,   94.54054551,   53.61927202,\n",
              "         29.00958212,   76.05342833,   91.60917033,   75.02656925,\n",
              "         96.32009847,   68.66310705,   41.37460957,  101.98447028,\n",
              "         30.25617011,  197.90524287,  104.6591931 ,   72.64147671,\n",
              "        184.85822932,  109.6388226 ,   26.74401771,  104.32018622,\n",
              "         75.78115297,   29.00958212,   54.12440791,   31.70956526,\n",
              "        159.48763857,  152.03714214,   36.56838754, -102.41351568,\n",
              "        237.33922167,   37.25561289,   44.71752024,  161.18472111,\n",
              "         21.27081498,   82.78933451,  172.24768603,   32.66397607,\n",
              "        198.91843261,   30.59944006,   69.2723562 ,   69.11126419,\n",
              "        195.48512057,  160.64613394,   61.36683668,   64.24634561,\n",
              "        172.25443978,  195.88297366,   46.38223654,   88.47351176,\n",
              "         71.76959489,   89.6439623 ,   68.63737174,   99.62878932,\n",
              "        162.57447235,  194.76792296,  143.97357232,   63.49753473,\n",
              "        118.98702976,   99.97941375,  140.26060658,   15.55447208,\n",
              "         57.41682025,  186.30970222,  143.02459139,   68.82233042,\n",
              "         92.26828039,  114.70654614,  168.60844769,  128.46117277,\n",
              "         69.2723562 ,   60.56160913,  178.26544648,   34.10496446,\n",
              "         30.25617011,  197.64013528,   64.51488857,   90.36057156,\n",
              "        208.73939051,   39.67405931,   62.78861315,    6.25302903,\n",
              "         87.42418595,  161.43274962,  218.14809074,  176.65213008,\n",
              "        146.02937152,  164.46731454,  111.60432757,   76.53130682,\n",
              "        172.88269251,   36.37291861,  135.08811731,   31.34774073,\n",
              "        102.39089812,   73.17348634,   73.17348634,  169.16688173,\n",
              "        182.35964206,   -0.77536979,   76.24523035,  199.87778423,\n",
              "        123.30909303,  181.44421684,   98.66202213,   49.56050136,\n",
              "         87.95009001,  222.91376658,  179.70328698,   55.00932974,\n",
              "         62.89013628,   66.14385455,  108.32760019,   67.93362685,\n",
              "         75.59009229,  162.08444761,   35.58798357,   37.80921134,\n",
              "         40.92355575,   48.01014552,  219.26289546,  142.42453245])"
            ]
          },
          "metadata": {},
          "execution_count": 102
        }
      ],
      "source": [
        "Y_Predict"
      ]
    },
    {
      "cell_type": "markdown",
      "source": [
        "#### Printing the conclusion about Air Quality Index (AQI)"
      ],
      "metadata": {
        "id": "oKtVkAfNTZ8s"
      }
    },
    {
      "cell_type": "code",
      "execution_count": null,
      "metadata": {
        "id": "t5f_rrfz9ihg",
        "colab": {
          "base_uri": "https://localhost:8080/"
        },
        "outputId": "f953db17-710b-4058-ccf3-2cab2f4addca"
      },
      "outputs": [
        {
          "output_type": "stream",
          "name": "stdout",
          "text": [
            "Good\n"
          ]
        }
      ],
      "source": [
        "z = Y_Predict\n",
        "if z.all() <= 50:\n",
        "    print(\"Good\")\n",
        "elif z.all() <= 100:\n",
        "    print(\"Satisfactory\")\n",
        "elif z.all() <= 200:\n",
        "    print(\"Moderate\")\n",
        "elif z.all() <= 300:\n",
        "    print(\"Poor\")\n",
        "elif z.all() <= 400:\n",
        "    print(\"Very Poor\")\n",
        "elif z.all() <= 500: \n",
        "    print(\"Severe\")"
      ]
    },
    {
      "cell_type": "markdown",
      "source": [
        "### Model Evaluation using Linear Regression"
      ],
      "metadata": {
        "id": "M-35gz-fStH0"
      }
    },
    {
      "cell_type": "code",
      "execution_count": null,
      "metadata": {
        "id": "g-V5uc1D9ihg",
        "outputId": "64054f20-9d21-4561-e6e5-c4d1f0485148",
        "colab": {
          "base_uri": "https://localhost:8080/"
        }
      },
      "outputs": [
        {
          "output_type": "stream",
          "name": "stdout",
          "text": [
            "Current Accuracy on testing data: 54.34%\n"
          ]
        }
      ],
      "source": [
        "# Printing accuracy on testing data \n",
        "accuracy_test_lr = lr.score(X_test, Y_test)\n",
        "print(f\"Current Accuracy on testing data: {round(accuracy_test_lr*100, 2)}%\")"
      ]
    },
    {
      "cell_type": "code",
      "execution_count": null,
      "metadata": {
        "id": "QhYHvEVj9ihh",
        "outputId": "11cf4ba0-ccaa-4c01-9f19-7be944bef6e4",
        "colab": {
          "base_uri": "https://localhost:8080/"
        }
      },
      "outputs": [
        {
          "output_type": "stream",
          "name": "stdout",
          "text": [
            "Current Accuracy on training data: 52.77%\n"
          ]
        }
      ],
      "source": [
        "# Printing accuracy on training data\n",
        "accuracy_train_lr = lr.score(X_train, Y_train)\n",
        "print(f\"Current Accuracy on training data: {round(accuracy_train_lr*100, 2)}%\")"
      ]
    },
    {
      "cell_type": "code",
      "execution_count": null,
      "metadata": {
        "id": "uncV8BR29ihh",
        "outputId": "7b3520b0-ed6e-43f3-aa60-a861ff19eadb",
        "colab": {
          "base_uri": "https://localhost:8080/",
          "height": 281
        }
      },
      "outputs": [
        {
          "output_type": "display_data",
          "data": {
            "text/plain": [
              "<Figure size 432x288 with 1 Axes>"
            ],
            "image/png": "[encoded data removed]"
          },
          "metadata": {
            "needs_background": "light"
          }
        }
      ],
      "source": [
        "# Plotting the scatter graph for visualization of model evaluation\n",
        "plt.scatter(range(len(Y_test)), Y_test, color='blue')\n",
        "plt.scatter(range(len(Y_Predict)), Y_Predict, color='red')\n",
        "plt.title(\"Model Evalution\")\n",
        "plt.show()"
      ]
    },
    {
      "cell_type": "markdown",
      "source": [
        "### Model Evaluation using XGBRegressor"
      ],
      "metadata": {
        "id": "-OUIAAoKWdvr"
      }
    },
    {
      "cell_type": "code",
      "source": [
        "# importing module for applying XGBRegressor\n",
        "from xgboost import XGBRegressor"
      ],
      "metadata": {
        "id": "6L_mEUfDADI4"
      },
      "execution_count": null,
      "outputs": []
    },
    {
      "cell_type": "markdown",
      "source": [
        "#### Model Training with XGBRegressor"
      ],
      "metadata": {
        "id": "Xawbe-SgXbgc"
      }
    },
    {
      "cell_type": "code",
      "source": [
        "XGB_model = XGBRegressor()"
      ],
      "metadata": {
        "id": "epyDtHWh91oo"
      },
      "execution_count": null,
      "outputs": []
    },
    {
      "cell_type": "code",
      "source": [
        "XGB_model.fit(X_train,Y_train)"
      ],
      "metadata": {
        "id": "5htZElCwAqml",
        "outputId": "37c2a7de-ae24-4d1a-e166-ca1c06e13303",
        "colab": {
          "base_uri": "https://localhost:8080/"
        }
      },
      "execution_count": null,
      "outputs": [
        {
          "output_type": "stream",
          "name": "stdout",
          "text": [
            "[10:41:02] WARNING: /workspace/src/objective/regression_obj.cu:152: reg:linear is now deprecated in favor of reg:squarederror.\n"
          ]
        },
        {
          "output_type": "execute_result",
          "data": {
            "text/plain": [
              "XGBRegressor()"
            ]
          },
          "metadata": {},
          "execution_count": 109
        }
      ]
    },
    {
      "cell_type": "code",
      "source": [
        "XGB_predict = XGB_model.predict(X_test)"
      ],
      "metadata": {
        "id": "InBqMb2cArMJ"
      },
      "execution_count": null,
      "outputs": []
    },
    {
      "cell_type": "code",
      "source": [
        "\n",
        "print(\"Mean squared error:\",round(mean_squared_error(Y_test,XGB_predict), 2))\n",
        "print(\"Mean absolute error:\",round(mean_absolute_error(Y_test,XGB_predict), 2))\n",
        "print(f\"Training Accuracy: {round(XGB_model.score(X_train,Y_train)*100, 2)}%\")\n",
        "print(f\"Testing Accuracy: {round(XGB_model.score(X_test,Y_test)*100, 2)}%\")"
      ],
      "metadata": {
        "id": "P-tp9-pPBSZM",
        "outputId": "daef65c7-ecf3-475a-978c-f86764584630",
        "colab": {
          "base_uri": "https://localhost:8080/"
        }
      },
      "execution_count": null,
      "outputs": [
        {
          "output_type": "stream",
          "name": "stdout",
          "text": [
            "Mean squared error: 1839.79\n",
            "Mean absolute error: 30.87\n",
            "Training Accuracy: 86.36%\n",
            "Testing Accuracy: 76.07%\n"
          ]
        }
      ]
    },
    {
      "cell_type": "code",
      "source": [
        "plt.scatter(range(len(Y_test)), Y_test, color='blue')\n",
        "plt.scatter(range(len(XGB_predict)), XGB_predict, color='red')\n",
        "plt.title(\"Model Evalution\")\n",
        "plt.show()"
      ],
      "metadata": {
        "id": "IRHrHfllBTjn",
        "colab": {
          "base_uri": "https://localhost:8080/",
          "height": 281
        },
        "outputId": "8613ffa6-21b9-41f3-d61d-c92e3710c089"
      },
      "execution_count": null,
      "outputs": [
        {
          "output_type": "display_data",
          "data": {
            "text/plain": [
              "<Figure size 432x288 with 1 Axes>"
            ],
            "image/png": "[encoded data removed]"
          },
          "metadata": {
            "needs_background": "light"
          }
        }
      ]
    }
  ],
  "metadata": {
    "kernelspec": {
      "display_name": "Python 3.10.5 64-bit",
      "language": "python",
      "name": "python3"
    },
    "language_info": {
      "codemirror_mode": {
        "name": "ipython",
        "version": 3
      },
      "file_extension": ".py",
      "mimetype": "text/x-python",
      "name": "python",
      "nbconvert_exporter": "python",
      "pygments_lexer": "ipython3",
      "version": "3.10.5"
    },
    "orig_nbformat": 4,
    "vscode": {
      "interpreter": {
        "hash": "9f0fd6338d4ee50d5cfda60dde76df1698816ba5df9385a69cc401a01ca73fa1"
      }
    },
    "colab": {
      "provenance": [],
      "collapsed_sections": [
        "nrNm9Ozg9ihb",
        "AarvP7Y_9ihc"
      ],
      "include_colab_link": true
    }
  },
  "nbformat": 4,
  "nbformat_minor": 0
}