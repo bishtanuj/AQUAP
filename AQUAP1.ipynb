{
  "cells": [
    {
      "cell_type": "markdown",
      "metadata": {
        "id": "view-in-github",
        "colab_type": "text"
      },
      "source": [
        "<a href=\"https://colab.research.google.com/github/bishtanuj/AQUAP/blob/main/AQUAP1.ipynb\" target=\"_parent\"><img src=\"https://colab.research.google.com/assets/colab-badge.svg\" alt=\"Open In Colab\"/></a>"
      ]
    },
    {
      "cell_type": "markdown",
      "metadata": {
        "id": "FGZZcK3j9ihM"
      },
      "source": [
        "\n",
        "**Devfolio Hackathon**\n",
        "\n",
        "**Project Title:** *_Air Quality Prediction_*\n",
        "\n",
        "**Team Name:** *_Code Mania_*\n",
        "\n",
        "**About Dataset**\n",
        "\n",
        "**T:** Average Temperature (°C) <br>\n",
        "**TM:** Maximum temperature (°C) <br>\n",
        "**Tm:** Minimum temperature (°C) <br>\n",
        "**SLP:** Atmospheric pressure at sea level (hPa) <br>\n",
        "**H:** Average relative humidity (%) <br>\n",
        "**VV:** Average visibility (Km) <br>\n",
        "**V:** Average wind speed (Km/h) <br>\n",
        "**VM:** Maximum sustained wind speed (Km/h) <br>\n",
        "**PM2.5:** AQI Data <br>\n",
        "**Conclusion:** Gives the conclusion about AQI"
      ]
    },
    {
      "cell_type": "markdown",
      "metadata": {
        "id": "GvjqC1no9ihO"
      },
      "source": [
        "### Setup the notebook"
      ]
    },
    {
      "cell_type": "code",
      "execution_count": null,
      "metadata": {
        "id": "D3XW8lAx9ihP"
      },
      "outputs": [],
      "source": [
        "import warnings\n",
        "warnings.filterwarnings('ignore')"
      ]
    },
    {
      "cell_type": "code",
      "execution_count": null,
      "metadata": {
        "id": "WsLjBwCa9ihQ",
        "outputId": "7677073d-9b6e-4cb1-a922-ce8ed6531a84"
      },
      "outputs": [
        {
          "name": "stdout",
          "output_type": "stream",
          "text": [
            "Setup Complete\n"
          ]
        }
      ],
      "source": [
        "import pandas as pd\n",
        "import numpy as np\n",
        "import matplotlib.pyplot as plt\n",
        "print(\"Setup Complete\")"
      ]
    },
    {
      "cell_type": "markdown",
      "metadata": {
        "id": "YK4kG-L99ihR"
      },
      "source": [
        "\n",
        "### Load and examine the data\n",
        "\n",
        "In this step we will load the data\n",
        "* Load the data into DataFrame called `aquap_data`.\n",
        "* The corresponding filepath is `aquap_filepath`.\n",
        "\n"
      ]
    },
    {
      "cell_type": "code",
      "execution_count": null,
      "metadata": {
        "id": "YLLNi-WE9ihR"
      },
      "outputs": [],
      "source": [
        "# Path of the file to read\n",
        "aquap_filepath = \"/content/dataset.csv\"\n",
        "\n",
        "# Read the file into a variable aquap_data\n",
        "aquap_data = pd.read_csv(aquap_filepath)"
      ]
    },
    {
      "cell_type": "code",
      "execution_count": null,
      "metadata": {
        "id": "lm4vKtX99ihS",
        "outputId": "dc3e47f1-3bfb-49bd-cf42-238c4d38cfed"
      },
      "outputs": [
        {
          "data": {
            "text/html": [
              "<div>\n",
              "<style scoped>\n",
              "    .dataframe tbody tr th:only-of-type {\n",
              "        vertical-align: middle;\n",
              "    }\n",
              "\n",
              "    .dataframe tbody tr th {\n",
              "        vertical-align: top;\n",
              "    }\n",
              "\n",
              "    .dataframe thead th {\n",
              "        text-align: right;\n",
              "    }\n",
              "</style>\n",
              "<table border=\"1\" class=\"dataframe\">\n",
              "  <thead>\n",
              "    <tr style=\"text-align: right;\">\n",
              "      <th></th>\n",
              "      <th>Unnamed: 0</th>\n",
              "      <th>T</th>\n",
              "      <th>TM</th>\n",
              "      <th>Tm</th>\n",
              "      <th>SLP</th>\n",
              "      <th>H</th>\n",
              "      <th>VV</th>\n",
              "      <th>V</th>\n",
              "      <th>VM</th>\n",
              "      <th>PM 2.5</th>\n",
              "      <th>Conclusion</th>\n",
              "    </tr>\n",
              "  </thead>\n",
              "  <tbody>\n",
              "    <tr>\n",
              "      <th>0</th>\n",
              "      <td>0</td>\n",
              "      <td>7.4</td>\n",
              "      <td>9.8</td>\n",
              "      <td>4.8</td>\n",
              "      <td>1017.6</td>\n",
              "      <td>93</td>\n",
              "      <td>0.5</td>\n",
              "      <td>4.3</td>\n",
              "      <td>9.4</td>\n",
              "      <td>219.720833</td>\n",
              "      <td>Poor</td>\n",
              "    </tr>\n",
              "    <tr>\n",
              "      <th>1</th>\n",
              "      <td>1</td>\n",
              "      <td>7.8</td>\n",
              "      <td>12.7</td>\n",
              "      <td>4.4</td>\n",
              "      <td>1018.5</td>\n",
              "      <td>87</td>\n",
              "      <td>0.6</td>\n",
              "      <td>4.4</td>\n",
              "      <td>11.1</td>\n",
              "      <td>182.187500</td>\n",
              "      <td>Moderate</td>\n",
              "    </tr>\n",
              "    <tr>\n",
              "      <th>2</th>\n",
              "      <td>2</td>\n",
              "      <td>6.7</td>\n",
              "      <td>13.4</td>\n",
              "      <td>2.4</td>\n",
              "      <td>1019.4</td>\n",
              "      <td>82</td>\n",
              "      <td>0.6</td>\n",
              "      <td>4.8</td>\n",
              "      <td>11.1</td>\n",
              "      <td>154.037500</td>\n",
              "      <td>Moderate</td>\n",
              "    </tr>\n",
              "    <tr>\n",
              "      <th>3</th>\n",
              "      <td>3</td>\n",
              "      <td>8.6</td>\n",
              "      <td>15.5</td>\n",
              "      <td>3.3</td>\n",
              "      <td>1018.7</td>\n",
              "      <td>72</td>\n",
              "      <td>0.8</td>\n",
              "      <td>8.1</td>\n",
              "      <td>20.6</td>\n",
              "      <td>223.208333</td>\n",
              "      <td>Poor</td>\n",
              "    </tr>\n",
              "    <tr>\n",
              "      <th>4</th>\n",
              "      <td>4</td>\n",
              "      <td>12.4</td>\n",
              "      <td>20.9</td>\n",
              "      <td>4.4</td>\n",
              "      <td>1017.3</td>\n",
              "      <td>61</td>\n",
              "      <td>1.3</td>\n",
              "      <td>8.7</td>\n",
              "      <td>22.2</td>\n",
              "      <td>200.645833</td>\n",
              "      <td>Poor</td>\n",
              "    </tr>\n",
              "    <tr>\n",
              "      <th>...</th>\n",
              "      <td>...</td>\n",
              "      <td>...</td>\n",
              "      <td>...</td>\n",
              "      <td>...</td>\n",
              "      <td>...</td>\n",
              "      <td>...</td>\n",
              "      <td>...</td>\n",
              "      <td>...</td>\n",
              "      <td>...</td>\n",
              "      <td>...</td>\n",
              "      <td>...</td>\n",
              "    </tr>\n",
              "    <tr>\n",
              "      <th>1088</th>\n",
              "      <td>1088</td>\n",
              "      <td>18.1</td>\n",
              "      <td>24.0</td>\n",
              "      <td>11.2</td>\n",
              "      <td>1015.4</td>\n",
              "      <td>56</td>\n",
              "      <td>1.8</td>\n",
              "      <td>15.9</td>\n",
              "      <td>25.9</td>\n",
              "      <td>288.416667</td>\n",
              "      <td>Poor</td>\n",
              "    </tr>\n",
              "    <tr>\n",
              "      <th>1089</th>\n",
              "      <td>1089</td>\n",
              "      <td>17.8</td>\n",
              "      <td>25.0</td>\n",
              "      <td>10.7</td>\n",
              "      <td>1015.8</td>\n",
              "      <td>54</td>\n",
              "      <td>2.3</td>\n",
              "      <td>9.4</td>\n",
              "      <td>22.2</td>\n",
              "      <td>256.833333</td>\n",
              "      <td>Poor</td>\n",
              "    </tr>\n",
              "    <tr>\n",
              "      <th>1090</th>\n",
              "      <td>1090</td>\n",
              "      <td>13.9</td>\n",
              "      <td>24.5</td>\n",
              "      <td>11.4</td>\n",
              "      <td>1015.0</td>\n",
              "      <td>95</td>\n",
              "      <td>0.6</td>\n",
              "      <td>8.7</td>\n",
              "      <td>14.8</td>\n",
              "      <td>169.000000</td>\n",
              "      <td>Moderate</td>\n",
              "    </tr>\n",
              "    <tr>\n",
              "      <th>1091</th>\n",
              "      <td>1091</td>\n",
              "      <td>16.3</td>\n",
              "      <td>23.0</td>\n",
              "      <td>9.8</td>\n",
              "      <td>1016.9</td>\n",
              "      <td>78</td>\n",
              "      <td>1.1</td>\n",
              "      <td>7.4</td>\n",
              "      <td>16.5</td>\n",
              "      <td>186.041667</td>\n",
              "      <td>Moderate</td>\n",
              "    </tr>\n",
              "    <tr>\n",
              "      <th>1092</th>\n",
              "      <td>1092</td>\n",
              "      <td>16.3</td>\n",
              "      <td>23.4</td>\n",
              "      <td>9.0</td>\n",
              "      <td>1017.3</td>\n",
              "      <td>68</td>\n",
              "      <td>1.3</td>\n",
              "      <td>7.8</td>\n",
              "      <td>18.3</td>\n",
              "      <td>185.583333</td>\n",
              "      <td>Moderate</td>\n",
              "    </tr>\n",
              "  </tbody>\n",
              "</table>\n",
              "<p>1093 rows × 11 columns</p>\n",
              "</div>"
            ],
            "text/plain": [
              "      Unnamed: 0     T    TM    Tm     SLP   H   VV     V    VM      PM 2.5  \\\n",
              "0              0   7.4   9.8   4.8  1017.6  93  0.5   4.3   9.4  219.720833   \n",
              "1              1   7.8  12.7   4.4  1018.5  87  0.6   4.4  11.1  182.187500   \n",
              "2              2   6.7  13.4   2.4  1019.4  82  0.6   4.8  11.1  154.037500   \n",
              "3              3   8.6  15.5   3.3  1018.7  72  0.8   8.1  20.6  223.208333   \n",
              "4              4  12.4  20.9   4.4  1017.3  61  1.3   8.7  22.2  200.645833   \n",
              "...          ...   ...   ...   ...     ...  ..  ...   ...   ...         ...   \n",
              "1088        1088  18.1  24.0  11.2  1015.4  56  1.8  15.9  25.9  288.416667   \n",
              "1089        1089  17.8  25.0  10.7  1015.8  54  2.3   9.4  22.2  256.833333   \n",
              "1090        1090  13.9  24.5  11.4  1015.0  95  0.6   8.7  14.8  169.000000   \n",
              "1091        1091  16.3  23.0   9.8  1016.9  78  1.1   7.4  16.5  186.041667   \n",
              "1092        1092  16.3  23.4   9.0  1017.3  68  1.3   7.8  18.3  185.583333   \n",
              "\n",
              "     Conclusion  \n",
              "0          Poor  \n",
              "1      Moderate  \n",
              "2      Moderate  \n",
              "3          Poor  \n",
              "4          Poor  \n",
              "...         ...  \n",
              "1088       Poor  \n",
              "1089       Poor  \n",
              "1090   Moderate  \n",
              "1091   Moderate  \n",
              "1092   Moderate  \n",
              "\n",
              "[1093 rows x 11 columns]"
            ]
          },
          "execution_count": 317,
          "metadata": {},
          "output_type": "execute_result"
        }
      ],
      "source": [
        "# Checking that the dataset loaded completely\n",
        "aquap_data"
      ]
    },
    {
      "cell_type": "markdown",
      "metadata": {
        "id": "oCThahfj9ihT"
      },
      "source": [
        "##### Removing the `Unnamed: 0` column from the dataset"
      ]
    },
    {
      "cell_type": "code",
      "execution_count": null,
      "metadata": {
        "id": "V3Ww-8-D9ihU"
      },
      "outputs": [],
      "source": [
        "aquap_data = aquap_data.drop(columns='Unnamed: 0')"
      ]
    },
    {
      "cell_type": "code",
      "execution_count": null,
      "metadata": {
        "id": "ZLCO08Nw9ihV",
        "outputId": "708960ed-bbf0-40fc-c90e-e8b853275689"
      },
      "outputs": [
        {
          "data": {
            "text/html": [
              "<div>\n",
              "<style scoped>\n",
              "    .dataframe tbody tr th:only-of-type {\n",
              "        vertical-align: middle;\n",
              "    }\n",
              "\n",
              "    .dataframe tbody tr th {\n",
              "        vertical-align: top;\n",
              "    }\n",
              "\n",
              "    .dataframe thead th {\n",
              "        text-align: right;\n",
              "    }\n",
              "</style>\n",
              "<table border=\"1\" class=\"dataframe\">\n",
              "  <thead>\n",
              "    <tr style=\"text-align: right;\">\n",
              "      <th></th>\n",
              "      <th>T</th>\n",
              "      <th>TM</th>\n",
              "      <th>Tm</th>\n",
              "      <th>SLP</th>\n",
              "      <th>H</th>\n",
              "      <th>VV</th>\n",
              "      <th>V</th>\n",
              "      <th>VM</th>\n",
              "      <th>PM 2.5</th>\n",
              "      <th>Conclusion</th>\n",
              "    </tr>\n",
              "  </thead>\n",
              "  <tbody>\n",
              "    <tr>\n",
              "      <th>0</th>\n",
              "      <td>7.4</td>\n",
              "      <td>9.8</td>\n",
              "      <td>4.8</td>\n",
              "      <td>1017.6</td>\n",
              "      <td>93</td>\n",
              "      <td>0.5</td>\n",
              "      <td>4.3</td>\n",
              "      <td>9.4</td>\n",
              "      <td>219.720833</td>\n",
              "      <td>Poor</td>\n",
              "    </tr>\n",
              "    <tr>\n",
              "      <th>1</th>\n",
              "      <td>7.8</td>\n",
              "      <td>12.7</td>\n",
              "      <td>4.4</td>\n",
              "      <td>1018.5</td>\n",
              "      <td>87</td>\n",
              "      <td>0.6</td>\n",
              "      <td>4.4</td>\n",
              "      <td>11.1</td>\n",
              "      <td>182.187500</td>\n",
              "      <td>Moderate</td>\n",
              "    </tr>\n",
              "    <tr>\n",
              "      <th>2</th>\n",
              "      <td>6.7</td>\n",
              "      <td>13.4</td>\n",
              "      <td>2.4</td>\n",
              "      <td>1019.4</td>\n",
              "      <td>82</td>\n",
              "      <td>0.6</td>\n",
              "      <td>4.8</td>\n",
              "      <td>11.1</td>\n",
              "      <td>154.037500</td>\n",
              "      <td>Moderate</td>\n",
              "    </tr>\n",
              "    <tr>\n",
              "      <th>3</th>\n",
              "      <td>8.6</td>\n",
              "      <td>15.5</td>\n",
              "      <td>3.3</td>\n",
              "      <td>1018.7</td>\n",
              "      <td>72</td>\n",
              "      <td>0.8</td>\n",
              "      <td>8.1</td>\n",
              "      <td>20.6</td>\n",
              "      <td>223.208333</td>\n",
              "      <td>Poor</td>\n",
              "    </tr>\n",
              "    <tr>\n",
              "      <th>4</th>\n",
              "      <td>12.4</td>\n",
              "      <td>20.9</td>\n",
              "      <td>4.4</td>\n",
              "      <td>1017.3</td>\n",
              "      <td>61</td>\n",
              "      <td>1.3</td>\n",
              "      <td>8.7</td>\n",
              "      <td>22.2</td>\n",
              "      <td>200.645833</td>\n",
              "      <td>Poor</td>\n",
              "    </tr>\n",
              "  </tbody>\n",
              "</table>\n",
              "</div>"
            ],
            "text/plain": [
              "      T    TM   Tm     SLP   H   VV    V    VM      PM 2.5 Conclusion\n",
              "0   7.4   9.8  4.8  1017.6  93  0.5  4.3   9.4  219.720833       Poor\n",
              "1   7.8  12.7  4.4  1018.5  87  0.6  4.4  11.1  182.187500   Moderate\n",
              "2   6.7  13.4  2.4  1019.4  82  0.6  4.8  11.1  154.037500   Moderate\n",
              "3   8.6  15.5  3.3  1018.7  72  0.8  8.1  20.6  223.208333       Poor\n",
              "4  12.4  20.9  4.4  1017.3  61  1.3  8.7  22.2  200.645833       Poor"
            ]
          },
          "execution_count": 319,
          "metadata": {},
          "output_type": "execute_result"
        }
      ],
      "source": [
        "# Printing the first five rows of the dataset to check that the modification is done or not.\n",
        "aquap_data.head()"
      ]
    },
    {
      "cell_type": "code",
      "execution_count": null,
      "metadata": {
        "id": "IL0ZD6jQ9ihW",
        "outputId": "20042e7b-30e2-4287-e9b5-b0feda23feb2"
      },
      "outputs": [
        {
          "data": {
            "text/plain": [
              "(1093, 10)"
            ]
          },
          "execution_count": 320,
          "metadata": {},
          "output_type": "execute_result"
        }
      ],
      "source": [
        "# Printing the number of dimensions of dataset - aquap_data\n",
        "aquap_data.shape"
      ]
    },
    {
      "cell_type": "markdown",
      "metadata": {
        "id": "CZWKY4879ihX"
      },
      "source": [
        "#### Creating Dummy Variables"
      ]
    },
    {
      "cell_type": "code",
      "execution_count": null,
      "metadata": {
        "id": "xCIN3IvW9ihY"
      },
      "outputs": [],
      "source": [
        "aquap_data['Good'] = aquap_data.Conclusion.map({'Good': 1, 'Satisfactory': 0, 'Moderate': 0, 'Poor': 0, 'Very Poor': 0, 'Severe': 0})\n",
        "aquap_data['Satisfactory'] = aquap_data.Conclusion.map({'Good': 0, 'Satisfactory': 1, 'Moderate': 0, 'Poor': 0, 'Very Poor': 0, 'Severe': 0})\n",
        "aquap_data['Moderate'] = aquap_data.Conclusion.map({'Good': 0, 'Satisfactory': 0, 'Moderate': 1, 'Poor': 0, 'Very Poor': 0, 'Severe': 0})\n",
        "aquap_data['Poor'] = aquap_data.Conclusion.map({'Good': 0, 'Satisfactory': 0, 'Moderate': 0, 'Poor': 1, 'Very Poor': 0, 'Severe': 0})\n",
        "aquap_data['Very Poor'] = aquap_data.Conclusion.map({'Good': 0, 'Satisfactory': 0, 'Moderate': 0, 'Poor': 0, 'Very Poor': 1, 'Severe': 0})\n",
        "aquap_data['Severe'] = aquap_data.Conclusion.map({'Good': 0, 'Satisfactory': 0, 'Moderate': 0, 'Poor': 0, 'Very Poor': 0, 'Severe': 1})"
      ]
    },
    {
      "cell_type": "code",
      "execution_count": null,
      "metadata": {
        "id": "SoouZZCC9ihZ",
        "outputId": "8b359863-d3ca-4401-cb3b-cac8c20c660d"
      },
      "outputs": [
        {
          "data": {
            "text/html": [
              "<div>\n",
              "<style scoped>\n",
              "    .dataframe tbody tr th:only-of-type {\n",
              "        vertical-align: middle;\n",
              "    }\n",
              "\n",
              "    .dataframe tbody tr th {\n",
              "        vertical-align: top;\n",
              "    }\n",
              "\n",
              "    .dataframe thead th {\n",
              "        text-align: right;\n",
              "    }\n",
              "</style>\n",
              "<table border=\"1\" class=\"dataframe\">\n",
              "  <thead>\n",
              "    <tr style=\"text-align: right;\">\n",
              "      <th></th>\n",
              "      <th>T</th>\n",
              "      <th>TM</th>\n",
              "      <th>Tm</th>\n",
              "      <th>SLP</th>\n",
              "      <th>H</th>\n",
              "      <th>VV</th>\n",
              "      <th>V</th>\n",
              "      <th>VM</th>\n",
              "      <th>PM 2.5</th>\n",
              "      <th>Conclusion</th>\n",
              "      <th>Good</th>\n",
              "      <th>Satisfactory</th>\n",
              "      <th>Moderate</th>\n",
              "      <th>Poor</th>\n",
              "      <th>Very Poor</th>\n",
              "      <th>Severe</th>\n",
              "    </tr>\n",
              "  </thead>\n",
              "  <tbody>\n",
              "    <tr>\n",
              "      <th>0</th>\n",
              "      <td>7.4</td>\n",
              "      <td>9.8</td>\n",
              "      <td>4.8</td>\n",
              "      <td>1017.6</td>\n",
              "      <td>93</td>\n",
              "      <td>0.5</td>\n",
              "      <td>4.3</td>\n",
              "      <td>9.4</td>\n",
              "      <td>219.720833</td>\n",
              "      <td>Poor</td>\n",
              "      <td>0</td>\n",
              "      <td>0</td>\n",
              "      <td>0</td>\n",
              "      <td>1</td>\n",
              "      <td>0</td>\n",
              "      <td>0</td>\n",
              "    </tr>\n",
              "    <tr>\n",
              "      <th>1</th>\n",
              "      <td>7.8</td>\n",
              "      <td>12.7</td>\n",
              "      <td>4.4</td>\n",
              "      <td>1018.5</td>\n",
              "      <td>87</td>\n",
              "      <td>0.6</td>\n",
              "      <td>4.4</td>\n",
              "      <td>11.1</td>\n",
              "      <td>182.187500</td>\n",
              "      <td>Moderate</td>\n",
              "      <td>0</td>\n",
              "      <td>0</td>\n",
              "      <td>1</td>\n",
              "      <td>0</td>\n",
              "      <td>0</td>\n",
              "      <td>0</td>\n",
              "    </tr>\n",
              "    <tr>\n",
              "      <th>2</th>\n",
              "      <td>6.7</td>\n",
              "      <td>13.4</td>\n",
              "      <td>2.4</td>\n",
              "      <td>1019.4</td>\n",
              "      <td>82</td>\n",
              "      <td>0.6</td>\n",
              "      <td>4.8</td>\n",
              "      <td>11.1</td>\n",
              "      <td>154.037500</td>\n",
              "      <td>Moderate</td>\n",
              "      <td>0</td>\n",
              "      <td>0</td>\n",
              "      <td>1</td>\n",
              "      <td>0</td>\n",
              "      <td>0</td>\n",
              "      <td>0</td>\n",
              "    </tr>\n",
              "    <tr>\n",
              "      <th>3</th>\n",
              "      <td>8.6</td>\n",
              "      <td>15.5</td>\n",
              "      <td>3.3</td>\n",
              "      <td>1018.7</td>\n",
              "      <td>72</td>\n",
              "      <td>0.8</td>\n",
              "      <td>8.1</td>\n",
              "      <td>20.6</td>\n",
              "      <td>223.208333</td>\n",
              "      <td>Poor</td>\n",
              "      <td>0</td>\n",
              "      <td>0</td>\n",
              "      <td>0</td>\n",
              "      <td>1</td>\n",
              "      <td>0</td>\n",
              "      <td>0</td>\n",
              "    </tr>\n",
              "    <tr>\n",
              "      <th>4</th>\n",
              "      <td>12.4</td>\n",
              "      <td>20.9</td>\n",
              "      <td>4.4</td>\n",
              "      <td>1017.3</td>\n",
              "      <td>61</td>\n",
              "      <td>1.3</td>\n",
              "      <td>8.7</td>\n",
              "      <td>22.2</td>\n",
              "      <td>200.645833</td>\n",
              "      <td>Poor</td>\n",
              "      <td>0</td>\n",
              "      <td>0</td>\n",
              "      <td>0</td>\n",
              "      <td>1</td>\n",
              "      <td>0</td>\n",
              "      <td>0</td>\n",
              "    </tr>\n",
              "  </tbody>\n",
              "</table>\n",
              "</div>"
            ],
            "text/plain": [
              "      T    TM   Tm     SLP   H   VV    V    VM      PM 2.5 Conclusion  Good  \\\n",
              "0   7.4   9.8  4.8  1017.6  93  0.5  4.3   9.4  219.720833       Poor     0   \n",
              "1   7.8  12.7  4.4  1018.5  87  0.6  4.4  11.1  182.187500   Moderate     0   \n",
              "2   6.7  13.4  2.4  1019.4  82  0.6  4.8  11.1  154.037500   Moderate     0   \n",
              "3   8.6  15.5  3.3  1018.7  72  0.8  8.1  20.6  223.208333       Poor     0   \n",
              "4  12.4  20.9  4.4  1017.3  61  1.3  8.7  22.2  200.645833       Poor     0   \n",
              "\n",
              "   Satisfactory  Moderate  Poor  Very Poor  Severe  \n",
              "0             0         0     1          0       0  \n",
              "1             0         1     0          0       0  \n",
              "2             0         1     0          0       0  \n",
              "3             0         0     1          0       0  \n",
              "4             0         0     1          0       0  "
            ]
          },
          "execution_count": 323,
          "metadata": {},
          "output_type": "execute_result"
        }
      ],
      "source": [
        "# Printing the first five rows of the dataset after creating the dummy variables\n",
        "aquap_data.head()"
      ]
    },
    {
      "cell_type": "markdown",
      "metadata": {
        "id": "wb7-dCx49ihZ"
      },
      "source": [
        "#### Removing `Conclusion` coulumn"
      ]
    },
    {
      "cell_type": "code",
      "execution_count": null,
      "metadata": {
        "id": "Hk2pz9ub9iha"
      },
      "outputs": [],
      "source": [
        "aquap_data = aquap_data.drop(columns='Conclusion')"
      ]
    },
    {
      "cell_type": "code",
      "execution_count": null,
      "metadata": {
        "id": "7rq7ICZQ9iha",
        "outputId": "0633928c-d89e-4e1c-9f5d-4cbb61d55564"
      },
      "outputs": [
        {
          "data": {
            "text/html": [
              "<div>\n",
              "<style scoped>\n",
              "    .dataframe tbody tr th:only-of-type {\n",
              "        vertical-align: middle;\n",
              "    }\n",
              "\n",
              "    .dataframe tbody tr th {\n",
              "        vertical-align: top;\n",
              "    }\n",
              "\n",
              "    .dataframe thead th {\n",
              "        text-align: right;\n",
              "    }\n",
              "</style>\n",
              "<table border=\"1\" class=\"dataframe\">\n",
              "  <thead>\n",
              "    <tr style=\"text-align: right;\">\n",
              "      <th></th>\n",
              "      <th>T</th>\n",
              "      <th>TM</th>\n",
              "      <th>Tm</th>\n",
              "      <th>SLP</th>\n",
              "      <th>H</th>\n",
              "      <th>VV</th>\n",
              "      <th>V</th>\n",
              "      <th>VM</th>\n",
              "      <th>PM 2.5</th>\n",
              "      <th>Good</th>\n",
              "      <th>Satisfactory</th>\n",
              "      <th>Moderate</th>\n",
              "      <th>Poor</th>\n",
              "      <th>Very Poor</th>\n",
              "      <th>Severe</th>\n",
              "    </tr>\n",
              "  </thead>\n",
              "  <tbody>\n",
              "    <tr>\n",
              "      <th>0</th>\n",
              "      <td>7.4</td>\n",
              "      <td>9.8</td>\n",
              "      <td>4.8</td>\n",
              "      <td>1017.6</td>\n",
              "      <td>93</td>\n",
              "      <td>0.5</td>\n",
              "      <td>4.3</td>\n",
              "      <td>9.4</td>\n",
              "      <td>219.720833</td>\n",
              "      <td>0</td>\n",
              "      <td>0</td>\n",
              "      <td>0</td>\n",
              "      <td>1</td>\n",
              "      <td>0</td>\n",
              "      <td>0</td>\n",
              "    </tr>\n",
              "    <tr>\n",
              "      <th>1</th>\n",
              "      <td>7.8</td>\n",
              "      <td>12.7</td>\n",
              "      <td>4.4</td>\n",
              "      <td>1018.5</td>\n",
              "      <td>87</td>\n",
              "      <td>0.6</td>\n",
              "      <td>4.4</td>\n",
              "      <td>11.1</td>\n",
              "      <td>182.187500</td>\n",
              "      <td>0</td>\n",
              "      <td>0</td>\n",
              "      <td>1</td>\n",
              "      <td>0</td>\n",
              "      <td>0</td>\n",
              "      <td>0</td>\n",
              "    </tr>\n",
              "    <tr>\n",
              "      <th>2</th>\n",
              "      <td>6.7</td>\n",
              "      <td>13.4</td>\n",
              "      <td>2.4</td>\n",
              "      <td>1019.4</td>\n",
              "      <td>82</td>\n",
              "      <td>0.6</td>\n",
              "      <td>4.8</td>\n",
              "      <td>11.1</td>\n",
              "      <td>154.037500</td>\n",
              "      <td>0</td>\n",
              "      <td>0</td>\n",
              "      <td>1</td>\n",
              "      <td>0</td>\n",
              "      <td>0</td>\n",
              "      <td>0</td>\n",
              "    </tr>\n",
              "    <tr>\n",
              "      <th>3</th>\n",
              "      <td>8.6</td>\n",
              "      <td>15.5</td>\n",
              "      <td>3.3</td>\n",
              "      <td>1018.7</td>\n",
              "      <td>72</td>\n",
              "      <td>0.8</td>\n",
              "      <td>8.1</td>\n",
              "      <td>20.6</td>\n",
              "      <td>223.208333</td>\n",
              "      <td>0</td>\n",
              "      <td>0</td>\n",
              "      <td>0</td>\n",
              "      <td>1</td>\n",
              "      <td>0</td>\n",
              "      <td>0</td>\n",
              "    </tr>\n",
              "    <tr>\n",
              "      <th>4</th>\n",
              "      <td>12.4</td>\n",
              "      <td>20.9</td>\n",
              "      <td>4.4</td>\n",
              "      <td>1017.3</td>\n",
              "      <td>61</td>\n",
              "      <td>1.3</td>\n",
              "      <td>8.7</td>\n",
              "      <td>22.2</td>\n",
              "      <td>200.645833</td>\n",
              "      <td>0</td>\n",
              "      <td>0</td>\n",
              "      <td>0</td>\n",
              "      <td>1</td>\n",
              "      <td>0</td>\n",
              "      <td>0</td>\n",
              "    </tr>\n",
              "  </tbody>\n",
              "</table>\n",
              "</div>"
            ],
            "text/plain": [
              "      T    TM   Tm     SLP   H   VV    V    VM      PM 2.5  Good  \\\n",
              "0   7.4   9.8  4.8  1017.6  93  0.5  4.3   9.4  219.720833     0   \n",
              "1   7.8  12.7  4.4  1018.5  87  0.6  4.4  11.1  182.187500     0   \n",
              "2   6.7  13.4  2.4  1019.4  82  0.6  4.8  11.1  154.037500     0   \n",
              "3   8.6  15.5  3.3  1018.7  72  0.8  8.1  20.6  223.208333     0   \n",
              "4  12.4  20.9  4.4  1017.3  61  1.3  8.7  22.2  200.645833     0   \n",
              "\n",
              "   Satisfactory  Moderate  Poor  Very Poor  Severe  \n",
              "0             0         0     1          0       0  \n",
              "1             0         1     0          0       0  \n",
              "2             0         1     0          0       0  \n",
              "3             0         0     1          0       0  \n",
              "4             0         0     1          0       0  "
            ]
          },
          "execution_count": 325,
          "metadata": {},
          "output_type": "execute_result"
        }
      ],
      "source": [
        "# Printing the first five rows of the dataset after removing conclusion column\n",
        "aquap_data.head()"
      ]
    },
    {
      "cell_type": "code",
      "execution_count": null,
      "metadata": {
        "id": "n2n6EULc9iha",
        "outputId": "998f80dd-40d3-4c1e-cd85-e5f800a7ed37"
      },
      "outputs": [
        {
          "data": {
            "text/html": [
              "<div>\n",
              "<style scoped>\n",
              "    .dataframe tbody tr th:only-of-type {\n",
              "        vertical-align: middle;\n",
              "    }\n",
              "\n",
              "    .dataframe tbody tr th {\n",
              "        vertical-align: top;\n",
              "    }\n",
              "\n",
              "    .dataframe thead th {\n",
              "        text-align: right;\n",
              "    }\n",
              "</style>\n",
              "<table border=\"1\" class=\"dataframe\">\n",
              "  <thead>\n",
              "    <tr style=\"text-align: right;\">\n",
              "      <th></th>\n",
              "      <th>T</th>\n",
              "      <th>TM</th>\n",
              "      <th>Tm</th>\n",
              "      <th>SLP</th>\n",
              "      <th>H</th>\n",
              "      <th>VV</th>\n",
              "      <th>V</th>\n",
              "      <th>VM</th>\n",
              "      <th>PM 2.5</th>\n",
              "      <th>Good</th>\n",
              "      <th>Satisfactory</th>\n",
              "      <th>Moderate</th>\n",
              "      <th>Poor</th>\n",
              "      <th>Very Poor</th>\n",
              "      <th>Severe</th>\n",
              "    </tr>\n",
              "  </thead>\n",
              "  <tbody>\n",
              "    <tr>\n",
              "      <th>count</th>\n",
              "      <td>1093.000000</td>\n",
              "      <td>1093.000000</td>\n",
              "      <td>1093.000000</td>\n",
              "      <td>1093.000000</td>\n",
              "      <td>1093.000000</td>\n",
              "      <td>1093.000000</td>\n",
              "      <td>1093.000000</td>\n",
              "      <td>1093.000000</td>\n",
              "      <td>1092.000000</td>\n",
              "      <td>1093.000000</td>\n",
              "      <td>1093.000000</td>\n",
              "      <td>1093.000000</td>\n",
              "      <td>1093.000000</td>\n",
              "      <td>1093.000000</td>\n",
              "      <td>1093.000000</td>\n",
              "    </tr>\n",
              "    <tr>\n",
              "      <th>mean</th>\n",
              "      <td>26.009241</td>\n",
              "      <td>32.482251</td>\n",
              "      <td>19.460201</td>\n",
              "      <td>1008.081885</td>\n",
              "      <td>62.918573</td>\n",
              "      <td>2.003111</td>\n",
              "      <td>6.751510</td>\n",
              "      <td>15.805124</td>\n",
              "      <td>109.090984</td>\n",
              "      <td>0.313815</td>\n",
              "      <td>0.248856</td>\n",
              "      <td>0.268984</td>\n",
              "      <td>0.139067</td>\n",
              "      <td>0.025618</td>\n",
              "      <td>0.003660</td>\n",
              "    </tr>\n",
              "    <tr>\n",
              "      <th>std</th>\n",
              "      <td>7.237401</td>\n",
              "      <td>6.679078</td>\n",
              "      <td>7.438653</td>\n",
              "      <td>7.529237</td>\n",
              "      <td>15.709816</td>\n",
              "      <td>0.747541</td>\n",
              "      <td>3.841137</td>\n",
              "      <td>7.308435</td>\n",
              "      <td>84.465790</td>\n",
              "      <td>0.464255</td>\n",
              "      <td>0.432548</td>\n",
              "      <td>0.443635</td>\n",
              "      <td>0.346175</td>\n",
              "      <td>0.158064</td>\n",
              "      <td>0.060412</td>\n",
              "    </tr>\n",
              "    <tr>\n",
              "      <th>min</th>\n",
              "      <td>6.700000</td>\n",
              "      <td>9.800000</td>\n",
              "      <td>0.000000</td>\n",
              "      <td>991.500000</td>\n",
              "      <td>20.000000</td>\n",
              "      <td>0.300000</td>\n",
              "      <td>0.400000</td>\n",
              "      <td>1.900000</td>\n",
              "      <td>0.000000</td>\n",
              "      <td>0.000000</td>\n",
              "      <td>0.000000</td>\n",
              "      <td>0.000000</td>\n",
              "      <td>0.000000</td>\n",
              "      <td>0.000000</td>\n",
              "      <td>0.000000</td>\n",
              "    </tr>\n",
              "    <tr>\n",
              "      <th>25%</th>\n",
              "      <td>19.300000</td>\n",
              "      <td>27.800000</td>\n",
              "      <td>12.100000</td>\n",
              "      <td>1001.100000</td>\n",
              "      <td>54.000000</td>\n",
              "      <td>1.600000</td>\n",
              "      <td>3.700000</td>\n",
              "      <td>11.100000</td>\n",
              "      <td>41.833333</td>\n",
              "      <td>0.000000</td>\n",
              "      <td>0.000000</td>\n",
              "      <td>0.000000</td>\n",
              "      <td>0.000000</td>\n",
              "      <td>0.000000</td>\n",
              "      <td>0.000000</td>\n",
              "    </tr>\n",
              "    <tr>\n",
              "      <th>50%</th>\n",
              "      <td>28.200000</td>\n",
              "      <td>34.200000</td>\n",
              "      <td>21.200000</td>\n",
              "      <td>1008.100000</td>\n",
              "      <td>64.000000</td>\n",
              "      <td>1.900000</td>\n",
              "      <td>6.500000</td>\n",
              "      <td>14.800000</td>\n",
              "      <td>83.458333</td>\n",
              "      <td>0.000000</td>\n",
              "      <td>0.000000</td>\n",
              "      <td>0.000000</td>\n",
              "      <td>0.000000</td>\n",
              "      <td>0.000000</td>\n",
              "      <td>0.000000</td>\n",
              "    </tr>\n",
              "    <tr>\n",
              "      <th>75%</th>\n",
              "      <td>31.700000</td>\n",
              "      <td>37.000000</td>\n",
              "      <td>26.000000</td>\n",
              "      <td>1015.000000</td>\n",
              "      <td>74.000000</td>\n",
              "      <td>2.600000</td>\n",
              "      <td>9.100000</td>\n",
              "      <td>18.300000</td>\n",
              "      <td>158.291667</td>\n",
              "      <td>1.000000</td>\n",
              "      <td>0.000000</td>\n",
              "      <td>1.000000</td>\n",
              "      <td>0.000000</td>\n",
              "      <td>0.000000</td>\n",
              "      <td>0.000000</td>\n",
              "    </tr>\n",
              "    <tr>\n",
              "      <th>max</th>\n",
              "      <td>38.500000</td>\n",
              "      <td>45.500000</td>\n",
              "      <td>32.700000</td>\n",
              "      <td>1023.200000</td>\n",
              "      <td>98.000000</td>\n",
              "      <td>5.800000</td>\n",
              "      <td>24.400000</td>\n",
              "      <td>57.600000</td>\n",
              "      <td>404.500000</td>\n",
              "      <td>1.000000</td>\n",
              "      <td>1.000000</td>\n",
              "      <td>1.000000</td>\n",
              "      <td>1.000000</td>\n",
              "      <td>1.000000</td>\n",
              "      <td>1.000000</td>\n",
              "    </tr>\n",
              "  </tbody>\n",
              "</table>\n",
              "</div>"
            ],
            "text/plain": [
              "                 T           TM           Tm          SLP            H  \\\n",
              "count  1093.000000  1093.000000  1093.000000  1093.000000  1093.000000   \n",
              "mean     26.009241    32.482251    19.460201  1008.081885    62.918573   \n",
              "std       7.237401     6.679078     7.438653     7.529237    15.709816   \n",
              "min       6.700000     9.800000     0.000000   991.500000    20.000000   \n",
              "25%      19.300000    27.800000    12.100000  1001.100000    54.000000   \n",
              "50%      28.200000    34.200000    21.200000  1008.100000    64.000000   \n",
              "75%      31.700000    37.000000    26.000000  1015.000000    74.000000   \n",
              "max      38.500000    45.500000    32.700000  1023.200000    98.000000   \n",
              "\n",
              "                VV            V           VM       PM 2.5         Good  \\\n",
              "count  1093.000000  1093.000000  1093.000000  1092.000000  1093.000000   \n",
              "mean      2.003111     6.751510    15.805124   109.090984     0.313815   \n",
              "std       0.747541     3.841137     7.308435    84.465790     0.464255   \n",
              "min       0.300000     0.400000     1.900000     0.000000     0.000000   \n",
              "25%       1.600000     3.700000    11.100000    41.833333     0.000000   \n",
              "50%       1.900000     6.500000    14.800000    83.458333     0.000000   \n",
              "75%       2.600000     9.100000    18.300000   158.291667     1.000000   \n",
              "max       5.800000    24.400000    57.600000   404.500000     1.000000   \n",
              "\n",
              "       Satisfactory     Moderate         Poor    Very Poor       Severe  \n",
              "count   1093.000000  1093.000000  1093.000000  1093.000000  1093.000000  \n",
              "mean       0.248856     0.268984     0.139067     0.025618     0.003660  \n",
              "std        0.432548     0.443635     0.346175     0.158064     0.060412  \n",
              "min        0.000000     0.000000     0.000000     0.000000     0.000000  \n",
              "25%        0.000000     0.000000     0.000000     0.000000     0.000000  \n",
              "50%        0.000000     0.000000     0.000000     0.000000     0.000000  \n",
              "75%        0.000000     1.000000     0.000000     0.000000     0.000000  \n",
              "max        1.000000     1.000000     1.000000     1.000000     1.000000  "
            ]
          },
          "execution_count": 326,
          "metadata": {},
          "output_type": "execute_result"
        }
      ],
      "source": [
        "# Generate descriptive statistics of dataset\n",
        "aquap_data.describe()"
      ]
    },
    {
      "cell_type": "markdown",
      "metadata": {
        "id": "Xmkh7frI9ihb"
      },
      "source": [
        "### Data Preprocessing"
      ]
    },
    {
      "cell_type": "markdown",
      "metadata": {
        "id": "nrNm9Ozg9ihb"
      },
      "source": [
        "#### Dealing with missing data"
      ]
    },
    {
      "cell_type": "code",
      "execution_count": null,
      "metadata": {
        "id": "keXI4yKW9ihb",
        "outputId": "ad0b9d7e-00c9-4cd9-9716-41b071756643"
      },
      "outputs": [
        {
          "data": {
            "text/plain": [
              "T               0\n",
              "TM              0\n",
              "Tm              0\n",
              "SLP             0\n",
              "H               0\n",
              "VV              0\n",
              "V               0\n",
              "VM              0\n",
              "PM 2.5          1\n",
              "Good            0\n",
              "Satisfactory    0\n",
              "Moderate        0\n",
              "Poor            0\n",
              "Very Poor       0\n",
              "Severe          0\n",
              "dtype: int64"
            ]
          },
          "execution_count": 327,
          "metadata": {},
          "output_type": "execute_result"
        }
      ],
      "source": [
        "aquap_data.isnull().sum()"
      ]
    },
    {
      "cell_type": "markdown",
      "metadata": {
        "id": "AarvP7Y_9ihc"
      },
      "source": [
        "#### Removing Missing Values"
      ]
    },
    {
      "cell_type": "code",
      "execution_count": null,
      "metadata": {
        "id": "G3Qtyg0a9ihc",
        "outputId": "7d2d0031-35e7-427c-9e6c-eee4168d91c0"
      },
      "outputs": [
        {
          "data": {
            "text/plain": [
              "T               0\n",
              "TM              0\n",
              "Tm              0\n",
              "SLP             0\n",
              "H               0\n",
              "VV              0\n",
              "V               0\n",
              "VM              0\n",
              "PM 2.5          0\n",
              "Good            0\n",
              "Satisfactory    0\n",
              "Moderate        0\n",
              "Poor            0\n",
              "Very Poor       0\n",
              "Severe          0\n",
              "dtype: int64"
            ]
          },
          "execution_count": 328,
          "metadata": {},
          "output_type": "execute_result"
        }
      ],
      "source": [
        "aquap_data.dropna(inplace=True)\n",
        "aquap_data.isnull().sum()"
      ]
    },
    {
      "cell_type": "markdown",
      "metadata": {
        "id": "PCSu6Awk9ihc"
      },
      "source": [
        "### Choosing Model"
      ]
    },
    {
      "cell_type": "code",
      "execution_count": null,
      "metadata": {
        "id": "ZCi8bEt69ihc"
      },
      "outputs": [],
      "source": [
        "# Importing packages for applying machine learning algorithm\n",
        "from sklearn.model_selection import train_test_split\n",
        "from sklearn.linear_model import LinearRegression\n",
        "import seaborn as sns\n",
        "from sklearn.metrics import accuracy_score"
      ]
    },
    {
      "cell_type": "code",
      "execution_count": null,
      "metadata": {
        "id": "Psw03oiJ9ihd"
      },
      "outputs": [],
      "source": [
        "feature = aquap_data\n",
        "feature = feature.drop(columns='PM 2.5')\n",
        "feature = feature.drop(columns='Good')\n",
        "feature = feature.drop(columns='Satisfactory')\n",
        "feature = feature.drop(columns='Moderate')\n",
        "feature = feature.drop(columns='Poor')\n",
        "feature = feature.drop(columns='Very Poor')\n",
        "feature = feature.drop(columns='Severe')"
      ]
    },
    {
      "cell_type": "code",
      "execution_count": null,
      "metadata": {
        "id": "eWYWjjwW9ihd",
        "outputId": "9a1ef728-3ad5-4b52-9e26-291dab60f5b4"
      },
      "outputs": [
        {
          "name": "stdout",
          "output_type": "stream",
          "text": [
            "Feature Data\n"
          ]
        },
        {
          "data": {
            "text/html": [
              "<div>\n",
              "<style scoped>\n",
              "    .dataframe tbody tr th:only-of-type {\n",
              "        vertical-align: middle;\n",
              "    }\n",
              "\n",
              "    .dataframe tbody tr th {\n",
              "        vertical-align: top;\n",
              "    }\n",
              "\n",
              "    .dataframe thead th {\n",
              "        text-align: right;\n",
              "    }\n",
              "</style>\n",
              "<table border=\"1\" class=\"dataframe\">\n",
              "  <thead>\n",
              "    <tr style=\"text-align: right;\">\n",
              "      <th></th>\n",
              "      <th>T</th>\n",
              "      <th>TM</th>\n",
              "      <th>Tm</th>\n",
              "      <th>SLP</th>\n",
              "      <th>H</th>\n",
              "      <th>VV</th>\n",
              "      <th>V</th>\n",
              "      <th>VM</th>\n",
              "    </tr>\n",
              "  </thead>\n",
              "  <tbody>\n",
              "    <tr>\n",
              "      <th>0</th>\n",
              "      <td>7.4</td>\n",
              "      <td>9.8</td>\n",
              "      <td>4.8</td>\n",
              "      <td>1017.6</td>\n",
              "      <td>93</td>\n",
              "      <td>0.5</td>\n",
              "      <td>4.3</td>\n",
              "      <td>9.4</td>\n",
              "    </tr>\n",
              "    <tr>\n",
              "      <th>1</th>\n",
              "      <td>7.8</td>\n",
              "      <td>12.7</td>\n",
              "      <td>4.4</td>\n",
              "      <td>1018.5</td>\n",
              "      <td>87</td>\n",
              "      <td>0.6</td>\n",
              "      <td>4.4</td>\n",
              "      <td>11.1</td>\n",
              "    </tr>\n",
              "    <tr>\n",
              "      <th>2</th>\n",
              "      <td>6.7</td>\n",
              "      <td>13.4</td>\n",
              "      <td>2.4</td>\n",
              "      <td>1019.4</td>\n",
              "      <td>82</td>\n",
              "      <td>0.6</td>\n",
              "      <td>4.8</td>\n",
              "      <td>11.1</td>\n",
              "    </tr>\n",
              "    <tr>\n",
              "      <th>3</th>\n",
              "      <td>8.6</td>\n",
              "      <td>15.5</td>\n",
              "      <td>3.3</td>\n",
              "      <td>1018.7</td>\n",
              "      <td>72</td>\n",
              "      <td>0.8</td>\n",
              "      <td>8.1</td>\n",
              "      <td>20.6</td>\n",
              "    </tr>\n",
              "    <tr>\n",
              "      <th>4</th>\n",
              "      <td>12.4</td>\n",
              "      <td>20.9</td>\n",
              "      <td>4.4</td>\n",
              "      <td>1017.3</td>\n",
              "      <td>61</td>\n",
              "      <td>1.3</td>\n",
              "      <td>8.7</td>\n",
              "      <td>22.2</td>\n",
              "    </tr>\n",
              "  </tbody>\n",
              "</table>\n",
              "</div>"
            ],
            "text/plain": [
              "      T    TM   Tm     SLP   H   VV    V    VM\n",
              "0   7.4   9.8  4.8  1017.6  93  0.5  4.3   9.4\n",
              "1   7.8  12.7  4.4  1018.5  87  0.6  4.4  11.1\n",
              "2   6.7  13.4  2.4  1019.4  82  0.6  4.8  11.1\n",
              "3   8.6  15.5  3.3  1018.7  72  0.8  8.1  20.6\n",
              "4  12.4  20.9  4.4  1017.3  61  1.3  8.7  22.2"
            ]
          },
          "execution_count": 331,
          "metadata": {},
          "output_type": "execute_result"
        }
      ],
      "source": [
        "# Printing the first five rows of the feature table\n",
        "print(\"Feature Data\")\n",
        "feature.head()"
      ]
    },
    {
      "cell_type": "code",
      "execution_count": null,
      "metadata": {
        "id": "NPu_QZ7U9ihd"
      },
      "outputs": [],
      "source": [
        "label = aquap_data['PM 2.5']"
      ]
    },
    {
      "cell_type": "code",
      "execution_count": null,
      "metadata": {
        "id": "sP9-cgMK9ihd",
        "outputId": "67fabc8a-406a-4aa9-924b-95dcbd66bb8f"
      },
      "outputs": [
        {
          "name": "stdout",
          "output_type": "stream",
          "text": [
            "Label Data\n"
          ]
        },
        {
          "data": {
            "text/plain": [
              "0    219.720833\n",
              "1    182.187500\n",
              "2    154.037500\n",
              "3    223.208333\n",
              "4    200.645833\n",
              "Name: PM 2.5, dtype: float64"
            ]
          },
          "execution_count": 333,
          "metadata": {},
          "output_type": "execute_result"
        }
      ],
      "source": [
        "# Printing the first five rows of the label table\n",
        "print(\"Label Data\")\n",
        "label.head()"
      ]
    },
    {
      "cell_type": "markdown",
      "metadata": {
        "id": "nQG5ij6G9ihe"
      },
      "source": [
        "Divide the data into training and testing modules"
      ]
    },
    {
      "cell_type": "code",
      "execution_count": null,
      "metadata": {
        "id": "mMgttNvb9ihe"
      },
      "outputs": [],
      "source": [
        "X_train, X_test, Y_train, Y_test = train_test_split(feature, label, test_size=0.2, random_state=42)"
      ]
    },
    {
      "cell_type": "code",
      "execution_count": null,
      "metadata": {
        "id": "CzcmYhnn9ihe",
        "outputId": "34b38f78-de48-4955-c920-52a431f2981b"
      },
      "outputs": [
        {
          "name": "stdout",
          "output_type": "stream",
          "text": [
            "(873, 8) (873,)\n"
          ]
        }
      ],
      "source": [
        "print(X_train.shape, Y_train.shape)"
      ]
    },
    {
      "cell_type": "code",
      "execution_count": null,
      "metadata": {
        "id": "30IbeUff9ihe",
        "outputId": "a10cf1cf-caa5-4144-ed6f-ff99ace3baab"
      },
      "outputs": [
        {
          "name": "stdout",
          "output_type": "stream",
          "text": [
            "(219, 8) (219,)\n"
          ]
        }
      ],
      "source": [
        "print(X_test.shape, Y_test.shape)"
      ]
    },
    {
      "cell_type": "code",
      "execution_count": null,
      "metadata": {
        "id": "PtqHA4EJ9ihf"
      },
      "outputs": [],
      "source": [
        "lr = LinearRegression()"
      ]
    },
    {
      "cell_type": "code",
      "execution_count": null,
      "metadata": {
        "id": "6tG_xar89ihf",
        "outputId": "2c228074-7529-46a4-e7f5-c3423672c75d"
      },
      "outputs": [
        {
          "data": {
            "text/html": [
              "<style>#sk-container-id-15 {color: black;background-color: white;}#sk-container-id-15 pre{padding: 0;}#sk-container-id-15 div.sk-toggleable {background-color: white;}#sk-container-id-15 label.sk-toggleable__label {cursor: pointer;display: block;width: 100%;margin-bottom: 0;padding: 0.3em;box-sizing: border-box;text-align: center;}#sk-container-id-15 label.sk-toggleable__label-arrow:before {content: \"▸\";float: left;margin-right: 0.25em;color: #696969;}#sk-container-id-15 label.sk-toggleable__label-arrow:hover:before {color: black;}#sk-container-id-15 div.sk-estimator:hover label.sk-toggleable__label-arrow:before {color: black;}#sk-container-id-15 div.sk-toggleable__content {max-height: 0;max-width: 0;overflow: hidden;text-align: left;background-color: #f0f8ff;}#sk-container-id-15 div.sk-toggleable__content pre {margin: 0.2em;color: black;border-radius: 0.25em;background-color: #f0f8ff;}#sk-container-id-15 input.sk-toggleable__control:checked~div.sk-toggleable__content {max-height: 200px;max-width: 100%;overflow: auto;}#sk-container-id-15 input.sk-toggleable__control:checked~label.sk-toggleable__label-arrow:before {content: \"▾\";}#sk-container-id-15 div.sk-estimator input.sk-toggleable__control:checked~label.sk-toggleable__label {background-color: #d4ebff;}#sk-container-id-15 div.sk-label input.sk-toggleable__control:checked~label.sk-toggleable__label {background-color: #d4ebff;}#sk-container-id-15 input.sk-hidden--visually {border: 0;clip: rect(1px 1px 1px 1px);clip: rect(1px, 1px, 1px, 1px);height: 1px;margin: -1px;overflow: hidden;padding: 0;position: absolute;width: 1px;}#sk-container-id-15 div.sk-estimator {font-family: monospace;background-color: #f0f8ff;border: 1px dotted black;border-radius: 0.25em;box-sizing: border-box;margin-bottom: 0.5em;}#sk-container-id-15 div.sk-estimator:hover {background-color: #d4ebff;}#sk-container-id-15 div.sk-parallel-item::after {content: \"\";width: 100%;border-bottom: 1px solid gray;flex-grow: 1;}#sk-container-id-15 div.sk-label:hover label.sk-toggleable__label {background-color: #d4ebff;}#sk-container-id-15 div.sk-serial::before {content: \"\";position: absolute;border-left: 1px solid gray;box-sizing: border-box;top: 0;bottom: 0;left: 50%;z-index: 0;}#sk-container-id-15 div.sk-serial {display: flex;flex-direction: column;align-items: center;background-color: white;padding-right: 0.2em;padding-left: 0.2em;position: relative;}#sk-container-id-15 div.sk-item {position: relative;z-index: 1;}#sk-container-id-15 div.sk-parallel {display: flex;align-items: stretch;justify-content: center;background-color: white;position: relative;}#sk-container-id-15 div.sk-item::before, #sk-container-id-15 div.sk-parallel-item::before {content: \"\";position: absolute;border-left: 1px solid gray;box-sizing: border-box;top: 0;bottom: 0;left: 50%;z-index: -1;}#sk-container-id-15 div.sk-parallel-item {display: flex;flex-direction: column;z-index: 1;position: relative;background-color: white;}#sk-container-id-15 div.sk-parallel-item:first-child::after {align-self: flex-end;width: 50%;}#sk-container-id-15 div.sk-parallel-item:last-child::after {align-self: flex-start;width: 50%;}#sk-container-id-15 div.sk-parallel-item:only-child::after {width: 0;}#sk-container-id-15 div.sk-dashed-wrapped {border: 1px dashed gray;margin: 0 0.4em 0.5em 0.4em;box-sizing: border-box;padding-bottom: 0.4em;background-color: white;}#sk-container-id-15 div.sk-label label {font-family: monospace;font-weight: bold;display: inline-block;line-height: 1.2em;}#sk-container-id-15 div.sk-label-container {text-align: center;}#sk-container-id-15 div.sk-container {/* jupyter's `normalize.less` sets `[hidden] { display: none; }` but bootstrap.min.css set `[hidden] { display: none !important; }` so we also need the `!important` here to be able to override the default hidden behavior on the sphinx rendered scikit-learn.org. See: https://github.com/scikit-learn/scikit-learn/issues/21755 */display: inline-block !important;position: relative;}#sk-container-id-15 div.sk-text-repr-fallback {display: none;}</style><div id=\"sk-container-id-15\" class=\"sk-top-container\"><div class=\"sk-text-repr-fallback\"><pre>LinearRegression()</pre><b>In a Jupyter environment, please rerun this cell to show the HTML representation or trust the notebook. <br />On GitHub, the HTML representation is unable to render, please try loading this page with nbviewer.org.</b></div><div class=\"sk-container\" hidden><div class=\"sk-item\"><div class=\"sk-estimator sk-toggleable\"><input class=\"sk-toggleable__control sk-hidden--visually\" id=\"sk-estimator-id-15\" type=\"checkbox\" checked><label for=\"sk-estimator-id-15\" class=\"sk-toggleable__label sk-toggleable__label-arrow\">LinearRegression</label><div class=\"sk-toggleable__content\"><pre>LinearRegression()</pre></div></div></div></div></div>"
            ],
            "text/plain": [
              "LinearRegression()"
            ]
          },
          "execution_count": 338,
          "metadata": {},
          "output_type": "execute_result"
        }
      ],
      "source": [
        "lr.fit(X_train, Y_train)"
      ]
    },
    {
      "cell_type": "code",
      "execution_count": null,
      "metadata": {
        "id": "UFsTjI1E9ihf"
      },
      "outputs": [],
      "source": [
        "Y_Predict = lr.predict(X_test)"
      ]
    },
    {
      "cell_type": "code",
      "execution_count": null,
      "metadata": {
        "id": "bn8Z5HTX9ihg",
        "outputId": "1d24a1e8-90d2-494e-c92e-00733cd18607"
      },
      "outputs": [
        {
          "data": {
            "text/plain": [
              "array([ 54.60872633,  76.79467229,  76.64510993,  15.93444294,\n",
              "       222.31544079,  62.63227051,  57.27453802,  70.7018027 ,\n",
              "       220.82090065,  47.88406804, 200.24327254,  47.49842877,\n",
              "        22.7290913 ,  92.30433078, 196.48200556,  38.22447559,\n",
              "        90.48124866, 112.99685261,  33.54841864, 150.27236724,\n",
              "       152.65356018, 219.71965812, 184.41159817,  99.91617908,\n",
              "       195.73692952, 110.97284417,  63.57315595, 159.65709282,\n",
              "        50.55805461,  71.3430121 , 162.90461951,  69.5806774 ,\n",
              "        72.39303351, 135.65736261, 101.32808425,  51.51637604,\n",
              "       183.49454573, 199.19232358,  72.61357791, 140.50155597,\n",
              "       131.03538422,   9.24573417,  45.92611992,  18.94602744,\n",
              "       220.82090065, 206.50952192, 170.81169997, 196.88836732,\n",
              "       100.76411695,  43.7553399 ,  62.63227051, 213.16265103,\n",
              "        53.5049658 , 161.69366746,  10.89329092,  63.84279219,\n",
              "        51.83926956,  61.80920546, 170.19175327, 170.81169997,\n",
              "        58.62996774, 128.83311571, 146.73667942,  32.81513938,\n",
              "       113.43837122,  47.70667282, 101.81508809, 120.63056321,\n",
              "       104.34751242,  62.40942525,  90.20675586, -98.31296464,\n",
              "        34.65292483,  74.40192908,  14.58489662, 105.37415243,\n",
              "       222.89973455, 105.37415243, 150.50515405,  49.60531816,\n",
              "       193.27878724,  79.19960102,  76.62980943, 161.27181435,\n",
              "        95.31252851,  36.37939802,  89.68887903, 119.85782335,\n",
              "        87.14952423,  37.80189185, 104.6489337 ,  22.6998545 ,\n",
              "       103.85428699, 178.6527986 ,  30.58215328,  67.79761076,\n",
              "        49.97558671, 171.58777613, 142.18485442,  72.51515206,\n",
              "       136.70083763, 111.71138824,  95.31252851, 144.98756234,\n",
              "        60.72894954,  92.44434512, 134.57459208,  99.49887117,\n",
              "       156.33865948,  50.46892913,  52.72256675, 185.47021814,\n",
              "       205.95373268,  26.98448658,  55.7542004 , 218.48861372,\n",
              "        44.52648385,  32.4831436 , 166.68450326, 146.55788284,\n",
              "        63.64546597,  96.28589139, 123.68143636,  96.97805391,\n",
              "        89.90017124, 102.76569345, 187.73479192,  89.31955614,\n",
              "       204.65492075,  69.5806774 ,  47.3077813 ,  95.43834256,\n",
              "       156.33865948,  40.85969098, 149.07924156, 110.97284417,\n",
              "        60.20755672, 166.17570943, 152.68679102,  98.25271338,\n",
              "       198.91323539,  98.25271338, 189.18961989, 120.63056321,\n",
              "        43.71988922,  70.98573255, 227.79497111, 101.48634871,\n",
              "        32.34205229,  61.10941374,  46.60446   , 182.4439167 ,\n",
              "       185.22935598, 151.34299649, 172.83276204, 121.39497503,\n",
              "       100.48296814,  95.13973353, 146.46355392, 114.64729443,\n",
              "        40.2428165 , 127.05545812, 116.98946637,  72.64475828,\n",
              "       179.39218471, 197.43496973, 212.92905985, 183.07898225,\n",
              "       244.29143647, 137.22378132,  26.03000596, 171.58777613,\n",
              "        18.94602744, 145.45045024,  57.07857999,  88.33078958,\n",
              "       112.64347378, 127.64806769, 128.49100631, 160.48817515,\n",
              "       159.3945936 ,  48.60739437, 142.82327603, 166.76395688,\n",
              "       218.24502504,  95.43834256,  97.75142875, 190.62752113,\n",
              "        80.11705147, 102.46635463, 176.65102495, 135.78165021,\n",
              "         0.32183634, 140.50155597, 101.74794182,  54.79139864,\n",
              "       114.17848055, 190.69107088, 188.91341009, 204.65492075,\n",
              "       187.6511965 ,  65.75673468, 179.39218471,  14.58489662,\n",
              "       211.94088004, 183.67765362, 142.06489957, 105.12084705,\n",
              "       166.18444032, 211.94088004,  76.30183338, 101.81508809,\n",
              "       124.10232366, 170.66787195, 164.15170224,  99.74794715,\n",
              "       231.62871247,  62.86214514, 248.76622883])"
            ]
          },
          "execution_count": 340,
          "metadata": {},
          "output_type": "execute_result"
        }
      ],
      "source": [
        "Y_Predict"
      ]
    },
    {
      "cell_type": "code",
      "execution_count": null,
      "metadata": {
        "id": "t5f_rrfz9ihg",
        "outputId": "c9bdca51-2a6e-441e-f76b-f84aa8fd5845"
      },
      "outputs": [
        {
          "name": "stdout",
          "output_type": "stream",
          "text": [
            "Good\n"
          ]
        }
      ],
      "source": [
        "z = Y_Predict\n",
        "if z.all() <= 50:\n",
        "    print(\"Good\")\n",
        "elif z.all() <= 100:\n",
        "    print(\"Satisfactory\")\n",
        "elif z.all() <= 200:\n",
        "    print(\"Moderate\")\n",
        "elif z.all() <= 300:\n",
        "    print(\"Poor\")\n",
        "elif z.all() <= 400:\n",
        "    print(\"Very Poor\")\n",
        "elif z.all() <= 500: \n",
        "    print(\"Severe\")"
      ]
    },
    {
      "cell_type": "code",
      "execution_count": null,
      "metadata": {
        "id": "g-V5uc1D9ihg",
        "outputId": "d7fbd2ba-adb0-483d-abf2-6f3e40b5929b"
      },
      "outputs": [
        {
          "data": {
            "text/plain": [
              "0.4865801815607955"
            ]
          },
          "execution_count": 342,
          "metadata": {},
          "output_type": "execute_result"
        }
      ],
      "source": [
        "lr.score(X_test, Y_test)"
      ]
    },
    {
      "cell_type": "code",
      "execution_count": null,
      "metadata": {
        "id": "QhYHvEVj9ihh",
        "outputId": "4e102d64-d1d9-405c-ece9-2137218aebca"
      },
      "outputs": [
        {
          "data": {
            "text/plain": [
              "0.5432571322499647"
            ]
          },
          "execution_count": 345,
          "metadata": {},
          "output_type": "execute_result"
        }
      ],
      "source": [
        "lr.score(X_train, Y_train)"
      ]
    },
    {
      "cell_type": "code",
      "execution_count": null,
      "metadata": {
        "id": "uncV8BR29ihh",
        "outputId": "f20e495f-e5d4-4f07-f635-2be79b273965"
      },
      "outputs": [
        {
          "data": {
            "image/png": "[encoded data removed]",
            "text/plain": [
              "<Figure size 432x288 with 1 Axes>"
            ]
          },
          "metadata": {
            "needs_background": "light"
          },
          "output_type": "display_data"
        }
      ],
      "source": [
        "plt.scatter(range(len(Y_test)), Y_test, color='blue')\n",
        "plt.scatter(range(len(Y_Predict)), Y_Predict, color='red')\n",
        "plt.title(\"Model Evalution\")\n",
        "plt.show()"
      ]
    }
  ],
  "metadata": {
    "kernelspec": {
      "display_name": "Python 3.10.5 64-bit",
      "language": "python",
      "name": "python3"
    },
    "language_info": {
      "codemirror_mode": {
        "name": "ipython",
        "version": 3
      },
      "file_extension": ".py",
      "mimetype": "text/x-python",
      "name": "python",
      "nbconvert_exporter": "python",
      "pygments_lexer": "ipython3",
      "version": "3.10.5"
    },
    "orig_nbformat": 4,
    "vscode": {
      "interpreter": {
        "hash": "9f0fd6338d4ee50d5cfda60dde76df1698816ba5df9385a69cc401a01ca73fa1"
      }
    },
    "colab": {
      "provenance": [],
      "include_colab_link": true
    }
  },
  "nbformat": 4,
  "nbformat_minor": 0
}