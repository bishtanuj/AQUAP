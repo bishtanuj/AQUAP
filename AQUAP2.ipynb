{
  "cells": [
    {
      "cell_type": "markdown",
      "metadata": {
        "id": "view-in-github",
        "colab_type": "text"
      },
      "source": [
        "<a href=\"https://colab.research.google.com/github/anshshori2002/AQUAP/blob/main/Copy_of_AQUAP1.ipynb\" target=\"_parent\"><img src=\"https://colab.research.google.com/assets/colab-badge.svg\" alt=\"Open In Colab\"/></a>"
      ]
    },
    {
      "cell_type": "markdown",
      "metadata": {
        "id": "FGZZcK3j9ihM"
      },
      "source": [
        "\n",
        "**Devfolio Hackathon**\n",
        "\n",
        "**Project Title:** *_Air Quality Prediction_*\n",
        "\n",
        "**Team Name:** *_Code Mania_*\n",
        "\n",
        "**About Dataset**\n",
        "\n",
        "**T:** Average Temperature (°C) <br>\n",
        "**TM:** Maximum temperature (°C) <br>\n",
        "**Tm:** Minimum temperature (°C) <br>\n",
        "**SLP:** Atmospheric pressure at sea level (hPa) <br>\n",
        "**H:** Average relative humidity (%) <br>\n",
        "**VV:** Average visibility (Km) <br>\n",
        "**V:** Average wind speed (Km/h) <br>\n",
        "**VM:** Maximum sustained wind speed (Km/h) <br>\n",
        "**PM2.5:** AQI Data <br>\n",
        "**Conclusion:** Gives the conclusion about AQI"
      ]
    },
    {
      "cell_type": "markdown",
      "metadata": {
        "id": "GvjqC1no9ihO"
      },
      "source": [
        "### Setup the notebook"
      ]
    },
    {
      "cell_type": "code",
      "execution_count": null,
      "metadata": {
        "id": "D3XW8lAx9ihP"
      },
      "outputs": [],
      "source": [
        "import warnings\n",
        "warnings.filterwarnings('ignore')"
      ]
    },
    {
      "cell_type": "code",
      "execution_count": null,
      "metadata": {
        "id": "WsLjBwCa9ihQ",
        "outputId": "b3651b13-4897-44dc-cc9a-faa0ed919545",
        "colab": {
          "base_uri": "https://localhost:8080/"
        }
      },
      "outputs": [
        {
          "output_type": "stream",
          "name": "stdout",
          "text": [
            "Setup Complete\n"
          ]
        }
      ],
      "source": [
        "import pandas as pd\n",
        "import numpy as np\n",
        "import matplotlib.pyplot as plt\n",
        "print(\"Setup Complete\")"
      ]
    },
    {
      "cell_type": "markdown",
      "metadata": {
        "id": "YK4kG-L99ihR"
      },
      "source": [
        "\n",
        "### Load and examine the data\n",
        "\n",
        "In this step we will load the data\n",
        "* Load the data into DataFrame called `aquap_data`.\n",
        "* The corresponding filepath is `aquap_filepath`.\n",
        "\n"
      ]
    },
    {
      "cell_type": "code",
      "execution_count": 8,
      "metadata": {
        "id": "YLLNi-WE9ihR"
      },
      "outputs": [],
      "source": [
        "# Path of the file to read\n",
        "aquap_filepath = \"/content/dataset.csv\"\n",
        "\n",
        "# Read the file into a variable aquap_data\n",
        "aquap_data = pd.read_csv(aquap_filepath)"
      ]
    },
    {
      "cell_type": "code",
      "execution_count": 9,
      "metadata": {
        "id": "lm4vKtX99ihS",
        "outputId": "31e18bfd-3f48-45f1-9309-f6376c3723c8",
        "colab": {
          "base_uri": "https://localhost:8080/",
          "height": 424
        }
      },
      "outputs": [
        {
          "output_type": "execute_result",
          "data": {
            "text/plain": [
              "      Unnamed: 0     T    TM    Tm     SLP   H   VV     V    VM      PM 2.5  \\\n",
              "0              0   7.4   9.8   4.8  1017.6  93  0.5   4.3   9.4  219.720833   \n",
              "1              1   7.8  12.7   4.4  1018.5  87  0.6   4.4  11.1  182.187500   \n",
              "2              2   6.7  13.4   2.4  1019.4  82  0.6   4.8  11.1  154.037500   \n",
              "3              3   8.6  15.5   3.3  1018.7  72  0.8   8.1  20.6  223.208333   \n",
              "4              4  12.4  20.9   4.4  1017.3  61  1.3   8.7  22.2  200.645833   \n",
              "...          ...   ...   ...   ...     ...  ..  ...   ...   ...         ...   \n",
              "1088        1088  18.1  24.0  11.2  1015.4  56  1.8  15.9  25.9  288.416667   \n",
              "1089        1089  17.8  25.0  10.7  1015.8  54  2.3   9.4  22.2  256.833333   \n",
              "1090        1090  13.9  24.5  11.4  1015.0  95  0.6   8.7  14.8  169.000000   \n",
              "1091        1091  16.3  23.0   9.8  1016.9  78  1.1   7.4  16.5  186.041667   \n",
              "1092        1092  16.3  23.4   9.0  1017.3  68  1.3   7.8  18.3  185.583333   \n",
              "\n",
              "     Conclusion  \n",
              "0          Poor  \n",
              "1      Moderate  \n",
              "2      Moderate  \n",
              "3          Poor  \n",
              "4          Poor  \n",
              "...         ...  \n",
              "1088       Poor  \n",
              "1089       Poor  \n",
              "1090   Moderate  \n",
              "1091   Moderate  \n",
              "1092   Moderate  \n",
              "\n",
              "[1093 rows x 11 columns]"
            ],
            "text/html": [
              "\n",
              "  <div id=\"df-2f1de033-6962-4ed6-9456-ae76bc3c1296\">\n",
              "    <div class=\"colab-df-container\">\n",
              "      <div>\n",
              "<style scoped>\n",
              "    .dataframe tbody tr th:only-of-type {\n",
              "        vertical-align: middle;\n",
              "    }\n",
              "\n",
              "    .dataframe tbody tr th {\n",
              "        vertical-align: top;\n",
              "    }\n",
              "\n",
              "    .dataframe thead th {\n",
              "        text-align: right;\n",
              "    }\n",
              "</style>\n",
              "<table border=\"1\" class=\"dataframe\">\n",
              "  <thead>\n",
              "    <tr style=\"text-align: right;\">\n",
              "      <th></th>\n",
              "      <th>Unnamed: 0</th>\n",
              "      <th>T</th>\n",
              "      <th>TM</th>\n",
              "      <th>Tm</th>\n",
              "      <th>SLP</th>\n",
              "      <th>H</th>\n",
              "      <th>VV</th>\n",
              "      <th>V</th>\n",
              "      <th>VM</th>\n",
              "      <th>PM 2.5</th>\n",
              "      <th>Conclusion</th>\n",
              "    </tr>\n",
              "  </thead>\n",
              "  <tbody>\n",
              "    <tr>\n",
              "      <th>0</th>\n",
              "      <td>0</td>\n",
              "      <td>7.4</td>\n",
              "      <td>9.8</td>\n",
              "      <td>4.8</td>\n",
              "      <td>1017.6</td>\n",
              "      <td>93</td>\n",
              "      <td>0.5</td>\n",
              "      <td>4.3</td>\n",
              "      <td>9.4</td>\n",
              "      <td>219.720833</td>\n",
              "      <td>Poor</td>\n",
              "    </tr>\n",
              "    <tr>\n",
              "      <th>1</th>\n",
              "      <td>1</td>\n",
              "      <td>7.8</td>\n",
              "      <td>12.7</td>\n",
              "      <td>4.4</td>\n",
              "      <td>1018.5</td>\n",
              "      <td>87</td>\n",
              "      <td>0.6</td>\n",
              "      <td>4.4</td>\n",
              "      <td>11.1</td>\n",
              "      <td>182.187500</td>\n",
              "      <td>Moderate</td>\n",
              "    </tr>\n",
              "    <tr>\n",
              "      <th>2</th>\n",
              "      <td>2</td>\n",
              "      <td>6.7</td>\n",
              "      <td>13.4</td>\n",
              "      <td>2.4</td>\n",
              "      <td>1019.4</td>\n",
              "      <td>82</td>\n",
              "      <td>0.6</td>\n",
              "      <td>4.8</td>\n",
              "      <td>11.1</td>\n",
              "      <td>154.037500</td>\n",
              "      <td>Moderate</td>\n",
              "    </tr>\n",
              "    <tr>\n",
              "      <th>3</th>\n",
              "      <td>3</td>\n",
              "      <td>8.6</td>\n",
              "      <td>15.5</td>\n",
              "      <td>3.3</td>\n",
              "      <td>1018.7</td>\n",
              "      <td>72</td>\n",
              "      <td>0.8</td>\n",
              "      <td>8.1</td>\n",
              "      <td>20.6</td>\n",
              "      <td>223.208333</td>\n",
              "      <td>Poor</td>\n",
              "    </tr>\n",
              "    <tr>\n",
              "      <th>4</th>\n",
              "      <td>4</td>\n",
              "      <td>12.4</td>\n",
              "      <td>20.9</td>\n",
              "      <td>4.4</td>\n",
              "      <td>1017.3</td>\n",
              "      <td>61</td>\n",
              "      <td>1.3</td>\n",
              "      <td>8.7</td>\n",
              "      <td>22.2</td>\n",
              "      <td>200.645833</td>\n",
              "      <td>Poor</td>\n",
              "    </tr>\n",
              "    <tr>\n",
              "      <th>...</th>\n",
              "      <td>...</td>\n",
              "      <td>...</td>\n",
              "      <td>...</td>\n",
              "      <td>...</td>\n",
              "      <td>...</td>\n",
              "      <td>...</td>\n",
              "      <td>...</td>\n",
              "      <td>...</td>\n",
              "      <td>...</td>\n",
              "      <td>...</td>\n",
              "      <td>...</td>\n",
              "    </tr>\n",
              "    <tr>\n",
              "      <th>1088</th>\n",
              "      <td>1088</td>\n",
              "      <td>18.1</td>\n",
              "      <td>24.0</td>\n",
              "      <td>11.2</td>\n",
              "      <td>1015.4</td>\n",
              "      <td>56</td>\n",
              "      <td>1.8</td>\n",
              "      <td>15.9</td>\n",
              "      <td>25.9</td>\n",
              "      <td>288.416667</td>\n",
              "      <td>Poor</td>\n",
              "    </tr>\n",
              "    <tr>\n",
              "      <th>1089</th>\n",
              "      <td>1089</td>\n",
              "      <td>17.8</td>\n",
              "      <td>25.0</td>\n",
              "      <td>10.7</td>\n",
              "      <td>1015.8</td>\n",
              "      <td>54</td>\n",
              "      <td>2.3</td>\n",
              "      <td>9.4</td>\n",
              "      <td>22.2</td>\n",
              "      <td>256.833333</td>\n",
              "      <td>Poor</td>\n",
              "    </tr>\n",
              "    <tr>\n",
              "      <th>1090</th>\n",
              "      <td>1090</td>\n",
              "      <td>13.9</td>\n",
              "      <td>24.5</td>\n",
              "      <td>11.4</td>\n",
              "      <td>1015.0</td>\n",
              "      <td>95</td>\n",
              "      <td>0.6</td>\n",
              "      <td>8.7</td>\n",
              "      <td>14.8</td>\n",
              "      <td>169.000000</td>\n",
              "      <td>Moderate</td>\n",
              "    </tr>\n",
              "    <tr>\n",
              "      <th>1091</th>\n",
              "      <td>1091</td>\n",
              "      <td>16.3</td>\n",
              "      <td>23.0</td>\n",
              "      <td>9.8</td>\n",
              "      <td>1016.9</td>\n",
              "      <td>78</td>\n",
              "      <td>1.1</td>\n",
              "      <td>7.4</td>\n",
              "      <td>16.5</td>\n",
              "      <td>186.041667</td>\n",
              "      <td>Moderate</td>\n",
              "    </tr>\n",
              "    <tr>\n",
              "      <th>1092</th>\n",
              "      <td>1092</td>\n",
              "      <td>16.3</td>\n",
              "      <td>23.4</td>\n",
              "      <td>9.0</td>\n",
              "      <td>1017.3</td>\n",
              "      <td>68</td>\n",
              "      <td>1.3</td>\n",
              "      <td>7.8</td>\n",
              "      <td>18.3</td>\n",
              "      <td>185.583333</td>\n",
              "      <td>Moderate</td>\n",
              "    </tr>\n",
              "  </tbody>\n",
              "</table>\n",
              "<p>1093 rows × 11 columns</p>\n",
              "</div>\n",
              "      <button class=\"colab-df-convert\" onclick=\"convertToInteractive('df-2f1de033-6962-4ed6-9456-ae76bc3c1296')\"\n",
              "              title=\"Convert this dataframe to an interactive table.\"\n",
              "              style=\"display:none;\">\n",
              "        \n",
              "  <svg xmlns=\"http://www.w3.org/2000/svg\" height=\"24px\"viewBox=\"0 0 24 24\"\n",
              "       width=\"24px\">\n",
              "    <path d=\"M0 0h24v24H0V0z\" fill=\"none\"/>\n",
              "    <path d=\"M18.56 5.44l.94 2.06.94-2.06 2.06-.94-2.06-.94-.94-2.06-.94 2.06-2.06.94zm-11 1L8.5 8.5l.94-2.06 2.06-.94-2.06-.94L8.5 2.5l-.94 2.06-2.06.94zm10 10l.94 2.06.94-2.06 2.06-.94-2.06-.94-.94-2.06-.94 2.06-2.06.94z\"/><path d=\"M17.41 7.96l-1.37-1.37c-.4-.4-.92-.59-1.43-.59-.52 0-1.04.2-1.43.59L10.3 9.45l-7.72 7.72c-.78.78-.78 2.05 0 2.83L4 21.41c.39.39.9.59 1.41.59.51 0 1.02-.2 1.41-.59l7.78-7.78 2.81-2.81c.8-.78.8-2.07 0-2.86zM5.41 20L4 18.59l7.72-7.72 1.47 1.35L5.41 20z\"/>\n",
              "  </svg>\n",
              "      </button>\n",
              "      \n",
              "  <style>\n",
              "    .colab-df-container {\n",
              "      display:flex;\n",
              "      flex-wrap:wrap;\n",
              "      gap: 12px;\n",
              "    }\n",
              "\n",
              "    .colab-df-convert {\n",
              "      background-color: #E8F0FE;\n",
              "      border: none;\n",
              "      border-radius: 50%;\n",
              "      cursor: pointer;\n",
              "      display: none;\n",
              "      fill: #1967D2;\n",
              "      height: 32px;\n",
              "      padding: 0 0 0 0;\n",
              "      width: 32px;\n",
              "    }\n",
              "\n",
              "    .colab-df-convert:hover {\n",
              "      background-color: #E2EBFA;\n",
              "      box-shadow: 0px 1px 2px rgba(60, 64, 67, 0.3), 0px 1px 3px 1px rgba(60, 64, 67, 0.15);\n",
              "      fill: #174EA6;\n",
              "    }\n",
              "\n",
              "    [theme=dark] .colab-df-convert {\n",
              "      background-color: #3B4455;\n",
              "      fill: #D2E3FC;\n",
              "    }\n",
              "\n",
              "    [theme=dark] .colab-df-convert:hover {\n",
              "      background-color: #434B5C;\n",
              "      box-shadow: 0px 1px 3px 1px rgba(0, 0, 0, 0.15);\n",
              "      filter: drop-shadow(0px 1px 2px rgba(0, 0, 0, 0.3));\n",
              "      fill: #FFFFFF;\n",
              "    }\n",
              "  </style>\n",
              "\n",
              "      <script>\n",
              "        const buttonEl =\n",
              "          document.querySelector('#df-2f1de033-6962-4ed6-9456-ae76bc3c1296 button.colab-df-convert');\n",
              "        buttonEl.style.display =\n",
              "          google.colab.kernel.accessAllowed ? 'block' : 'none';\n",
              "\n",
              "        async function convertToInteractive(key) {\n",
              "          const element = document.querySelector('#df-2f1de033-6962-4ed6-9456-ae76bc3c1296');\n",
              "          const dataTable =\n",
              "            await google.colab.kernel.invokeFunction('convertToInteractive',\n",
              "                                                     [key], {});\n",
              "          if (!dataTable) return;\n",
              "\n",
              "          const docLinkHtml = 'Like what you see? Visit the ' +\n",
              "            '<a target=\"_blank\" href=https://colab.research.google.com/notebooks/data_table.ipynb>data table notebook</a>'\n",
              "            + ' to learn more about interactive tables.';\n",
              "          element.innerHTML = '';\n",
              "          dataTable['output_type'] = 'display_data';\n",
              "          await google.colab.output.renderOutput(dataTable, element);\n",
              "          const docLink = document.createElement('div');\n",
              "          docLink.innerHTML = docLinkHtml;\n",
              "          element.appendChild(docLink);\n",
              "        }\n",
              "      </script>\n",
              "    </div>\n",
              "  </div>\n",
              "  "
            ]
          },
          "metadata": {},
          "execution_count": 9
        }
      ],
      "source": [
        "# Checking that the dataset loaded completely\n",
        "aquap_data"
      ]
    },
    {
      "cell_type": "markdown",
      "metadata": {
        "id": "oCThahfj9ihT"
      },
      "source": [
        "##### Removing the `Unnamed: 0` column from the dataset"
      ]
    },
    {
      "cell_type": "code",
      "execution_count": 10,
      "metadata": {
        "id": "V3Ww-8-D9ihU"
      },
      "outputs": [],
      "source": [
        "aquap_data = aquap_data.drop(columns='Unnamed: 0')"
      ]
    },
    {
      "cell_type": "code",
      "execution_count": 11,
      "metadata": {
        "id": "ZLCO08Nw9ihV",
        "outputId": "b33a9307-bdd6-46ab-f593-cc3bf647ee86",
        "colab": {
          "base_uri": "https://localhost:8080/",
          "height": 206
        }
      },
      "outputs": [
        {
          "output_type": "execute_result",
          "data": {
            "text/plain": [
              "      T    TM   Tm     SLP   H   VV    V    VM      PM 2.5 Conclusion\n",
              "0   7.4   9.8  4.8  1017.6  93  0.5  4.3   9.4  219.720833       Poor\n",
              "1   7.8  12.7  4.4  1018.5  87  0.6  4.4  11.1  182.187500   Moderate\n",
              "2   6.7  13.4  2.4  1019.4  82  0.6  4.8  11.1  154.037500   Moderate\n",
              "3   8.6  15.5  3.3  1018.7  72  0.8  8.1  20.6  223.208333       Poor\n",
              "4  12.4  20.9  4.4  1017.3  61  1.3  8.7  22.2  200.645833       Poor"
            ],
            "text/html": [
              "\n",
              "  <div id=\"df-bd55bd06-8689-4b89-bd6e-5d984f55d976\">\n",
              "    <div class=\"colab-df-container\">\n",
              "      <div>\n",
              "<style scoped>\n",
              "    .dataframe tbody tr th:only-of-type {\n",
              "        vertical-align: middle;\n",
              "    }\n",
              "\n",
              "    .dataframe tbody tr th {\n",
              "        vertical-align: top;\n",
              "    }\n",
              "\n",
              "    .dataframe thead th {\n",
              "        text-align: right;\n",
              "    }\n",
              "</style>\n",
              "<table border=\"1\" class=\"dataframe\">\n",
              "  <thead>\n",
              "    <tr style=\"text-align: right;\">\n",
              "      <th></th>\n",
              "      <th>T</th>\n",
              "      <th>TM</th>\n",
              "      <th>Tm</th>\n",
              "      <th>SLP</th>\n",
              "      <th>H</th>\n",
              "      <th>VV</th>\n",
              "      <th>V</th>\n",
              "      <th>VM</th>\n",
              "      <th>PM 2.5</th>\n",
              "      <th>Conclusion</th>\n",
              "    </tr>\n",
              "  </thead>\n",
              "  <tbody>\n",
              "    <tr>\n",
              "      <th>0</th>\n",
              "      <td>7.4</td>\n",
              "      <td>9.8</td>\n",
              "      <td>4.8</td>\n",
              "      <td>1017.6</td>\n",
              "      <td>93</td>\n",
              "      <td>0.5</td>\n",
              "      <td>4.3</td>\n",
              "      <td>9.4</td>\n",
              "      <td>219.720833</td>\n",
              "      <td>Poor</td>\n",
              "    </tr>\n",
              "    <tr>\n",
              "      <th>1</th>\n",
              "      <td>7.8</td>\n",
              "      <td>12.7</td>\n",
              "      <td>4.4</td>\n",
              "      <td>1018.5</td>\n",
              "      <td>87</td>\n",
              "      <td>0.6</td>\n",
              "      <td>4.4</td>\n",
              "      <td>11.1</td>\n",
              "      <td>182.187500</td>\n",
              "      <td>Moderate</td>\n",
              "    </tr>\n",
              "    <tr>\n",
              "      <th>2</th>\n",
              "      <td>6.7</td>\n",
              "      <td>13.4</td>\n",
              "      <td>2.4</td>\n",
              "      <td>1019.4</td>\n",
              "      <td>82</td>\n",
              "      <td>0.6</td>\n",
              "      <td>4.8</td>\n",
              "      <td>11.1</td>\n",
              "      <td>154.037500</td>\n",
              "      <td>Moderate</td>\n",
              "    </tr>\n",
              "    <tr>\n",
              "      <th>3</th>\n",
              "      <td>8.6</td>\n",
              "      <td>15.5</td>\n",
              "      <td>3.3</td>\n",
              "      <td>1018.7</td>\n",
              "      <td>72</td>\n",
              "      <td>0.8</td>\n",
              "      <td>8.1</td>\n",
              "      <td>20.6</td>\n",
              "      <td>223.208333</td>\n",
              "      <td>Poor</td>\n",
              "    </tr>\n",
              "    <tr>\n",
              "      <th>4</th>\n",
              "      <td>12.4</td>\n",
              "      <td>20.9</td>\n",
              "      <td>4.4</td>\n",
              "      <td>1017.3</td>\n",
              "      <td>61</td>\n",
              "      <td>1.3</td>\n",
              "      <td>8.7</td>\n",
              "      <td>22.2</td>\n",
              "      <td>200.645833</td>\n",
              "      <td>Poor</td>\n",
              "    </tr>\n",
              "  </tbody>\n",
              "</table>\n",
              "</div>\n",
              "      <button class=\"colab-df-convert\" onclick=\"convertToInteractive('df-bd55bd06-8689-4b89-bd6e-5d984f55d976')\"\n",
              "              title=\"Convert this dataframe to an interactive table.\"\n",
              "              style=\"display:none;\">\n",
              "        \n",
              "  <svg xmlns=\"http://www.w3.org/2000/svg\" height=\"24px\"viewBox=\"0 0 24 24\"\n",
              "       width=\"24px\">\n",
              "    <path d=\"M0 0h24v24H0V0z\" fill=\"none\"/>\n",
              "    <path d=\"M18.56 5.44l.94 2.06.94-2.06 2.06-.94-2.06-.94-.94-2.06-.94 2.06-2.06.94zm-11 1L8.5 8.5l.94-2.06 2.06-.94-2.06-.94L8.5 2.5l-.94 2.06-2.06.94zm10 10l.94 2.06.94-2.06 2.06-.94-2.06-.94-.94-2.06-.94 2.06-2.06.94z\"/><path d=\"M17.41 7.96l-1.37-1.37c-.4-.4-.92-.59-1.43-.59-.52 0-1.04.2-1.43.59L10.3 9.45l-7.72 7.72c-.78.78-.78 2.05 0 2.83L4 21.41c.39.39.9.59 1.41.59.51 0 1.02-.2 1.41-.59l7.78-7.78 2.81-2.81c.8-.78.8-2.07 0-2.86zM5.41 20L4 18.59l7.72-7.72 1.47 1.35L5.41 20z\"/>\n",
              "  </svg>\n",
              "      </button>\n",
              "      \n",
              "  <style>\n",
              "    .colab-df-container {\n",
              "      display:flex;\n",
              "      flex-wrap:wrap;\n",
              "      gap: 12px;\n",
              "    }\n",
              "\n",
              "    .colab-df-convert {\n",
              "      background-color: #E8F0FE;\n",
              "      border: none;\n",
              "      border-radius: 50%;\n",
              "      cursor: pointer;\n",
              "      display: none;\n",
              "      fill: #1967D2;\n",
              "      height: 32px;\n",
              "      padding: 0 0 0 0;\n",
              "      width: 32px;\n",
              "    }\n",
              "\n",
              "    .colab-df-convert:hover {\n",
              "      background-color: #E2EBFA;\n",
              "      box-shadow: 0px 1px 2px rgba(60, 64, 67, 0.3), 0px 1px 3px 1px rgba(60, 64, 67, 0.15);\n",
              "      fill: #174EA6;\n",
              "    }\n",
              "\n",
              "    [theme=dark] .colab-df-convert {\n",
              "      background-color: #3B4455;\n",
              "      fill: #D2E3FC;\n",
              "    }\n",
              "\n",
              "    [theme=dark] .colab-df-convert:hover {\n",
              "      background-color: #434B5C;\n",
              "      box-shadow: 0px 1px 3px 1px rgba(0, 0, 0, 0.15);\n",
              "      filter: drop-shadow(0px 1px 2px rgba(0, 0, 0, 0.3));\n",
              "      fill: #FFFFFF;\n",
              "    }\n",
              "  </style>\n",
              "\n",
              "      <script>\n",
              "        const buttonEl =\n",
              "          document.querySelector('#df-bd55bd06-8689-4b89-bd6e-5d984f55d976 button.colab-df-convert');\n",
              "        buttonEl.style.display =\n",
              "          google.colab.kernel.accessAllowed ? 'block' : 'none';\n",
              "\n",
              "        async function convertToInteractive(key) {\n",
              "          const element = document.querySelector('#df-bd55bd06-8689-4b89-bd6e-5d984f55d976');\n",
              "          const dataTable =\n",
              "            await google.colab.kernel.invokeFunction('convertToInteractive',\n",
              "                                                     [key], {});\n",
              "          if (!dataTable) return;\n",
              "\n",
              "          const docLinkHtml = 'Like what you see? Visit the ' +\n",
              "            '<a target=\"_blank\" href=https://colab.research.google.com/notebooks/data_table.ipynb>data table notebook</a>'\n",
              "            + ' to learn more about interactive tables.';\n",
              "          element.innerHTML = '';\n",
              "          dataTable['output_type'] = 'display_data';\n",
              "          await google.colab.output.renderOutput(dataTable, element);\n",
              "          const docLink = document.createElement('div');\n",
              "          docLink.innerHTML = docLinkHtml;\n",
              "          element.appendChild(docLink);\n",
              "        }\n",
              "      </script>\n",
              "    </div>\n",
              "  </div>\n",
              "  "
            ]
          },
          "metadata": {},
          "execution_count": 11
        }
      ],
      "source": [
        "# Printing the first five rows of the dataset to check that the modification is done or not.\n",
        "aquap_data.head()"
      ]
    },
    {
      "cell_type": "code",
      "execution_count": 12,
      "metadata": {
        "id": "IL0ZD6jQ9ihW",
        "outputId": "ea817654-0538-4a3b-a10f-edc125f815b6",
        "colab": {
          "base_uri": "https://localhost:8080/"
        }
      },
      "outputs": [
        {
          "output_type": "execute_result",
          "data": {
            "text/plain": [
              "(1093, 10)"
            ]
          },
          "metadata": {},
          "execution_count": 12
        }
      ],
      "source": [
        "# Printing the number of dimensions of dataset - aquap_data\n",
        "aquap_data.shape"
      ]
    },
    {
      "cell_type": "markdown",
      "metadata": {
        "id": "CZWKY4879ihX"
      },
      "source": [
        "#### Creating Dummy Variables"
      ]
    },
    {
      "cell_type": "code",
      "execution_count": 13,
      "metadata": {
        "id": "xCIN3IvW9ihY"
      },
      "outputs": [],
      "source": [
        "aquap_data['Good'] = aquap_data.Conclusion.map({'Good': 1, 'Satisfactory': 0, 'Moderate': 0, 'Poor': 0, 'Very Poor': 0, 'Severe': 0})\n",
        "aquap_data['Satisfactory'] = aquap_data.Conclusion.map({'Good': 0, 'Satisfactory': 1, 'Moderate': 0, 'Poor': 0, 'Very Poor': 0, 'Severe': 0})\n",
        "aquap_data['Moderate'] = aquap_data.Conclusion.map({'Good': 0, 'Satisfactory': 0, 'Moderate': 1, 'Poor': 0, 'Very Poor': 0, 'Severe': 0})\n",
        "aquap_data['Poor'] = aquap_data.Conclusion.map({'Good': 0, 'Satisfactory': 0, 'Moderate': 0, 'Poor': 1, 'Very Poor': 0, 'Severe': 0})\n",
        "aquap_data['Very Poor'] = aquap_data.Conclusion.map({'Good': 0, 'Satisfactory': 0, 'Moderate': 0, 'Poor': 0, 'Very Poor': 1, 'Severe': 0})\n",
        "aquap_data['Severe'] = aquap_data.Conclusion.map({'Good': 0, 'Satisfactory': 0, 'Moderate': 0, 'Poor': 0, 'Very Poor': 0, 'Severe': 1})"
      ]
    },
    {
      "cell_type": "code",
      "execution_count": null,
      "metadata": {
        "id": "SoouZZCC9ihZ",
        "outputId": "4d0d45dd-ced7-4d63-e5af-59b00c3b6b3f",
        "colab": {
          "base_uri": "https://localhost:8080/",
          "height": 206
        }
      },
      "outputs": [
        {
          "output_type": "execute_result",
          "data": {
            "text/plain": [
              "      T    TM   Tm     SLP   H   VV    V    VM      PM 2.5 Conclusion  Good  \\\n",
              "0   7.4   9.8  4.8  1017.6  93  0.5  4.3   9.4  219.720833       Poor     0   \n",
              "1   7.8  12.7  4.4  1018.5  87  0.6  4.4  11.1  182.187500   Moderate     0   \n",
              "2   6.7  13.4  2.4  1019.4  82  0.6  4.8  11.1  154.037500   Moderate     0   \n",
              "3   8.6  15.5  3.3  1018.7  72  0.8  8.1  20.6  223.208333       Poor     0   \n",
              "4  12.4  20.9  4.4  1017.3  61  1.3  8.7  22.2  200.645833       Poor     0   \n",
              "\n",
              "   Satisfactory  Moderate  Poor  Very Poor  Severe  \n",
              "0             0         0     1          0       0  \n",
              "1             0         1     0          0       0  \n",
              "2             0         1     0          0       0  \n",
              "3             0         0     1          0       0  \n",
              "4             0         0     1          0       0  "
            ],
            "text/html": [
              "\n",
              "  <div id=\"df-d2c0bdd0-9e8b-471e-9a15-deba0b544a4c\">\n",
              "    <div class=\"colab-df-container\">\n",
              "      <div>\n",
              "<style scoped>\n",
              "    .dataframe tbody tr th:only-of-type {\n",
              "        vertical-align: middle;\n",
              "    }\n",
              "\n",
              "    .dataframe tbody tr th {\n",
              "        vertical-align: top;\n",
              "    }\n",
              "\n",
              "    .dataframe thead th {\n",
              "        text-align: right;\n",
              "    }\n",
              "</style>\n",
              "<table border=\"1\" class=\"dataframe\">\n",
              "  <thead>\n",
              "    <tr style=\"text-align: right;\">\n",
              "      <th></th>\n",
              "      <th>T</th>\n",
              "      <th>TM</th>\n",
              "      <th>Tm</th>\n",
              "      <th>SLP</th>\n",
              "      <th>H</th>\n",
              "      <th>VV</th>\n",
              "      <th>V</th>\n",
              "      <th>VM</th>\n",
              "      <th>PM 2.5</th>\n",
              "      <th>Conclusion</th>\n",
              "      <th>Good</th>\n",
              "      <th>Satisfactory</th>\n",
              "      <th>Moderate</th>\n",
              "      <th>Poor</th>\n",
              "      <th>Very Poor</th>\n",
              "      <th>Severe</th>\n",
              "    </tr>\n",
              "  </thead>\n",
              "  <tbody>\n",
              "    <tr>\n",
              "      <th>0</th>\n",
              "      <td>7.4</td>\n",
              "      <td>9.8</td>\n",
              "      <td>4.8</td>\n",
              "      <td>1017.6</td>\n",
              "      <td>93</td>\n",
              "      <td>0.5</td>\n",
              "      <td>4.3</td>\n",
              "      <td>9.4</td>\n",
              "      <td>219.720833</td>\n",
              "      <td>Poor</td>\n",
              "      <td>0</td>\n",
              "      <td>0</td>\n",
              "      <td>0</td>\n",
              "      <td>1</td>\n",
              "      <td>0</td>\n",
              "      <td>0</td>\n",
              "    </tr>\n",
              "    <tr>\n",
              "      <th>1</th>\n",
              "      <td>7.8</td>\n",
              "      <td>12.7</td>\n",
              "      <td>4.4</td>\n",
              "      <td>1018.5</td>\n",
              "      <td>87</td>\n",
              "      <td>0.6</td>\n",
              "      <td>4.4</td>\n",
              "      <td>11.1</td>\n",
              "      <td>182.187500</td>\n",
              "      <td>Moderate</td>\n",
              "      <td>0</td>\n",
              "      <td>0</td>\n",
              "      <td>1</td>\n",
              "      <td>0</td>\n",
              "      <td>0</td>\n",
              "      <td>0</td>\n",
              "    </tr>\n",
              "    <tr>\n",
              "      <th>2</th>\n",
              "      <td>6.7</td>\n",
              "      <td>13.4</td>\n",
              "      <td>2.4</td>\n",
              "      <td>1019.4</td>\n",
              "      <td>82</td>\n",
              "      <td>0.6</td>\n",
              "      <td>4.8</td>\n",
              "      <td>11.1</td>\n",
              "      <td>154.037500</td>\n",
              "      <td>Moderate</td>\n",
              "      <td>0</td>\n",
              "      <td>0</td>\n",
              "      <td>1</td>\n",
              "      <td>0</td>\n",
              "      <td>0</td>\n",
              "      <td>0</td>\n",
              "    </tr>\n",
              "    <tr>\n",
              "      <th>3</th>\n",
              "      <td>8.6</td>\n",
              "      <td>15.5</td>\n",
              "      <td>3.3</td>\n",
              "      <td>1018.7</td>\n",
              "      <td>72</td>\n",
              "      <td>0.8</td>\n",
              "      <td>8.1</td>\n",
              "      <td>20.6</td>\n",
              "      <td>223.208333</td>\n",
              "      <td>Poor</td>\n",
              "      <td>0</td>\n",
              "      <td>0</td>\n",
              "      <td>0</td>\n",
              "      <td>1</td>\n",
              "      <td>0</td>\n",
              "      <td>0</td>\n",
              "    </tr>\n",
              "    <tr>\n",
              "      <th>4</th>\n",
              "      <td>12.4</td>\n",
              "      <td>20.9</td>\n",
              "      <td>4.4</td>\n",
              "      <td>1017.3</td>\n",
              "      <td>61</td>\n",
              "      <td>1.3</td>\n",
              "      <td>8.7</td>\n",
              "      <td>22.2</td>\n",
              "      <td>200.645833</td>\n",
              "      <td>Poor</td>\n",
              "      <td>0</td>\n",
              "      <td>0</td>\n",
              "      <td>0</td>\n",
              "      <td>1</td>\n",
              "      <td>0</td>\n",
              "      <td>0</td>\n",
              "    </tr>\n",
              "  </tbody>\n",
              "</table>\n",
              "</div>\n",
              "      <button class=\"colab-df-convert\" onclick=\"convertToInteractive('df-d2c0bdd0-9e8b-471e-9a15-deba0b544a4c')\"\n",
              "              title=\"Convert this dataframe to an interactive table.\"\n",
              "              style=\"display:none;\">\n",
              "        \n",
              "  <svg xmlns=\"http://www.w3.org/2000/svg\" height=\"24px\"viewBox=\"0 0 24 24\"\n",
              "       width=\"24px\">\n",
              "    <path d=\"M0 0h24v24H0V0z\" fill=\"none\"/>\n",
              "    <path d=\"M18.56 5.44l.94 2.06.94-2.06 2.06-.94-2.06-.94-.94-2.06-.94 2.06-2.06.94zm-11 1L8.5 8.5l.94-2.06 2.06-.94-2.06-.94L8.5 2.5l-.94 2.06-2.06.94zm10 10l.94 2.06.94-2.06 2.06-.94-2.06-.94-.94-2.06-.94 2.06-2.06.94z\"/><path d=\"M17.41 7.96l-1.37-1.37c-.4-.4-.92-.59-1.43-.59-.52 0-1.04.2-1.43.59L10.3 9.45l-7.72 7.72c-.78.78-.78 2.05 0 2.83L4 21.41c.39.39.9.59 1.41.59.51 0 1.02-.2 1.41-.59l7.78-7.78 2.81-2.81c.8-.78.8-2.07 0-2.86zM5.41 20L4 18.59l7.72-7.72 1.47 1.35L5.41 20z\"/>\n",
              "  </svg>\n",
              "      </button>\n",
              "      \n",
              "  <style>\n",
              "    .colab-df-container {\n",
              "      display:flex;\n",
              "      flex-wrap:wrap;\n",
              "      gap: 12px;\n",
              "    }\n",
              "\n",
              "    .colab-df-convert {\n",
              "      background-color: #E8F0FE;\n",
              "      border: none;\n",
              "      border-radius: 50%;\n",
              "      cursor: pointer;\n",
              "      display: none;\n",
              "      fill: #1967D2;\n",
              "      height: 32px;\n",
              "      padding: 0 0 0 0;\n",
              "      width: 32px;\n",
              "    }\n",
              "\n",
              "    .colab-df-convert:hover {\n",
              "      background-color: #E2EBFA;\n",
              "      box-shadow: 0px 1px 2px rgba(60, 64, 67, 0.3), 0px 1px 3px 1px rgba(60, 64, 67, 0.15);\n",
              "      fill: #174EA6;\n",
              "    }\n",
              "\n",
              "    [theme=dark] .colab-df-convert {\n",
              "      background-color: #3B4455;\n",
              "      fill: #D2E3FC;\n",
              "    }\n",
              "\n",
              "    [theme=dark] .colab-df-convert:hover {\n",
              "      background-color: #434B5C;\n",
              "      box-shadow: 0px 1px 3px 1px rgba(0, 0, 0, 0.15);\n",
              "      filter: drop-shadow(0px 1px 2px rgba(0, 0, 0, 0.3));\n",
              "      fill: #FFFFFF;\n",
              "    }\n",
              "  </style>\n",
              "\n",
              "      <script>\n",
              "        const buttonEl =\n",
              "          document.querySelector('#df-d2c0bdd0-9e8b-471e-9a15-deba0b544a4c button.colab-df-convert');\n",
              "        buttonEl.style.display =\n",
              "          google.colab.kernel.accessAllowed ? 'block' : 'none';\n",
              "\n",
              "        async function convertToInteractive(key) {\n",
              "          const element = document.querySelector('#df-d2c0bdd0-9e8b-471e-9a15-deba0b544a4c');\n",
              "          const dataTable =\n",
              "            await google.colab.kernel.invokeFunction('convertToInteractive',\n",
              "                                                     [key], {});\n",
              "          if (!dataTable) return;\n",
              "\n",
              "          const docLinkHtml = 'Like what you see? Visit the ' +\n",
              "            '<a target=\"_blank\" href=https://colab.research.google.com/notebooks/data_table.ipynb>data table notebook</a>'\n",
              "            + ' to learn more about interactive tables.';\n",
              "          element.innerHTML = '';\n",
              "          dataTable['output_type'] = 'display_data';\n",
              "          await google.colab.output.renderOutput(dataTable, element);\n",
              "          const docLink = document.createElement('div');\n",
              "          docLink.innerHTML = docLinkHtml;\n",
              "          element.appendChild(docLink);\n",
              "        }\n",
              "      </script>\n",
              "    </div>\n",
              "  </div>\n",
              "  "
            ]
          },
          "metadata": {},
          "execution_count": 14
        }
      ],
      "source": [
        "# Printing the first five rows of the dataset after creating the dummy variables\n",
        "aquap_data.head()"
      ]
    },
    {
      "cell_type": "markdown",
      "metadata": {
        "id": "wb7-dCx49ihZ"
      },
      "source": [
        "#### Removing `Conclusion` coulumn"
      ]
    },
    {
      "cell_type": "code",
      "execution_count": 14,
      "metadata": {
        "id": "Hk2pz9ub9iha"
      },
      "outputs": [],
      "source": [
        "aquap_data = aquap_data.drop(columns='Conclusion')"
      ]
    },
    {
      "cell_type": "code",
      "execution_count": 15,
      "metadata": {
        "id": "7rq7ICZQ9iha",
        "outputId": "80cef313-1654-4d1e-9956-4a9c5cf02829",
        "colab": {
          "base_uri": "https://localhost:8080/",
          "height": 250
        }
      },
      "outputs": [
        {
          "output_type": "execute_result",
          "data": {
            "text/plain": [
              "      T    TM   Tm     SLP   H   VV    V    VM      PM 2.5  Good  \\\n",
              "0   7.4   9.8  4.8  1017.6  93  0.5  4.3   9.4  219.720833     0   \n",
              "1   7.8  12.7  4.4  1018.5  87  0.6  4.4  11.1  182.187500     0   \n",
              "2   6.7  13.4  2.4  1019.4  82  0.6  4.8  11.1  154.037500     0   \n",
              "3   8.6  15.5  3.3  1018.7  72  0.8  8.1  20.6  223.208333     0   \n",
              "4  12.4  20.9  4.4  1017.3  61  1.3  8.7  22.2  200.645833     0   \n",
              "\n",
              "   Satisfactory  Moderate  Poor  Very Poor  Severe  \n",
              "0             0         0     1          0       0  \n",
              "1             0         1     0          0       0  \n",
              "2             0         1     0          0       0  \n",
              "3             0         0     1          0       0  \n",
              "4             0         0     1          0       0  "
            ],
            "text/html": [
              "\n",
              "  <div id=\"df-f61725ac-047c-41ad-b0af-b76f7dd36ae5\">\n",
              "    <div class=\"colab-df-container\">\n",
              "      <div>\n",
              "<style scoped>\n",
              "    .dataframe tbody tr th:only-of-type {\n",
              "        vertical-align: middle;\n",
              "    }\n",
              "\n",
              "    .dataframe tbody tr th {\n",
              "        vertical-align: top;\n",
              "    }\n",
              "\n",
              "    .dataframe thead th {\n",
              "        text-align: right;\n",
              "    }\n",
              "</style>\n",
              "<table border=\"1\" class=\"dataframe\">\n",
              "  <thead>\n",
              "    <tr style=\"text-align: right;\">\n",
              "      <th></th>\n",
              "      <th>T</th>\n",
              "      <th>TM</th>\n",
              "      <th>Tm</th>\n",
              "      <th>SLP</th>\n",
              "      <th>H</th>\n",
              "      <th>VV</th>\n",
              "      <th>V</th>\n",
              "      <th>VM</th>\n",
              "      <th>PM 2.5</th>\n",
              "      <th>Good</th>\n",
              "      <th>Satisfactory</th>\n",
              "      <th>Moderate</th>\n",
              "      <th>Poor</th>\n",
              "      <th>Very Poor</th>\n",
              "      <th>Severe</th>\n",
              "    </tr>\n",
              "  </thead>\n",
              "  <tbody>\n",
              "    <tr>\n",
              "      <th>0</th>\n",
              "      <td>7.4</td>\n",
              "      <td>9.8</td>\n",
              "      <td>4.8</td>\n",
              "      <td>1017.6</td>\n",
              "      <td>93</td>\n",
              "      <td>0.5</td>\n",
              "      <td>4.3</td>\n",
              "      <td>9.4</td>\n",
              "      <td>219.720833</td>\n",
              "      <td>0</td>\n",
              "      <td>0</td>\n",
              "      <td>0</td>\n",
              "      <td>1</td>\n",
              "      <td>0</td>\n",
              "      <td>0</td>\n",
              "    </tr>\n",
              "    <tr>\n",
              "      <th>1</th>\n",
              "      <td>7.8</td>\n",
              "      <td>12.7</td>\n",
              "      <td>4.4</td>\n",
              "      <td>1018.5</td>\n",
              "      <td>87</td>\n",
              "      <td>0.6</td>\n",
              "      <td>4.4</td>\n",
              "      <td>11.1</td>\n",
              "      <td>182.187500</td>\n",
              "      <td>0</td>\n",
              "      <td>0</td>\n",
              "      <td>1</td>\n",
              "      <td>0</td>\n",
              "      <td>0</td>\n",
              "      <td>0</td>\n",
              "    </tr>\n",
              "    <tr>\n",
              "      <th>2</th>\n",
              "      <td>6.7</td>\n",
              "      <td>13.4</td>\n",
              "      <td>2.4</td>\n",
              "      <td>1019.4</td>\n",
              "      <td>82</td>\n",
              "      <td>0.6</td>\n",
              "      <td>4.8</td>\n",
              "      <td>11.1</td>\n",
              "      <td>154.037500</td>\n",
              "      <td>0</td>\n",
              "      <td>0</td>\n",
              "      <td>1</td>\n",
              "      <td>0</td>\n",
              "      <td>0</td>\n",
              "      <td>0</td>\n",
              "    </tr>\n",
              "    <tr>\n",
              "      <th>3</th>\n",
              "      <td>8.6</td>\n",
              "      <td>15.5</td>\n",
              "      <td>3.3</td>\n",
              "      <td>1018.7</td>\n",
              "      <td>72</td>\n",
              "      <td>0.8</td>\n",
              "      <td>8.1</td>\n",
              "      <td>20.6</td>\n",
              "      <td>223.208333</td>\n",
              "      <td>0</td>\n",
              "      <td>0</td>\n",
              "      <td>0</td>\n",
              "      <td>1</td>\n",
              "      <td>0</td>\n",
              "      <td>0</td>\n",
              "    </tr>\n",
              "    <tr>\n",
              "      <th>4</th>\n",
              "      <td>12.4</td>\n",
              "      <td>20.9</td>\n",
              "      <td>4.4</td>\n",
              "      <td>1017.3</td>\n",
              "      <td>61</td>\n",
              "      <td>1.3</td>\n",
              "      <td>8.7</td>\n",
              "      <td>22.2</td>\n",
              "      <td>200.645833</td>\n",
              "      <td>0</td>\n",
              "      <td>0</td>\n",
              "      <td>0</td>\n",
              "      <td>1</td>\n",
              "      <td>0</td>\n",
              "      <td>0</td>\n",
              "    </tr>\n",
              "  </tbody>\n",
              "</table>\n",
              "</div>\n",
              "      <button class=\"colab-df-convert\" onclick=\"convertToInteractive('df-f61725ac-047c-41ad-b0af-b76f7dd36ae5')\"\n",
              "              title=\"Convert this dataframe to an interactive table.\"\n",
              "              style=\"display:none;\">\n",
              "        \n",
              "  <svg xmlns=\"http://www.w3.org/2000/svg\" height=\"24px\"viewBox=\"0 0 24 24\"\n",
              "       width=\"24px\">\n",
              "    <path d=\"M0 0h24v24H0V0z\" fill=\"none\"/>\n",
              "    <path d=\"M18.56 5.44l.94 2.06.94-2.06 2.06-.94-2.06-.94-.94-2.06-.94 2.06-2.06.94zm-11 1L8.5 8.5l.94-2.06 2.06-.94-2.06-.94L8.5 2.5l-.94 2.06-2.06.94zm10 10l.94 2.06.94-2.06 2.06-.94-2.06-.94-.94-2.06-.94 2.06-2.06.94z\"/><path d=\"M17.41 7.96l-1.37-1.37c-.4-.4-.92-.59-1.43-.59-.52 0-1.04.2-1.43.59L10.3 9.45l-7.72 7.72c-.78.78-.78 2.05 0 2.83L4 21.41c.39.39.9.59 1.41.59.51 0 1.02-.2 1.41-.59l7.78-7.78 2.81-2.81c.8-.78.8-2.07 0-2.86zM5.41 20L4 18.59l7.72-7.72 1.47 1.35L5.41 20z\"/>\n",
              "  </svg>\n",
              "      </button>\n",
              "      \n",
              "  <style>\n",
              "    .colab-df-container {\n",
              "      display:flex;\n",
              "      flex-wrap:wrap;\n",
              "      gap: 12px;\n",
              "    }\n",
              "\n",
              "    .colab-df-convert {\n",
              "      background-color: #E8F0FE;\n",
              "      border: none;\n",
              "      border-radius: 50%;\n",
              "      cursor: pointer;\n",
              "      display: none;\n",
              "      fill: #1967D2;\n",
              "      height: 32px;\n",
              "      padding: 0 0 0 0;\n",
              "      width: 32px;\n",
              "    }\n",
              "\n",
              "    .colab-df-convert:hover {\n",
              "      background-color: #E2EBFA;\n",
              "      box-shadow: 0px 1px 2px rgba(60, 64, 67, 0.3), 0px 1px 3px 1px rgba(60, 64, 67, 0.15);\n",
              "      fill: #174EA6;\n",
              "    }\n",
              "\n",
              "    [theme=dark] .colab-df-convert {\n",
              "      background-color: #3B4455;\n",
              "      fill: #D2E3FC;\n",
              "    }\n",
              "\n",
              "    [theme=dark] .colab-df-convert:hover {\n",
              "      background-color: #434B5C;\n",
              "      box-shadow: 0px 1px 3px 1px rgba(0, 0, 0, 0.15);\n",
              "      filter: drop-shadow(0px 1px 2px rgba(0, 0, 0, 0.3));\n",
              "      fill: #FFFFFF;\n",
              "    }\n",
              "  </style>\n",
              "\n",
              "      <script>\n",
              "        const buttonEl =\n",
              "          document.querySelector('#df-f61725ac-047c-41ad-b0af-b76f7dd36ae5 button.colab-df-convert');\n",
              "        buttonEl.style.display =\n",
              "          google.colab.kernel.accessAllowed ? 'block' : 'none';\n",
              "\n",
              "        async function convertToInteractive(key) {\n",
              "          const element = document.querySelector('#df-f61725ac-047c-41ad-b0af-b76f7dd36ae5');\n",
              "          const dataTable =\n",
              "            await google.colab.kernel.invokeFunction('convertToInteractive',\n",
              "                                                     [key], {});\n",
              "          if (!dataTable) return;\n",
              "\n",
              "          const docLinkHtml = 'Like what you see? Visit the ' +\n",
              "            '<a target=\"_blank\" href=https://colab.research.google.com/notebooks/data_table.ipynb>data table notebook</a>'\n",
              "            + ' to learn more about interactive tables.';\n",
              "          element.innerHTML = '';\n",
              "          dataTable['output_type'] = 'display_data';\n",
              "          await google.colab.output.renderOutput(dataTable, element);\n",
              "          const docLink = document.createElement('div');\n",
              "          docLink.innerHTML = docLinkHtml;\n",
              "          element.appendChild(docLink);\n",
              "        }\n",
              "      </script>\n",
              "    </div>\n",
              "  </div>\n",
              "  "
            ]
          },
          "metadata": {},
          "execution_count": 15
        }
      ],
      "source": [
        "# Printing the first five rows of the dataset after removing conclusion column\n",
        "aquap_data.head()"
      ]
    },
    {
      "cell_type": "code",
      "execution_count": 16,
      "metadata": {
        "id": "n2n6EULc9iha",
        "outputId": "7cc60477-4b3b-4570-ae24-552b5a1bbfa4",
        "colab": {
          "base_uri": "https://localhost:8080/",
          "height": 364
        }
      },
      "outputs": [
        {
          "output_type": "execute_result",
          "data": {
            "text/plain": [
              "                 T           TM           Tm          SLP            H  \\\n",
              "count  1093.000000  1093.000000  1093.000000  1093.000000  1093.000000   \n",
              "mean     26.009241    32.482251    19.460201  1008.081885    62.918573   \n",
              "std       7.237401     6.679078     7.438653     7.529237    15.709816   \n",
              "min       6.700000     9.800000     0.000000   991.500000    20.000000   \n",
              "25%      19.300000    27.800000    12.100000  1001.100000    54.000000   \n",
              "50%      28.200000    34.200000    21.200000  1008.100000    64.000000   \n",
              "75%      31.700000    37.000000    26.000000  1015.000000    74.000000   \n",
              "max      38.500000    45.500000    32.700000  1023.200000    98.000000   \n",
              "\n",
              "                VV            V           VM       PM 2.5         Good  \\\n",
              "count  1093.000000  1093.000000  1093.000000  1092.000000  1093.000000   \n",
              "mean      2.003111     6.751510    15.805124   109.090984     0.313815   \n",
              "std       0.747541     3.841137     7.308435    84.465790     0.464255   \n",
              "min       0.300000     0.400000     1.900000     0.000000     0.000000   \n",
              "25%       1.600000     3.700000    11.100000    41.833333     0.000000   \n",
              "50%       1.900000     6.500000    14.800000    83.458333     0.000000   \n",
              "75%       2.600000     9.100000    18.300000   158.291667     1.000000   \n",
              "max       5.800000    24.400000    57.600000   404.500000     1.000000   \n",
              "\n",
              "       Satisfactory     Moderate         Poor    Very Poor       Severe  \n",
              "count   1093.000000  1093.000000  1093.000000  1093.000000  1093.000000  \n",
              "mean       0.248856     0.268984     0.139067     0.025618     0.003660  \n",
              "std        0.432548     0.443635     0.346175     0.158064     0.060412  \n",
              "min        0.000000     0.000000     0.000000     0.000000     0.000000  \n",
              "25%        0.000000     0.000000     0.000000     0.000000     0.000000  \n",
              "50%        0.000000     0.000000     0.000000     0.000000     0.000000  \n",
              "75%        0.000000     1.000000     0.000000     0.000000     0.000000  \n",
              "max        1.000000     1.000000     1.000000     1.000000     1.000000  "
            ],
            "text/html": [
              "\n",
              "  <div id=\"df-3dde0b41-e1e6-4e46-9dc6-d5246a29a964\">\n",
              "    <div class=\"colab-df-container\">\n",
              "      <div>\n",
              "<style scoped>\n",
              "    .dataframe tbody tr th:only-of-type {\n",
              "        vertical-align: middle;\n",
              "    }\n",
              "\n",
              "    .dataframe tbody tr th {\n",
              "        vertical-align: top;\n",
              "    }\n",
              "\n",
              "    .dataframe thead th {\n",
              "        text-align: right;\n",
              "    }\n",
              "</style>\n",
              "<table border=\"1\" class=\"dataframe\">\n",
              "  <thead>\n",
              "    <tr style=\"text-align: right;\">\n",
              "      <th></th>\n",
              "      <th>T</th>\n",
              "      <th>TM</th>\n",
              "      <th>Tm</th>\n",
              "      <th>SLP</th>\n",
              "      <th>H</th>\n",
              "      <th>VV</th>\n",
              "      <th>V</th>\n",
              "      <th>VM</th>\n",
              "      <th>PM 2.5</th>\n",
              "      <th>Good</th>\n",
              "      <th>Satisfactory</th>\n",
              "      <th>Moderate</th>\n",
              "      <th>Poor</th>\n",
              "      <th>Very Poor</th>\n",
              "      <th>Severe</th>\n",
              "    </tr>\n",
              "  </thead>\n",
              "  <tbody>\n",
              "    <tr>\n",
              "      <th>count</th>\n",
              "      <td>1093.000000</td>\n",
              "      <td>1093.000000</td>\n",
              "      <td>1093.000000</td>\n",
              "      <td>1093.000000</td>\n",
              "      <td>1093.000000</td>\n",
              "      <td>1093.000000</td>\n",
              "      <td>1093.000000</td>\n",
              "      <td>1093.000000</td>\n",
              "      <td>1092.000000</td>\n",
              "      <td>1093.000000</td>\n",
              "      <td>1093.000000</td>\n",
              "      <td>1093.000000</td>\n",
              "      <td>1093.000000</td>\n",
              "      <td>1093.000000</td>\n",
              "      <td>1093.000000</td>\n",
              "    </tr>\n",
              "    <tr>\n",
              "      <th>mean</th>\n",
              "      <td>26.009241</td>\n",
              "      <td>32.482251</td>\n",
              "      <td>19.460201</td>\n",
              "      <td>1008.081885</td>\n",
              "      <td>62.918573</td>\n",
              "      <td>2.003111</td>\n",
              "      <td>6.751510</td>\n",
              "      <td>15.805124</td>\n",
              "      <td>109.090984</td>\n",
              "      <td>0.313815</td>\n",
              "      <td>0.248856</td>\n",
              "      <td>0.268984</td>\n",
              "      <td>0.139067</td>\n",
              "      <td>0.025618</td>\n",
              "      <td>0.003660</td>\n",
              "    </tr>\n",
              "    <tr>\n",
              "      <th>std</th>\n",
              "      <td>7.237401</td>\n",
              "      <td>6.679078</td>\n",
              "      <td>7.438653</td>\n",
              "      <td>7.529237</td>\n",
              "      <td>15.709816</td>\n",
              "      <td>0.747541</td>\n",
              "      <td>3.841137</td>\n",
              "      <td>7.308435</td>\n",
              "      <td>84.465790</td>\n",
              "      <td>0.464255</td>\n",
              "      <td>0.432548</td>\n",
              "      <td>0.443635</td>\n",
              "      <td>0.346175</td>\n",
              "      <td>0.158064</td>\n",
              "      <td>0.060412</td>\n",
              "    </tr>\n",
              "    <tr>\n",
              "      <th>min</th>\n",
              "      <td>6.700000</td>\n",
              "      <td>9.800000</td>\n",
              "      <td>0.000000</td>\n",
              "      <td>991.500000</td>\n",
              "      <td>20.000000</td>\n",
              "      <td>0.300000</td>\n",
              "      <td>0.400000</td>\n",
              "      <td>1.900000</td>\n",
              "      <td>0.000000</td>\n",
              "      <td>0.000000</td>\n",
              "      <td>0.000000</td>\n",
              "      <td>0.000000</td>\n",
              "      <td>0.000000</td>\n",
              "      <td>0.000000</td>\n",
              "      <td>0.000000</td>\n",
              "    </tr>\n",
              "    <tr>\n",
              "      <th>25%</th>\n",
              "      <td>19.300000</td>\n",
              "      <td>27.800000</td>\n",
              "      <td>12.100000</td>\n",
              "      <td>1001.100000</td>\n",
              "      <td>54.000000</td>\n",
              "      <td>1.600000</td>\n",
              "      <td>3.700000</td>\n",
              "      <td>11.100000</td>\n",
              "      <td>41.833333</td>\n",
              "      <td>0.000000</td>\n",
              "      <td>0.000000</td>\n",
              "      <td>0.000000</td>\n",
              "      <td>0.000000</td>\n",
              "      <td>0.000000</td>\n",
              "      <td>0.000000</td>\n",
              "    </tr>\n",
              "    <tr>\n",
              "      <th>50%</th>\n",
              "      <td>28.200000</td>\n",
              "      <td>34.200000</td>\n",
              "      <td>21.200000</td>\n",
              "      <td>1008.100000</td>\n",
              "      <td>64.000000</td>\n",
              "      <td>1.900000</td>\n",
              "      <td>6.500000</td>\n",
              "      <td>14.800000</td>\n",
              "      <td>83.458333</td>\n",
              "      <td>0.000000</td>\n",
              "      <td>0.000000</td>\n",
              "      <td>0.000000</td>\n",
              "      <td>0.000000</td>\n",
              "      <td>0.000000</td>\n",
              "      <td>0.000000</td>\n",
              "    </tr>\n",
              "    <tr>\n",
              "      <th>75%</th>\n",
              "      <td>31.700000</td>\n",
              "      <td>37.000000</td>\n",
              "      <td>26.000000</td>\n",
              "      <td>1015.000000</td>\n",
              "      <td>74.000000</td>\n",
              "      <td>2.600000</td>\n",
              "      <td>9.100000</td>\n",
              "      <td>18.300000</td>\n",
              "      <td>158.291667</td>\n",
              "      <td>1.000000</td>\n",
              "      <td>0.000000</td>\n",
              "      <td>1.000000</td>\n",
              "      <td>0.000000</td>\n",
              "      <td>0.000000</td>\n",
              "      <td>0.000000</td>\n",
              "    </tr>\n",
              "    <tr>\n",
              "      <th>max</th>\n",
              "      <td>38.500000</td>\n",
              "      <td>45.500000</td>\n",
              "      <td>32.700000</td>\n",
              "      <td>1023.200000</td>\n",
              "      <td>98.000000</td>\n",
              "      <td>5.800000</td>\n",
              "      <td>24.400000</td>\n",
              "      <td>57.600000</td>\n",
              "      <td>404.500000</td>\n",
              "      <td>1.000000</td>\n",
              "      <td>1.000000</td>\n",
              "      <td>1.000000</td>\n",
              "      <td>1.000000</td>\n",
              "      <td>1.000000</td>\n",
              "      <td>1.000000</td>\n",
              "    </tr>\n",
              "  </tbody>\n",
              "</table>\n",
              "</div>\n",
              "      <button class=\"colab-df-convert\" onclick=\"convertToInteractive('df-3dde0b41-e1e6-4e46-9dc6-d5246a29a964')\"\n",
              "              title=\"Convert this dataframe to an interactive table.\"\n",
              "              style=\"display:none;\">\n",
              "        \n",
              "  <svg xmlns=\"http://www.w3.org/2000/svg\" height=\"24px\"viewBox=\"0 0 24 24\"\n",
              "       width=\"24px\">\n",
              "    <path d=\"M0 0h24v24H0V0z\" fill=\"none\"/>\n",
              "    <path d=\"M18.56 5.44l.94 2.06.94-2.06 2.06-.94-2.06-.94-.94-2.06-.94 2.06-2.06.94zm-11 1L8.5 8.5l.94-2.06 2.06-.94-2.06-.94L8.5 2.5l-.94 2.06-2.06.94zm10 10l.94 2.06.94-2.06 2.06-.94-2.06-.94-.94-2.06-.94 2.06-2.06.94z\"/><path d=\"M17.41 7.96l-1.37-1.37c-.4-.4-.92-.59-1.43-.59-.52 0-1.04.2-1.43.59L10.3 9.45l-7.72 7.72c-.78.78-.78 2.05 0 2.83L4 21.41c.39.39.9.59 1.41.59.51 0 1.02-.2 1.41-.59l7.78-7.78 2.81-2.81c.8-.78.8-2.07 0-2.86zM5.41 20L4 18.59l7.72-7.72 1.47 1.35L5.41 20z\"/>\n",
              "  </svg>\n",
              "      </button>\n",
              "      \n",
              "  <style>\n",
              "    .colab-df-container {\n",
              "      display:flex;\n",
              "      flex-wrap:wrap;\n",
              "      gap: 12px;\n",
              "    }\n",
              "\n",
              "    .colab-df-convert {\n",
              "      background-color: #E8F0FE;\n",
              "      border: none;\n",
              "      border-radius: 50%;\n",
              "      cursor: pointer;\n",
              "      display: none;\n",
              "      fill: #1967D2;\n",
              "      height: 32px;\n",
              "      padding: 0 0 0 0;\n",
              "      width: 32px;\n",
              "    }\n",
              "\n",
              "    .colab-df-convert:hover {\n",
              "      background-color: #E2EBFA;\n",
              "      box-shadow: 0px 1px 2px rgba(60, 64, 67, 0.3), 0px 1px 3px 1px rgba(60, 64, 67, 0.15);\n",
              "      fill: #174EA6;\n",
              "    }\n",
              "\n",
              "    [theme=dark] .colab-df-convert {\n",
              "      background-color: #3B4455;\n",
              "      fill: #D2E3FC;\n",
              "    }\n",
              "\n",
              "    [theme=dark] .colab-df-convert:hover {\n",
              "      background-color: #434B5C;\n",
              "      box-shadow: 0px 1px 3px 1px rgba(0, 0, 0, 0.15);\n",
              "      filter: drop-shadow(0px 1px 2px rgba(0, 0, 0, 0.3));\n",
              "      fill: #FFFFFF;\n",
              "    }\n",
              "  </style>\n",
              "\n",
              "      <script>\n",
              "        const buttonEl =\n",
              "          document.querySelector('#df-3dde0b41-e1e6-4e46-9dc6-d5246a29a964 button.colab-df-convert');\n",
              "        buttonEl.style.display =\n",
              "          google.colab.kernel.accessAllowed ? 'block' : 'none';\n",
              "\n",
              "        async function convertToInteractive(key) {\n",
              "          const element = document.querySelector('#df-3dde0b41-e1e6-4e46-9dc6-d5246a29a964');\n",
              "          const dataTable =\n",
              "            await google.colab.kernel.invokeFunction('convertToInteractive',\n",
              "                                                     [key], {});\n",
              "          if (!dataTable) return;\n",
              "\n",
              "          const docLinkHtml = 'Like what you see? Visit the ' +\n",
              "            '<a target=\"_blank\" href=https://colab.research.google.com/notebooks/data_table.ipynb>data table notebook</a>'\n",
              "            + ' to learn more about interactive tables.';\n",
              "          element.innerHTML = '';\n",
              "          dataTable['output_type'] = 'display_data';\n",
              "          await google.colab.output.renderOutput(dataTable, element);\n",
              "          const docLink = document.createElement('div');\n",
              "          docLink.innerHTML = docLinkHtml;\n",
              "          element.appendChild(docLink);\n",
              "        }\n",
              "      </script>\n",
              "    </div>\n",
              "  </div>\n",
              "  "
            ]
          },
          "metadata": {},
          "execution_count": 16
        }
      ],
      "source": [
        "# Generate descriptive statistics of dataset\n",
        "aquap_data.describe()"
      ]
    },
    {
      "cell_type": "markdown",
      "metadata": {
        "id": "Xmkh7frI9ihb"
      },
      "source": [
        "### Data Preprocessing"
      ]
    },
    {
      "cell_type": "markdown",
      "metadata": {
        "id": "nrNm9Ozg9ihb"
      },
      "source": [
        "#### Dealing with missing data"
      ]
    },
    {
      "cell_type": "code",
      "execution_count": 17,
      "metadata": {
        "id": "keXI4yKW9ihb",
        "outputId": "f6df219c-e66b-47b2-8a1b-9af9a22f69d0",
        "colab": {
          "base_uri": "https://localhost:8080/"
        }
      },
      "outputs": [
        {
          "output_type": "execute_result",
          "data": {
            "text/plain": [
              "T               0\n",
              "TM              0\n",
              "Tm              0\n",
              "SLP             0\n",
              "H               0\n",
              "VV              0\n",
              "V               0\n",
              "VM              0\n",
              "PM 2.5          1\n",
              "Good            0\n",
              "Satisfactory    0\n",
              "Moderate        0\n",
              "Poor            0\n",
              "Very Poor       0\n",
              "Severe          0\n",
              "dtype: int64"
            ]
          },
          "metadata": {},
          "execution_count": 17
        }
      ],
      "source": [
        "aquap_data.isnull().sum()"
      ]
    },
    {
      "cell_type": "markdown",
      "metadata": {
        "id": "AarvP7Y_9ihc"
      },
      "source": [
        "#### Removing Missing Values"
      ]
    },
    {
      "cell_type": "code",
      "execution_count": 18,
      "metadata": {
        "id": "G3Qtyg0a9ihc",
        "outputId": "8b6b0731-a2aa-4ec8-8ac3-149ca4924af4",
        "colab": {
          "base_uri": "https://localhost:8080/"
        }
      },
      "outputs": [
        {
          "output_type": "execute_result",
          "data": {
            "text/plain": [
              "T               0\n",
              "TM              0\n",
              "Tm              0\n",
              "SLP             0\n",
              "H               0\n",
              "VV              0\n",
              "V               0\n",
              "VM              0\n",
              "PM 2.5          0\n",
              "Good            0\n",
              "Satisfactory    0\n",
              "Moderate        0\n",
              "Poor            0\n",
              "Very Poor       0\n",
              "Severe          0\n",
              "dtype: int64"
            ]
          },
          "metadata": {},
          "execution_count": 18
        }
      ],
      "source": [
        "aquap_data.dropna(inplace=True)\n",
        "aquap_data.isnull().sum()"
      ]
    },
    {
      "cell_type": "markdown",
      "metadata": {
        "id": "PCSu6Awk9ihc"
      },
      "source": [
        "### Choosing Model"
      ]
    },
    {
      "cell_type": "code",
      "execution_count": 19,
      "metadata": {
        "id": "ZCi8bEt69ihc"
      },
      "outputs": [],
      "source": [
        "# Importing packages for applying machine learning algorithm\n",
        "from sklearn.model_selection import train_test_split\n",
        "from sklearn.linear_model import LinearRegression\n",
        "import seaborn as sns\n",
        "from sklearn.metrics import accuracy_score"
      ]
    },
    {
      "cell_type": "code",
      "execution_count": 20,
      "metadata": {
        "id": "Psw03oiJ9ihd"
      },
      "outputs": [],
      "source": [
        "feature = aquap_data\n",
        "feature = feature.drop(columns='PM 2.5')\n",
        "feature = feature.drop(columns='Good')\n",
        "feature = feature.drop(columns='Satisfactory')\n",
        "feature = feature.drop(columns='Moderate')\n",
        "feature = feature.drop(columns='Poor')\n",
        "feature = feature.drop(columns='Very Poor')\n",
        "feature = feature.drop(columns='Severe')"
      ]
    },
    {
      "cell_type": "code",
      "execution_count": 21,
      "metadata": {
        "id": "eWYWjjwW9ihd",
        "outputId": "e12699c5-3fd2-403d-cb2a-20e7a2d31c5d",
        "colab": {
          "base_uri": "https://localhost:8080/",
          "height": 223
        }
      },
      "outputs": [
        {
          "output_type": "stream",
          "name": "stdout",
          "text": [
            "Feature Data\n"
          ]
        },
        {
          "output_type": "execute_result",
          "data": {
            "text/plain": [
              "      T    TM   Tm     SLP   H   VV    V    VM\n",
              "0   7.4   9.8  4.8  1017.6  93  0.5  4.3   9.4\n",
              "1   7.8  12.7  4.4  1018.5  87  0.6  4.4  11.1\n",
              "2   6.7  13.4  2.4  1019.4  82  0.6  4.8  11.1\n",
              "3   8.6  15.5  3.3  1018.7  72  0.8  8.1  20.6\n",
              "4  12.4  20.9  4.4  1017.3  61  1.3  8.7  22.2"
            ],
            "text/html": [
              "\n",
              "  <div id=\"df-758a684b-731a-41a0-b929-29daf3e0c96a\">\n",
              "    <div class=\"colab-df-container\">\n",
              "      <div>\n",
              "<style scoped>\n",
              "    .dataframe tbody tr th:only-of-type {\n",
              "        vertical-align: middle;\n",
              "    }\n",
              "\n",
              "    .dataframe tbody tr th {\n",
              "        vertical-align: top;\n",
              "    }\n",
              "\n",
              "    .dataframe thead th {\n",
              "        text-align: right;\n",
              "    }\n",
              "</style>\n",
              "<table border=\"1\" class=\"dataframe\">\n",
              "  <thead>\n",
              "    <tr style=\"text-align: right;\">\n",
              "      <th></th>\n",
              "      <th>T</th>\n",
              "      <th>TM</th>\n",
              "      <th>Tm</th>\n",
              "      <th>SLP</th>\n",
              "      <th>H</th>\n",
              "      <th>VV</th>\n",
              "      <th>V</th>\n",
              "      <th>VM</th>\n",
              "    </tr>\n",
              "  </thead>\n",
              "  <tbody>\n",
              "    <tr>\n",
              "      <th>0</th>\n",
              "      <td>7.4</td>\n",
              "      <td>9.8</td>\n",
              "      <td>4.8</td>\n",
              "      <td>1017.6</td>\n",
              "      <td>93</td>\n",
              "      <td>0.5</td>\n",
              "      <td>4.3</td>\n",
              "      <td>9.4</td>\n",
              "    </tr>\n",
              "    <tr>\n",
              "      <th>1</th>\n",
              "      <td>7.8</td>\n",
              "      <td>12.7</td>\n",
              "      <td>4.4</td>\n",
              "      <td>1018.5</td>\n",
              "      <td>87</td>\n",
              "      <td>0.6</td>\n",
              "      <td>4.4</td>\n",
              "      <td>11.1</td>\n",
              "    </tr>\n",
              "    <tr>\n",
              "      <th>2</th>\n",
              "      <td>6.7</td>\n",
              "      <td>13.4</td>\n",
              "      <td>2.4</td>\n",
              "      <td>1019.4</td>\n",
              "      <td>82</td>\n",
              "      <td>0.6</td>\n",
              "      <td>4.8</td>\n",
              "      <td>11.1</td>\n",
              "    </tr>\n",
              "    <tr>\n",
              "      <th>3</th>\n",
              "      <td>8.6</td>\n",
              "      <td>15.5</td>\n",
              "      <td>3.3</td>\n",
              "      <td>1018.7</td>\n",
              "      <td>72</td>\n",
              "      <td>0.8</td>\n",
              "      <td>8.1</td>\n",
              "      <td>20.6</td>\n",
              "    </tr>\n",
              "    <tr>\n",
              "      <th>4</th>\n",
              "      <td>12.4</td>\n",
              "      <td>20.9</td>\n",
              "      <td>4.4</td>\n",
              "      <td>1017.3</td>\n",
              "      <td>61</td>\n",
              "      <td>1.3</td>\n",
              "      <td>8.7</td>\n",
              "      <td>22.2</td>\n",
              "    </tr>\n",
              "  </tbody>\n",
              "</table>\n",
              "</div>\n",
              "      <button class=\"colab-df-convert\" onclick=\"convertToInteractive('df-758a684b-731a-41a0-b929-29daf3e0c96a')\"\n",
              "              title=\"Convert this dataframe to an interactive table.\"\n",
              "              style=\"display:none;\">\n",
              "        \n",
              "  <svg xmlns=\"http://www.w3.org/2000/svg\" height=\"24px\"viewBox=\"0 0 24 24\"\n",
              "       width=\"24px\">\n",
              "    <path d=\"M0 0h24v24H0V0z\" fill=\"none\"/>\n",
              "    <path d=\"M18.56 5.44l.94 2.06.94-2.06 2.06-.94-2.06-.94-.94-2.06-.94 2.06-2.06.94zm-11 1L8.5 8.5l.94-2.06 2.06-.94-2.06-.94L8.5 2.5l-.94 2.06-2.06.94zm10 10l.94 2.06.94-2.06 2.06-.94-2.06-.94-.94-2.06-.94 2.06-2.06.94z\"/><path d=\"M17.41 7.96l-1.37-1.37c-.4-.4-.92-.59-1.43-.59-.52 0-1.04.2-1.43.59L10.3 9.45l-7.72 7.72c-.78.78-.78 2.05 0 2.83L4 21.41c.39.39.9.59 1.41.59.51 0 1.02-.2 1.41-.59l7.78-7.78 2.81-2.81c.8-.78.8-2.07 0-2.86zM5.41 20L4 18.59l7.72-7.72 1.47 1.35L5.41 20z\"/>\n",
              "  </svg>\n",
              "      </button>\n",
              "      \n",
              "  <style>\n",
              "    .colab-df-container {\n",
              "      display:flex;\n",
              "      flex-wrap:wrap;\n",
              "      gap: 12px;\n",
              "    }\n",
              "\n",
              "    .colab-df-convert {\n",
              "      background-color: #E8F0FE;\n",
              "      border: none;\n",
              "      border-radius: 50%;\n",
              "      cursor: pointer;\n",
              "      display: none;\n",
              "      fill: #1967D2;\n",
              "      height: 32px;\n",
              "      padding: 0 0 0 0;\n",
              "      width: 32px;\n",
              "    }\n",
              "\n",
              "    .colab-df-convert:hover {\n",
              "      background-color: #E2EBFA;\n",
              "      box-shadow: 0px 1px 2px rgba(60, 64, 67, 0.3), 0px 1px 3px 1px rgba(60, 64, 67, 0.15);\n",
              "      fill: #174EA6;\n",
              "    }\n",
              "\n",
              "    [theme=dark] .colab-df-convert {\n",
              "      background-color: #3B4455;\n",
              "      fill: #D2E3FC;\n",
              "    }\n",
              "\n",
              "    [theme=dark] .colab-df-convert:hover {\n",
              "      background-color: #434B5C;\n",
              "      box-shadow: 0px 1px 3px 1px rgba(0, 0, 0, 0.15);\n",
              "      filter: drop-shadow(0px 1px 2px rgba(0, 0, 0, 0.3));\n",
              "      fill: #FFFFFF;\n",
              "    }\n",
              "  </style>\n",
              "\n",
              "      <script>\n",
              "        const buttonEl =\n",
              "          document.querySelector('#df-758a684b-731a-41a0-b929-29daf3e0c96a button.colab-df-convert');\n",
              "        buttonEl.style.display =\n",
              "          google.colab.kernel.accessAllowed ? 'block' : 'none';\n",
              "\n",
              "        async function convertToInteractive(key) {\n",
              "          const element = document.querySelector('#df-758a684b-731a-41a0-b929-29daf3e0c96a');\n",
              "          const dataTable =\n",
              "            await google.colab.kernel.invokeFunction('convertToInteractive',\n",
              "                                                     [key], {});\n",
              "          if (!dataTable) return;\n",
              "\n",
              "          const docLinkHtml = 'Like what you see? Visit the ' +\n",
              "            '<a target=\"_blank\" href=https://colab.research.google.com/notebooks/data_table.ipynb>data table notebook</a>'\n",
              "            + ' to learn more about interactive tables.';\n",
              "          element.innerHTML = '';\n",
              "          dataTable['output_type'] = 'display_data';\n",
              "          await google.colab.output.renderOutput(dataTable, element);\n",
              "          const docLink = document.createElement('div');\n",
              "          docLink.innerHTML = docLinkHtml;\n",
              "          element.appendChild(docLink);\n",
              "        }\n",
              "      </script>\n",
              "    </div>\n",
              "  </div>\n",
              "  "
            ]
          },
          "metadata": {},
          "execution_count": 21
        }
      ],
      "source": [
        "# Printing the first five rows of the feature table\n",
        "print(\"Feature Data\")\n",
        "feature.head()"
      ]
    },
    {
      "cell_type": "code",
      "execution_count": 22,
      "metadata": {
        "id": "NPu_QZ7U9ihd"
      },
      "outputs": [],
      "source": [
        "label = aquap_data['PM 2.5']"
      ]
    },
    {
      "cell_type": "code",
      "execution_count": 23,
      "metadata": {
        "id": "sP9-cgMK9ihd",
        "outputId": "81bdf7d8-ff8c-4b96-837f-6965856fa392",
        "colab": {
          "base_uri": "https://localhost:8080/"
        }
      },
      "outputs": [
        {
          "output_type": "stream",
          "name": "stdout",
          "text": [
            "Label Data\n"
          ]
        },
        {
          "output_type": "execute_result",
          "data": {
            "text/plain": [
              "0    219.720833\n",
              "1    182.187500\n",
              "2    154.037500\n",
              "3    223.208333\n",
              "4    200.645833\n",
              "Name: PM 2.5, dtype: float64"
            ]
          },
          "metadata": {},
          "execution_count": 23
        }
      ],
      "source": [
        "# Printing the first five rows of the label table\n",
        "print(\"Label Data\")\n",
        "label.head()"
      ]
    },
    {
      "cell_type": "markdown",
      "metadata": {
        "id": "nQG5ij6G9ihe"
      },
      "source": [
        "Divide the data into training and testing modules"
      ]
    },
    {
      "cell_type": "code",
      "execution_count": 40,
      "metadata": {
        "id": "mMgttNvb9ihe"
      },
      "outputs": [],
      "source": [
        "X_train, X_test, Y_train, Y_test = train_test_split(feature, label, test_size=0.4, random_state=100)"
      ]
    },
    {
      "cell_type": "code",
      "execution_count": 41,
      "metadata": {
        "id": "CzcmYhnn9ihe",
        "outputId": "bd924302-2359-4fa0-ca2f-d3e318946b9c",
        "colab": {
          "base_uri": "https://localhost:8080/"
        }
      },
      "outputs": [
        {
          "output_type": "stream",
          "name": "stdout",
          "text": [
            "(655, 8) (655,)\n"
          ]
        }
      ],
      "source": [
        "print(X_train.shape, Y_train.shape)"
      ]
    },
    {
      "cell_type": "code",
      "execution_count": 42,
      "metadata": {
        "id": "30IbeUff9ihe",
        "outputId": "a24d80be-8399-4bf2-8970-ae50f889537a",
        "colab": {
          "base_uri": "https://localhost:8080/"
        }
      },
      "outputs": [
        {
          "output_type": "stream",
          "name": "stdout",
          "text": [
            "(437, 8) (437,)\n"
          ]
        }
      ],
      "source": [
        "print(X_test.shape, Y_test.shape)"
      ]
    },
    {
      "cell_type": "code",
      "execution_count": 43,
      "metadata": {
        "id": "PtqHA4EJ9ihf"
      },
      "outputs": [],
      "source": [
        "lr = LinearRegression()"
      ]
    },
    {
      "cell_type": "code",
      "execution_count": 44,
      "metadata": {
        "id": "6tG_xar89ihf",
        "outputId": "156be9d6-2fe6-4a53-8b1f-4429bd90dd4c",
        "colab": {
          "base_uri": "https://localhost:8080/"
        }
      },
      "outputs": [
        {
          "output_type": "execute_result",
          "data": {
            "text/plain": [
              "LinearRegression()"
            ]
          },
          "metadata": {},
          "execution_count": 44
        }
      ],
      "source": [
        "lr.fit(X_train, Y_train)"
      ]
    },
    {
      "cell_type": "code",
      "execution_count": 45,
      "metadata": {
        "id": "UFsTjI1E9ihf"
      },
      "outputs": [],
      "source": [
        "Y_Predict = lr.predict(X_test)"
      ]
    },
    {
      "cell_type": "code",
      "execution_count": 46,
      "metadata": {
        "id": "bn8Z5HTX9ihg",
        "outputId": "578e0340-953e-4653-bfb9-c709a61bd5ae",
        "colab": {
          "base_uri": "https://localhost:8080/"
        }
      },
      "outputs": [
        {
          "output_type": "execute_result",
          "data": {
            "text/plain": [
              "array([ 201.14748988,  148.32401757,  165.47963098,   33.93112677,\n",
              "         53.79382846,   74.2182192 ,   24.53677492,   14.15418799,\n",
              "        129.85768449,   88.90536187,  124.48954082,  194.52046832,\n",
              "         76.28230496,  184.93928428,   46.74852936,   95.1350521 ,\n",
              "        128.65859152,   57.83411736,  145.42884361,   48.34979259,\n",
              "        105.92687635,  126.43737644,  156.18516982,  199.14897363,\n",
              "          4.92944809,  181.5707495 ,   65.97952407,   63.0409634 ,\n",
              "        156.86361443,  136.66254539,  220.88706749,   94.04961539,\n",
              "         41.62855923,  210.54451662,  150.5544635 ,   59.61181982,\n",
              "        120.15730938,   63.72289248,  169.23903788,   98.85749546,\n",
              "        184.76688783,  178.50963725,  102.80891663,  216.86913945,\n",
              "        104.18410927,  140.43387783,  146.47631295,  182.87249183,\n",
              "        105.92733375,   33.01654029,  111.42581748,  202.11739128,\n",
              "        170.29917162,   58.74216481,   69.44012355,  191.74120072,\n",
              "         29.80085869,  153.45661501,  231.04185997,  166.09365261,\n",
              "        133.04626227,   68.14246285,  108.0699674 ,   52.64737736,\n",
              "         98.33306452,  180.19463162,  178.54361475,   90.26182633,\n",
              "        102.62970563,   42.24076655,   71.61739291,  161.04237015,\n",
              "         84.32187464,  225.06393129,   75.01039189,   73.59670177,\n",
              "         28.26406823,   51.38050368,   26.6749927 ,  181.49978639,\n",
              "         12.53900656,   81.79881121,  119.05990729,   47.14360757,\n",
              "         68.1302299 ,   62.61950998,  110.81854099,  196.69554121,\n",
              "         68.1302299 ,   12.53900656,  194.72604995,  167.2674621 ,\n",
              "        150.60194311,  135.49845068,  115.32983555,  180.43512099,\n",
              "        185.38003014,   24.28723242,  225.57752387,  184.93928428,\n",
              "         54.91188006,   52.43956381,   40.94807056,  206.16334303,\n",
              "        202.12979938,  201.14748988,  193.98923811,   70.86502302,\n",
              "         95.23131829,   54.73435939,   10.29118958,   92.2671457 ,\n",
              "         78.21638609,  151.865278  ,  181.51342409,  209.10308859,\n",
              "        190.12055638,  198.20207372,  109.50953788,    9.90684082,\n",
              "        129.64575418,   12.45412931,   65.3452948 ,   81.04421123,\n",
              "        196.99944203,  196.08467776,  193.5599209 ,  142.73507263,\n",
              "         77.47573373,  196.08467776,   80.99831399,  113.48901211,\n",
              "        115.67594737,   20.17797157,   84.17022758,  129.67697762,\n",
              "        222.25262473,   37.83137629,   43.65201076,  188.35702555,\n",
              "         58.37978621,   25.34630607,  193.98923811,   89.15628511,\n",
              "         24.28723242,  166.09365261,   10.29118958,  205.14573408,\n",
              "         37.83137629,  199.72967883,  139.680265  ,  170.29917162,\n",
              "        184.43158852,  192.23865724,  165.24863791,  183.12110887,\n",
              "         70.4797022 ,   86.5982467 ,   57.11784511,   45.62423561,\n",
              "        156.8391414 ,   65.3452948 ,  191.45587061,  119.92336245,\n",
              "         68.97328917,  224.81326998,   63.0409634 ,  126.87818445,\n",
              "         76.73562235,  139.27840648,   -1.46481247,   84.0442432 ,\n",
              "        145.51290238,   50.74369128,  104.35152564,   94.84181514,\n",
              "         67.79225451,   36.30083977,   72.23680245,  100.30246481,\n",
              "         78.35643556,   57.33172687,  132.85713419,   46.74852936,\n",
              "        100.60320933,  192.4221818 ,   57.59301711,   41.62855923,\n",
              "        209.10308859,   92.04826998,  218.64091941,   93.28681589,\n",
              "        100.92947995,  196.20460853,   52.79430994,   44.086657  ,\n",
              "         33.93112677,  172.83568745,  162.71882915,   68.70785106,\n",
              "        209.1002935 ,   73.98362643,   76.28230496,  191.45587061,\n",
              "         76.64103352,  150.5544635 ,  101.40272648,  231.20665582,\n",
              "       -105.6043733 ,  179.74733817,   94.26886833,   54.52132981,\n",
              "         29.80085869,   76.73562235,   92.2671457 ,   74.58418712,\n",
              "         96.3258779 ,   69.8369355 ,   42.24076655,  103.76951617,\n",
              "         30.07536703,  199.5704246 ,  104.33883395,   72.06379896,\n",
              "        186.06370356,  114.65325006,   24.84763384,  103.72768344,\n",
              "         73.98362643,   29.80085869,   53.12928673,   30.68904438,\n",
              "        160.01141471,  154.32894116,   38.38923614, -105.6043733 ,\n",
              "        237.80970998,   36.52034361,   41.05113603,  161.214496  ,\n",
              "         21.50819509,   82.4778909 ,  175.39455513,   29.04390481,\n",
              "        201.65242212,   31.99592228,   71.34603555,   66.19186666,\n",
              "        196.85357609,  163.43619765,   58.37978621,   64.65284996,\n",
              "        176.01274149,  197.75391422,   44.54481191,   90.60607154,\n",
              "         68.73824875,   86.49174674,   68.33415906,   97.17222193,\n",
              "        164.73822811,  199.36031335,  148.0914221 ,   65.52862305,\n",
              "        119.81611488,   96.71886261,  142.20830879,   12.44725398,\n",
              "         54.66655093,  188.26468925,  147.8123879 ,   69.47406434,\n",
              "         94.84181514,  117.126886  ,  166.77328994,  128.30517312,\n",
              "         71.34603555,   61.00628162,  181.06839432,   33.93112677,\n",
              "         30.07536703,  198.68332047,   62.33644612,   90.56875812,\n",
              "        209.59579205,   38.89391326,   64.40700838,    4.92944809,\n",
              "         89.99545618,  162.03625835,  222.25262473,  180.43512099,\n",
              "        147.30306951,  165.9843368 ,  113.80226394,   73.28152105,\n",
              "        173.78583525,   35.88241544,  134.22255307,   32.47377911,\n",
              "        101.40272648,   71.61739291,   71.61739291,  171.81819984,\n",
              "        183.8637098 ,   -1.46481247,   75.594176  ,  203.27987915,\n",
              "        123.41430358,  185.45035555,  103.02545361,   48.30804189,\n",
              "         88.89800297,  226.98281671,  182.10678491,   55.06882891,\n",
              "         60.89278054,   65.88920174,  108.17950911,   66.05430647,\n",
              "         76.62468981,  162.38777519,   31.59205628,   38.02795705,\n",
              "         39.28992856,   46.10020424,  220.77142846,  144.81855867,\n",
              "         38.02795705,   16.46246565,   30.48048249,   67.53409123,\n",
              "         91.61729915,   68.80876559,   46.10020424,   52.13882663,\n",
              "        150.90130606,  211.26622814,  186.3437274 ,  148.90253879,\n",
              "        201.49539165,  103.78235765,  186.06370356,  110.66018031,\n",
              "         19.05664882,   72.88919332,  136.21325137,   56.09166488,\n",
              "         65.3452948 ,  129.00796795,  147.8123879 ,  191.29960032,\n",
              "        220.88706749,   79.21910166,  124.06916391,  188.4433872 ,\n",
              "         10.41324087,  117.126886  ,   32.34943071,  193.98923811,\n",
              "        135.34772058,   42.24076655,   49.39619654,  154.86846504,\n",
              "        200.34748937,  202.15276647,  164.96527402,  134.54623417,\n",
              "         83.22112293,  136.24916116,  199.72967883,  140.28284523,\n",
              "         68.72428386,  191.79130058,   65.50234465,   69.20564033,\n",
              "        196.20460853,  187.39269282,   63.72289248,  148.32401757,\n",
              "        150.90130606,   -1.46481247,   12.45412931,  158.43446205,\n",
              "         71.45119866,   49.35324098,  201.5593397 ,  166.05108051,\n",
              "        182.44271607,   88.45070558,   55.5948527 ,   76.28230496,\n",
              "        180.90556115,  223.04348064,   49.43499018,   71.45119866,\n",
              "        117.07617851,  189.98607483,  222.25262473,  122.51534534,\n",
              "         14.61043692,   23.78145407,   45.75838018,  177.2975679 ,\n",
              "        199.45767661,  117.55297508,  137.38336621,  218.31397129,\n",
              "        223.04348064,   67.22076119,  196.20460853,   56.9776172 ,\n",
              "         41.9479807 ,  121.77937606,   75.54754212,   24.28723242,\n",
              "         72.88825232,   21.34163938,   26.3800799 ,   63.42438016,\n",
              "         71.34603555,   68.80876559,   56.9477329 ,   51.27548115,\n",
              "          3.24329672,   21.50819509,  225.21670134,  200.11776073,\n",
              "        100.09816599,   47.01668987,    9.90684082,  196.84570461,\n",
              "         10.29118958,  172.96360807,  128.58450949,   21.34163938,\n",
              "        190.19929331])"
            ]
          },
          "metadata": {},
          "execution_count": 46
        }
      ],
      "source": [
        "Y_Predict"
      ]
    },
    {
      "cell_type": "code",
      "execution_count": 47,
      "metadata": {
        "id": "t5f_rrfz9ihg",
        "colab": {
          "base_uri": "https://localhost:8080/"
        },
        "outputId": "23ff8e62-95f9-4182-8e6b-e285719a4523"
      },
      "outputs": [
        {
          "output_type": "stream",
          "name": "stdout",
          "text": [
            "Good\n"
          ]
        }
      ],
      "source": [
        "z = Y_Predict\n",
        "if z.all() <= 50:\n",
        "    print(\"Good\")\n",
        "elif z.all() <= 100:\n",
        "    print(\"Satisfactory\")\n",
        "elif z.all() <= 200:\n",
        "    print(\"Moderate\")\n",
        "elif z.all() <= 300:\n",
        "    print(\"Poor\")\n",
        "elif z.all() <= 400:\n",
        "    print(\"Very Poor\")\n",
        "elif z.all() <= 500: \n",
        "    print(\"Severe\")"
      ]
    },
    {
      "cell_type": "code",
      "execution_count": 48,
      "metadata": {
        "id": "g-V5uc1D9ihg",
        "outputId": "1c9a9102-7dba-49d9-9676-1d51caea5881",
        "colab": {
          "base_uri": "https://localhost:8080/"
        }
      },
      "outputs": [
        {
          "output_type": "execute_result",
          "data": {
            "text/plain": [
              "0.5345395441878695"
            ]
          },
          "metadata": {},
          "execution_count": 48
        }
      ],
      "source": [
        "\n",
        "lr.score(X_test, Y_test)"
      ]
    },
    {
      "cell_type": "code",
      "execution_count": 49,
      "metadata": {
        "id": "QhYHvEVj9ihh",
        "outputId": "e0acae1f-cfd5-4b11-b8c7-c26978927373",
        "colab": {
          "base_uri": "https://localhost:8080/"
        }
      },
      "outputs": [
        {
          "output_type": "execute_result",
          "data": {
            "text/plain": [
              "0.5319019892666765"
            ]
          },
          "metadata": {},
          "execution_count": 49
        }
      ],
      "source": [
        "lr.score(X_train, Y_train)"
      ]
    },
    {
      "cell_type": "code",
      "execution_count": 50,
      "metadata": {
        "id": "uncV8BR29ihh",
        "outputId": "602d0e9b-8b4e-44a1-a381-fd0a8b12a2c9",
        "colab": {
          "base_uri": "https://localhost:8080/",
          "height": 281
        }
      },
      "outputs": [
        {
          "output_type": "display_data",
          "data": {
            "text/plain": [
              "<Figure size 432x288 with 1 Axes>"
            ],
            "image/png": "[encoded data removed]"
          },
          "metadata": {
            "needs_background": "light"
          }
        }
      ],
      "source": [
        "plt.scatter(range(len(Y_test)), Y_test, color='blue')\n",
        "plt.scatter(range(len(Y_Predict)), Y_Predict, color='red')\n",
        "plt.title(\"Model Evalution\")\n",
        "plt.show()"
      ]
    },
    {
      "cell_type": "code",
      "source": [
        "from xgboost import XGBRegressor"
      ],
      "metadata": {
        "id": "6L_mEUfDADI4"
      },
      "execution_count": 51,
      "outputs": []
    },
    {
      "cell_type": "code",
      "source": [
        "XGB_model = XGBRegressor()"
      ],
      "metadata": {
        "id": "epyDtHWh91oo"
      },
      "execution_count": 52,
      "outputs": []
    },
    {
      "cell_type": "code",
      "source": [
        "XGB_model.fit(X_train,Y_train)"
      ],
      "metadata": {
        "id": "5htZElCwAqml",
        "outputId": "4365a0bf-515e-4deb-941f-b448e0d2433a",
        "colab": {
          "base_uri": "https://localhost:8080/"
        }
      },
      "execution_count": 53,
      "outputs": [
        {
          "output_type": "stream",
          "name": "stdout",
          "text": [
            "[09:16:08] WARNING: /workspace/src/objective/regression_obj.cu:152: reg:linear is now deprecated in favor of reg:squarederror.\n"
          ]
        },
        {
          "output_type": "execute_result",
          "data": {
            "text/plain": [
              "XGBRegressor()"
            ]
          },
          "metadata": {},
          "execution_count": 53
        }
      ]
    },
    {
      "cell_type": "code",
      "source": [
        "XGB_predict = XGB_model.predict(X_test)"
      ],
      "metadata": {
        "id": "InBqMb2cArMJ"
      },
      "execution_count": 54,
      "outputs": []
    },
    {
      "cell_type": "code",
      "source": [
        "from sklearn.metrics import mean_squared_error,mean_absolute_error\n",
        "print(\"Mean squared error:\",mean_squared_error(Y_test,XGB_predict))\n",
        "print(\"Mean absolute error:\",mean_absolute_error(Y_test,XGB_predict))\n",
        "print(\"Training Accuracy:\",XGB_model.score(X_train,Y_train))\n",
        "print(\"Testing Accuracy:\",XGB_model.score(X_test,Y_test))"
      ],
      "metadata": {
        "id": "P-tp9-pPBSZM",
        "outputId": "759388fe-54d2-4a3b-df35-bb839e9b8887",
        "colab": {
          "base_uri": "https://localhost:8080/"
        }
      },
      "execution_count": 55,
      "outputs": [
        {
          "output_type": "stream",
          "name": "stdout",
          "text": [
            "Mean squared error: 1675.5328553846193\n",
            "Mean absolute error: 29.54623444237543\n",
            "Training Accuracy: 0.8712743523244231\n",
            "Testing Accuracy: 0.775733492590592\n"
          ]
        }
      ]
    },
    {
      "cell_type": "code",
      "source": [
        "plt.scatter(range(len(Y_test)), Y_test, color='blue')\n",
        "plt.scatter(range(len(XGB_predict)), XGB_predict, color='red')\n",
        "plt.title(\"Model Evalution\")\n",
        "plt.show()"
      ],
      "metadata": {
        "id": "IRHrHfllBTjn",
        "colab": {
          "base_uri": "https://localhost:8080/",
          "height": 281
        },
        "outputId": "5f68051a-e569-4c30-e666-99ad81c69549"
      },
      "execution_count": 57,
      "outputs": [
        {
          "output_type": "display_data",
          "data": {
            "text/plain": [
              "<Figure size 432x288 with 1 Axes>"
            ],
            "image/png": "[encoded data removed]"
          },
          "metadata": {
            "needs_background": "light"
          }
        }
      ]
    }
  ],
  "metadata": {
    "kernelspec": {
      "display_name": "Python 3.10.5 64-bit",
      "language": "python",
      "name": "python3"
    },
    "language_info": {
      "codemirror_mode": {
        "name": "ipython",
        "version": 3
      },
      "file_extension": ".py",
      "mimetype": "text/x-python",
      "name": "python",
      "nbconvert_exporter": "python",
      "pygments_lexer": "ipython3",
      "version": "3.10.5"
    },
    "orig_nbformat": 4,
    "vscode": {
      "interpreter": {
        "hash": "9f0fd6338d4ee50d5cfda60dde76df1698816ba5df9385a69cc401a01ca73fa1"
      }
    },
    "colab": {
      "provenance": [],
      "collapsed_sections": [
        "nrNm9Ozg9ihb",
        "AarvP7Y_9ihc"
      ],
      "toc_visible": true,
      "include_colab_link": true
    }
  },
  "nbformat": 4,
  "nbformat_minor": 0
}
